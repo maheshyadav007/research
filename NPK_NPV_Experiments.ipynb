{
  "nbformat": 4,
  "nbformat_minor": 0,
  "metadata": {
    "colab": {
      "name": "NPK_NPV_Experiments.ipynb",
      "provenance": [],
      "collapsed_sections": [],
      "authorship_tag": "ABX9TyO7Yz1IWBImFC3U5hGN+PSB",
      "include_colab_link": true
    },
    "kernelspec": {
      "name": "python3",
      "display_name": "Python 3"
    },
    "language_info": {
      "name": "python"
    },
    "accelerator": "GPU"
  },
  "cells": [
    {
      "cell_type": "markdown",
      "metadata": {
        "id": "view-in-github",
        "colab_type": "text"
      },
      "source": [
        "<a href=\"https://colab.research.google.com/github/maheshyadav007/research/blob/main/NPK_NPV_Experiments.ipynb\" target=\"_parent\"><img src=\"https://colab.research.google.com/assets/colab-badge.svg\" alt=\"Open In Colab\"/></a>"
      ]
    },
    {
      "cell_type": "code",
      "metadata": {
        "id": "bCTVkM0Ndkgh"
      },
      "source": [
        "import numpy as np\n",
        "import pandas as pd\n",
        "import matplotlib.pyplot as plt\n",
        "import tensorflow as tf\n",
        "from tensorflow import keras\n",
        "from tensorflow.keras import layers\n",
        "from tensorflow.keras import Sequential\n",
        "from sklearn.utils import shuffle\n",
        "from sklearn.model_selection import train_test_split\n",
        "import keras.backend as K\n",
        "from sklearn.metrics import roc_auc_score\n",
        "from scipy.linalg import qr\n",
        "\n"
      ],
      "execution_count": null,
      "outputs": []
    },
    {
      "cell_type": "code",
      "metadata": {
        "id": "R0glYLmcd0yb"
      },
      "source": [
        "#X, Y = shuffle(X,Y)\n",
        "def split_data(X,Y):\n",
        "  x_train = []\n",
        "  y_train = []\n",
        "\n",
        "  x_train, x_val, y_train, y_val = train_test_split(X, Y, train_size=0.9)\n",
        "\n",
        "  x_train = np.array(x_train)\n",
        "  y_train = np.array(y_train)\n",
        "  x_val = np.array(x_val)\n",
        "  y_val = np.array(y_val)\n",
        "  \n",
        "  return x_train, y_train, x_val, y_val"
      ],
      "execution_count": null,
      "outputs": []
    },
    {
      "cell_type": "code",
      "metadata": {
        "colab": {
          "base_uri": "https://localhost:8080/",
          "height": 356
        },
        "id": "KUrnJQpod7XM",
        "outputId": "01e81de5-6ead-4202-cc6a-dc58ec592715"
      },
      "source": [
        "\n",
        "from keras.datasets import mnist\n",
        "from matplotlib import pyplot\n",
        "# load dataset\n",
        "(trainX, trainy), (testX, testy) = mnist.load_data()\n",
        "# summarize loaded dataset\n",
        "print('Train: X=%s, y=%s' % (trainX.shape, trainy.shape))\n",
        "print('Test: X=%s, y=%s' % (testX.shape, testy.shape))\n",
        "# plot first few images\n",
        "for i in range(9):\n",
        "\t# define subplot\n",
        "\tpyplot.subplot(330 + 1 + i)\n",
        "\t# plot raw pixel data\n",
        "\tpyplot.imshow(trainX[i], cmap=pyplot.get_cmap('gray'))\n",
        "# show the figure\n",
        "pyplot.show()"
      ],
      "execution_count": null,
      "outputs": [
        {
          "output_type": "stream",
          "text": [
            "Downloading data from https://storage.googleapis.com/tensorflow/tf-keras-datasets/mnist.npz\n",
            "11493376/11490434 [==============================] - 1s 0us/step\n",
            "11501568/11490434 [==============================] - 1s 0us/step\n",
            "Train: X=(60000, 28, 28), y=(60000,)\n",
            "Test: X=(10000, 28, 28), y=(10000,)\n"
          ],
          "name": "stdout"
        },
        {
          "output_type": "display_data",
          "data": {
            "image/png": "[encoded data removed]",
            "text/plain": [
              "<Figure size 432x288 with 9 Axes>"
            ]
          },
          "metadata": {
            "tags": [],
            "needs_background": "light"
          }
        }
      ]
    },
    {
      "cell_type": "code",
      "metadata": {
        "id": "HLH8jOesgXwJ"
      },
      "source": [
        "x_train, y_train, x_val, y_val = split_data(trainX,trainy)"
      ],
      "execution_count": null,
      "outputs": []
    },
    {
      "cell_type": "code",
      "metadata": {
        "colab": {
          "base_uri": "https://localhost:8080/"
        },
        "id": "b8cjn9VAfDdv",
        "outputId": "db5f4b80-c7a4-445b-ee0d-b66631d36249"
      },
      "source": [
        "epoch = 10\n",
        "model = Sequential()\n",
        "model.add(keras.layers.InputLayer(input_shape=(28,28)))\n",
        "model.add(keras.layers.experimental.preprocessing.Rescaling(scale=1.0 / 255))\n",
        "model.add(keras.layers.Flatten())\n",
        "model.add(keras.layers.Dense(128, activation=\"relu\", use_bias= False))\n",
        "model.add(keras.layers.Dense(128, activation=\"relu\", use_bias= False))\n",
        "model.add(keras.layers.Dense(128, activation=\"relu\", use_bias= False))\n",
        "model.add(keras.layers.Dense(128, activation=\"relu\", use_bias= False))\n",
        "model.add(keras.layers.Dense(128, activation=\"relu\", use_bias= False))\n",
        "model.add(keras.layers.Dense(10, activation=\"softmax\", use_bias= False))\n",
        "model.compile(optimizer=keras.optimizers.SGD(learning_rate=.1),loss=keras.losses.sparse_categorical_crossentropy, metrics = [\"accuracy\"])\n",
        "model.fit(x_train, y_train,batch_size=32, epochs=epoch, validation_data=(x_val,y_val))#,callbacks=[CustomCallback()])\n"
      ],
      "execution_count": null,
      "outputs": [
        {
          "output_type": "stream",
          "text": [
            "Epoch 1/10\n",
            "1688/1688 [==============================] - 7s 3ms/step - loss: 0.3367 - accuracy: 0.8960 - val_loss: 0.1695 - val_accuracy: 0.9505\n",
            "Epoch 2/10\n",
            "1688/1688 [==============================] - 5s 3ms/step - loss: 0.1265 - accuracy: 0.9622 - val_loss: 0.1449 - val_accuracy: 0.9560\n",
            "Epoch 3/10\n",
            "1688/1688 [==============================] - 5s 3ms/step - loss: 0.0910 - accuracy: 0.9726 - val_loss: 0.1223 - val_accuracy: 0.9618\n",
            "Epoch 4/10\n",
            "1688/1688 [==============================] - 5s 3ms/step - loss: 0.0705 - accuracy: 0.9778 - val_loss: 0.1696 - val_accuracy: 0.9527\n",
            "Epoch 5/10\n",
            "1688/1688 [==============================] - 5s 3ms/step - loss: 0.0566 - accuracy: 0.9824 - val_loss: 0.0994 - val_accuracy: 0.9730\n",
            "Epoch 6/10\n",
            "1688/1688 [==============================] - 5s 3ms/step - loss: 0.0461 - accuracy: 0.9856 - val_loss: 0.1602 - val_accuracy: 0.9577\n",
            "Epoch 7/10\n",
            "1688/1688 [==============================] - 5s 3ms/step - loss: 0.0387 - accuracy: 0.9879 - val_loss: 0.0927 - val_accuracy: 0.9770\n",
            "Epoch 8/10\n",
            "1688/1688 [==============================] - 5s 3ms/step - loss: 0.0327 - accuracy: 0.9895 - val_loss: 0.0921 - val_accuracy: 0.9757\n",
            "Epoch 9/10\n",
            "1688/1688 [==============================] - 5s 3ms/step - loss: 0.0299 - accuracy: 0.9901 - val_loss: 0.1353 - val_accuracy: 0.9695\n",
            "Epoch 10/10\n",
            "1688/1688 [==============================] - 5s 3ms/step - loss: 0.0267 - accuracy: 0.9915 - val_loss: 0.1025 - val_accuracy: 0.9747\n"
          ],
          "name": "stdout"
        },
        {
          "output_type": "execute_result",
          "data": {
            "text/plain": [
              "<keras.callbacks.History at 0x7fb356691ed0>"
            ]
          },
          "metadata": {
            "tags": []
          },
          "execution_count": 6
        }
      ]
    },
    {
      "cell_type": "code",
      "metadata": {
        "id": "tob3Znc2sq2c"
      },
      "source": [
        "npk_extractor = keras.Model(inputs=model.inputs,outputs=[layer.output for layer in model.layers])"
      ],
      "execution_count": null,
      "outputs": []
    },
    {
      "cell_type": "code",
      "metadata": {
        "id": "rMG7TcZltCoR"
      },
      "source": [
        "npk_features = npk_extractor(x_train)\n",
        "npk_features = npk_features[2:-1]"
      ],
      "execution_count": null,
      "outputs": []
    },
    {
      "cell_type": "code",
      "metadata": {
        "colab": {
          "base_uri": "https://localhost:8080/"
        },
        "id": "evuF0KaPfP-0",
        "outputId": "0c63298a-bf66-406f-8567-15f2387ab377"
      },
      "source": [
        "npk_features"
      ],
      "execution_count": null,
      "outputs": [
        {
          "output_type": "execute_result",
          "data": {
            "text/plain": [
              "[<tf.Tensor: shape=(54000, 128), dtype=float32, numpy=\n",
              " array([[0.0000000e+00, 0.0000000e+00, 2.8022462e-01, ..., 0.0000000e+00,\n",
              "         0.0000000e+00, 5.9240955e-01],\n",
              "        [0.0000000e+00, 0.0000000e+00, 2.5003896e+00, ..., 3.2521172e+00,\n",
              "         0.0000000e+00, 0.0000000e+00],\n",
              "        [0.0000000e+00, 3.0209930e+00, 0.0000000e+00, ..., 2.4982542e-03,\n",
              "         0.0000000e+00, 0.0000000e+00],\n",
              "        ...,\n",
              "        [2.8580117e-01, 0.0000000e+00, 2.9952648e+00, ..., 2.8832569e+00,\n",
              "         0.0000000e+00, 0.0000000e+00],\n",
              "        [0.0000000e+00, 0.0000000e+00, 0.0000000e+00, ..., 1.6258442e+00,\n",
              "         0.0000000e+00, 9.4742596e-01],\n",
              "        [0.0000000e+00, 0.0000000e+00, 0.0000000e+00, ..., 0.0000000e+00,\n",
              "         0.0000000e+00, 0.0000000e+00]], dtype=float32)>,\n",
              " <tf.Tensor: shape=(54000, 128), dtype=float32, numpy=\n",
              " array([[0.        , 0.        , 0.        , ..., 1.6029418 , 2.0050745 ,\n",
              "         0.        ],\n",
              "        [0.        , 0.        , 0.        , ..., 0.        , 0.        ,\n",
              "         0.        ],\n",
              "        [0.88593477, 0.        , 0.        , ..., 0.        , 0.12404643,\n",
              "         1.5161446 ],\n",
              "        ...,\n",
              "        [0.        , 0.        , 0.        , ..., 0.        , 0.        ,\n",
              "         0.        ],\n",
              "        [0.        , 0.        , 0.29300308, ..., 1.1367875 , 1.1626778 ,\n",
              "         0.19025198],\n",
              "        [0.        , 0.        , 1.822887  , ..., 0.        , 0.        ,\n",
              "         0.        ]], dtype=float32)>,\n",
              " <tf.Tensor: shape=(54000, 128), dtype=float32, numpy=\n",
              " array([[0.        , 0.94934464, 0.        , ..., 0.        , 0.49948695,\n",
              "         0.        ],\n",
              "        [0.        , 0.        , 0.        , ..., 0.        , 0.        ,\n",
              "         0.        ],\n",
              "        [0.        , 0.        , 1.4447603 , ..., 4.1691103 , 0.        ,\n",
              "         0.7337773 ],\n",
              "        ...,\n",
              "        [0.        , 0.41817534, 0.        , ..., 0.        , 0.        ,\n",
              "         0.        ],\n",
              "        [0.        , 0.        , 0.        , ..., 0.        , 0.14881623,\n",
              "         0.        ],\n",
              "        [0.        , 1.7473117 , 2.033675  , ..., 0.        , 1.1980301 ,\n",
              "         2.151366  ]], dtype=float32)>,\n",
              " <tf.Tensor: shape=(54000, 128), dtype=float32, numpy=\n",
              " array([[0.        , 0.25065416, 0.        , ..., 0.17179143, 0.49589914,\n",
              "         0.        ],\n",
              "        [0.        , 2.398297  , 0.3495168 , ..., 0.49262542, 1.1101896 ,\n",
              "         0.        ],\n",
              "        [0.        , 0.        , 0.6742685 , ..., 0.5861953 , 0.        ,\n",
              "         0.        ],\n",
              "        ...,\n",
              "        [0.        , 2.5463872 , 0.21345237, ..., 0.24265763, 1.2047575 ,\n",
              "         0.        ],\n",
              "        [0.        , 0.        , 0.        , ..., 0.44371527, 0.7913042 ,\n",
              "         0.        ],\n",
              "        [0.12913533, 0.        , 0.        , ..., 0.        , 1.458895  ,\n",
              "         0.        ]], dtype=float32)>,\n",
              " <tf.Tensor: shape=(54000, 128), dtype=float32, numpy=\n",
              " array([[0.47721982, 0.14154601, 0.1012218 , ..., 0.        , 0.        ,\n",
              "         2.7351968 ],\n",
              "        [1.2095158 , 0.        , 0.        , ..., 0.6510773 , 0.        ,\n",
              "         1.2828274 ],\n",
              "        [0.        , 0.        , 0.        , ..., 0.        , 0.        ,\n",
              "         0.9721122 ],\n",
              "        ...,\n",
              "        [1.1736895 , 0.        , 0.        , ..., 0.5591916 , 0.        ,\n",
              "         0.47177   ],\n",
              "        [0.22103328, 0.        , 0.0961628 , ..., 0.404485  , 0.        ,\n",
              "         1.4160597 ],\n",
              "        [0.        , 0.        , 0.        , ..., 0.        , 4.6346817 ,\n",
              "         1.690561  ]], dtype=float32)>]"
            ]
          },
          "metadata": {
            "tags": []
          },
          "execution_count": 9
        }
      ]
    },
    {
      "cell_type": "code",
      "metadata": {
        "id": "fpggfKYWs1XK"
      },
      "source": [
        "keras.utils.plot_model(, show_shapes = True, expand_nested=True)"
      ],
      "execution_count": null,
      "outputs": []
    },
    {
      "cell_type": "code",
      "metadata": {
        "id": "mshSmdGp4ZQO"
      },
      "source": [
        "x_dummy_train = np.ones(shape = (x_train.shape[0], 28,28))\n",
        "x_dummy_val = np.ones(shape = (x_val.shape[0], 28, 28))\n"
      ],
      "execution_count": null,
      "outputs": []
    },
    {
      "cell_type": "code",
      "metadata": {
        "id": "Wdv_8RW5LElg"
      },
      "source": [
        ""
      ],
      "execution_count": null,
      "outputs": []
    },
    {
      "cell_type": "code",
      "metadata": {
        "id": "RdTTOAR0oSYo"
      },
      "source": [
        "\n",
        "class GaLU(keras.layers.Layer):\n",
        "    def __init__(self, units=128, layer_n = 0, batch_size= 32):\n",
        "        super(GaLU, self).__init__()\n",
        "        self.units = units\n",
        "        self.start = -54\n",
        "        self.batch_size = batch_size\n",
        "        self.end = self.start + self.batch_size\n",
        "        self.layer_n = layer_n\n",
        "\n",
        "    def build(self, input_shape):\n",
        "      pass\n",
        "      \n",
        "    def call(self, inputs):\n",
        "      print( self.start,self.end, inputs.shape)\n",
        "      out = tf.math.multiply(inputs,tf.math.sign(npk_features[self.layer_n][self.start:self.end]))\n",
        "     \n",
        "      self.start = self.end\n",
        "      if self.start==54000:\n",
        "        self.start = 0\n",
        "      self.end = self.start + self.batch_size\n",
        "      if self.end >= 54000:\n",
        "        self.end = 54000\n",
        "      \n",
        "     \n",
        "      return out"
      ],
      "execution_count": null,
      "outputs": []
    },
    {
      "cell_type": "code",
      "metadata": {
        "id": "mr0REPP9Dnsx"
      },
      "source": [
        "start = 0\n",
        "batch_size = 32\n",
        "end = start + batch_size\n",
        "counter = 0\n",
        "def custom_activation(i,x):\n",
        "  global start\n",
        "  global end\n",
        "  global batch_size\n",
        "  global counter\n",
        "  print(i, start,end, x.shape)\n",
        "  \n",
        "  out = tf.math.multiply(x,tf.math.sign(npk_features[i][start:end]))\n",
        "    \n",
        "  if counter >= 5:\n",
        "    start = end % 54000\n",
        "    end = start + batch_size\n",
        "    if end > 54000:\n",
        "      end = 54000\n",
        "\n",
        "  counter += 1\n",
        "  #i += 1\n",
        "  return out\n",
        "  "
      ],
      "execution_count": null,
      "outputs": []
    },
    {
      "cell_type": "code",
      "metadata": {
        "id": "BPXro9poAOjm"
      },
      "source": [
        "def custom_relu(x):\n",
        "  return x"
      ],
      "execution_count": null,
      "outputs": []
    },
    {
      "cell_type": "code",
      "metadata": {
        "id": "XQYxv5UHs0pK"
      },
      "source": [
        "\n",
        "epoch = 10\n",
        "#model.add(keras.layers.InputLayer(input_shape=(784,)))\n",
        "\n",
        "inputs = keras.layers.Input(shape=(28,28))\n",
        "x = keras.layers.experimental.preprocessing.Rescaling(scale=1.0 / 255)(inputs)\n",
        "x = keras.layers.Flatten()(x)\n",
        "\n",
        "x = keras.layers.Dense(128, use_bias= False)(x)\n",
        "x = custom_activation(0,x)\n",
        "x = keras.layers.Lambda(custom_relu)(x)\n",
        "x = keras.layers.Dense(128, use_bias= False)(x)\n",
        "x = custom_activation(1,x)\n",
        "x = keras.layers.Lambda(custom_relu)(x)\n",
        "x = keras.layers.Dense(128, use_bias= False)(x)\n",
        "x = custom_activation(2,x)\n",
        "x = keras.layers.Lambda(custom_relu)(x)\n",
        "x = keras.layers.Dense(128, use_bias= False)(x)\n",
        "x = custom_activation(3,x)\n",
        "x = keras.layers.Lambda(custom_relu)(x)\n",
        "x = keras.layers.Dense(128, use_bias= False)(x)\n",
        "x = custom_activation(4,x)\n",
        "x = keras.layers.Lambda(custom_relu)(x)\n",
        "\n",
        "outputs = keras.layers.Dense(10, activation = \"softmax\", use_bias = False)(x)\n",
        "\n",
        "model = keras.Model(inputs=inputs, outputs=outputs)\n",
        "\n",
        "\n",
        "'''\n",
        "model.add(keras.layers.Dense(128, use_bias= False))\n",
        "model.add(GaLU(128, 0, batch_size))\n",
        "model.add(keras.layers.Dense(128, use_bias= False))\n",
        "model.add(GaLU(128, 1, batch_size))\n",
        "model.add(keras.layers.Dense(128, use_bias= False))\n",
        "model.add(GaLU(128, 2, batch_size))f\n",
        "model.add(keras.layers.Dense(128, use_bias= False))\n",
        "model.add(GaLU(128, 3, batch_size))\n",
        "model.add(keras.layers.Dense(128, use_bias= False))\n",
        "model.add(GaLU(128, 4, batch_size))\n",
        "'''\n",
        "'''\n",
        "\n",
        "model.add(keras.layers.Dense(128, use_bias= False))\n",
        "model.add(keras.layers.Activation(custom_activation))\n",
        "model.add(keras.layers.Dense(128, use_bias= False))\n",
        "model.add(keras.layers.Activation(custom_activation))\n",
        "model.add(keras.layers.Dense(128, use_bias= False))\n",
        "model.add(keras.layers.Activation(custom_activation))\n",
        "model.add(keras.layers.Dense(128, use_bias= False))\n",
        "model.add(keras.layers.Activation(custom_activation))\n",
        "model.add(keras.layers.Dense(128, use_bias= False))\n",
        "model.add(keras.layers.Activation(custom_activation))\n",
        "'''\n",
        "\n",
        "model.compile(optimizer=keras.optimizers.SGD(learning_rate=.01),loss=keras.losses.sparse_categorical_crossentropy, metrics = [\"accuracy\"])\n",
        "model.fit(x_train, y_train,batch_size=batch_size, epochs=epoch)#,callbacks=[CustomCallback()])\n"
      ],
      "execution_count": null,
      "outputs": []
    },
    {
      "cell_type": "code",
      "metadata": {
        "id": "Aj62eOixN_29",
        "colab": {
          "base_uri": "https://localhost:8080/"
        },
        "outputId": "b6aabd2d-3fa1-4996-f635-ba121720e681"
      },
      "source": [
        "npv_extractor = keras.Model(inputs=model.inputs,outputs=[layer.output for layer in model.layers])\n",
        "npv_features = npv_extractor(x_train[:54])"
      ],
      "execution_count": null,
      "outputs": [
        {
          "output_type": "stream",
          "text": [
            "0 162 216 (54, 128)\n",
            "1 162 216 (54, 128)\n",
            "2 162 216 (54, 128)\n",
            "3 162 216 (54, 128)\n",
            "4 162 216 (54, 128)\n"
          ],
          "name": "stdout"
        }
      ]
    },
    {
      "cell_type": "code",
      "metadata": {
        "id": "VlQXWVnWYVjf"
      },
      "source": [
        "npv_features  = npv_features[2:-1]"
      ],
      "execution_count": null,
      "outputs": []
    },
    {
      "cell_type": "code",
      "metadata": {
        "id": "kLOvaOwWg4sJ"
      },
      "source": [
        "keras.utils.plot_model(npv_extractor, show_shapes = True, expand_nested=True)"
      ],
      "execution_count": null,
      "outputs": []
    },
    {
      "cell_type": "code",
      "metadata": {
        "id": "u72fC11DUK5I"
      },
      "source": [
        "npv_features "
      ],
      "execution_count": null,
      "outputs": []
    },
    {
      "cell_type": "code",
      "metadata": {
        "id": "Py0s_6DyDS1l"
      },
      "source": [
        "import torch\n",
        "from torch import nn\n",
        "from torch.utils.data import Dataset\n",
        "\n",
        "from torch.utils.data import DataLoader\n",
        "from torchvision import datasets\n",
        "from torchvision.transforms import ToTensor, Lambda, Compose\n",
        "import matplotlib.pyplot as plt\n",
        "import torch.nn.functional as F\n"
      ],
      "execution_count": null,
      "outputs": []
    },
    {
      "cell_type": "code",
      "metadata": {
        "colab": {
          "base_uri": "https://localhost:8080/"
        },
        "id": "kOzdnzqZHK9w",
        "outputId": "e548683c-240e-4c50-db24-f34054bc8c9e"
      },
      "source": [
        "# Download training data from open datasets.\n",
        "training_data = datasets.MNIST(\n",
        "    root=\"data\",\n",
        "    train=True,\n",
        "    download=True,\n",
        "    transform=ToTensor(),\n",
        ")\n",
        "\n",
        "# Download test data from open datasets.\n",
        "test_data = datasets.MNIST(\n",
        "    root=\"data\",\n",
        "    train=False,\n",
        "    download=True,\n",
        "    transform=ToTensor(),\n",
        ")"
      ],
      "execution_count": null,
      "outputs": [
        {
          "output_type": "stream",
          "text": [
            "/usr/local/lib/python3.7/dist-packages/torchvision/datasets/mnist.py:498: UserWarning: The given NumPy array is not writeable, and PyTorch does not support non-writeable tensors. This means you can write to the underlying (supposedly non-writeable) NumPy array using the tensor. You may want to copy the array to protect its data or make it writeable before converting it to a tensor. This type of warning will be suppressed for the rest of this program. (Triggered internally at  /pytorch/torch/csrc/utils/tensor_numpy.cpp:180.)\n",
            "  return torch.from_numpy(parsed.astype(m[2], copy=False)).view(*s)\n"
          ],
          "name": "stderr"
        }
      ]
    },
    {
      "cell_type": "code",
      "metadata": {
        "colab": {
          "base_uri": "https://localhost:8080/",
          "height": 482
        },
        "id": "RYfYr72nKFGX",
        "outputId": "b43c5797-f430-4c50-a106-2ec5f394578c"
      },
      "source": [
        "labels_map = {\n",
        "    0: \"0\",\n",
        "    1: \"1\",\n",
        "    2: \"2\",\n",
        "    3: \"3\",\n",
        "    4: \"4\",\n",
        "    5: \"5\",\n",
        "    6: \"6\",\n",
        "    7: \"7\",\n",
        "    8: \"8\",\n",
        "    9: \"9\",\n",
        "}\n",
        "figure = plt.figure(figsize=(8, 8))\n",
        "cols, rows = 3, 3\n",
        "counter = 3\n",
        "for i in range(1, cols * rows + 1):\n",
        "    sample_idx = torch.randint(len(training_data), size=(1,)).item()\n",
        "    img, label = training_data[counter]\n",
        "    figure.add_subplot(rows, cols, i)\n",
        "    plt.title(labels_map[label])\n",
        "    plt.axis(\"off\")\n",
        "    plt.imshow(img.squeeze(), cmap=\"gray\")\n",
        "    counter += 1\n",
        "plt.show()\n"
      ],
      "execution_count": null,
      "outputs": [
        {
          "output_type": "display_data",
          "data": {
            "image/png": "[encoded data removed]",
            "text/plain": [
              "<Figure size 576x576 with 9 Axes>"
            ]
          },
          "metadata": {
            "tags": [],
            "needs_background": "light"
          }
        }
      ]
    },
    {
      "cell_type": "code",
      "metadata": {
        "id": "vNGbufnZIk6v"
      },
      "source": [
        ""
      ],
      "execution_count": null,
      "outputs": []
    },
    {
      "cell_type": "code",
      "metadata": {
        "id": "c7C9fpa-IyDY"
      },
      "source": [
        "def train(dataloader, model, loss_fn, optimizer):\n",
        "    size = len(dataloader.dataset)\n",
        "    correct = 0\n",
        "    for batch, (X, y) in enumerate(dataloader):\n",
        "        X, y = X.to(device), y.to(device)\n",
        "        #print(X.shape,y.shape)\n",
        "        # Compute prediction error\n",
        "        pred, _ = model(X)\n",
        "        loss = loss_fn(pred, y)\n",
        "\n",
        "        # Backpropagation\n",
        "        optimizer.zero_grad()\n",
        "        loss.backward()\n",
        "        optimizer.step()\n",
        "\n",
        "        if batch%100 == 0:\n",
        "            #correct += (pred.argmax(1) == y).type(torch.float).sum().item()\n",
        "            loss, current = loss.item(), batch * len(X)\n",
        "            print(f\"loss: {loss:>7f} Batch:{batch} [{current:>5d}/{size:>5d}]\")"
      ],
      "execution_count": null,
      "outputs": []
    },
    {
      "cell_type": "code",
      "metadata": {
        "id": "codFdUHmI0Y5"
      },
      "source": [
        "def test(dataloader, model, loss_fn):\n",
        "    size = len(dataloader.dataset)\n",
        "    num_batches = len(dataloader)\n",
        "    model.eval()\n",
        "    test_loss, correct = 0, 0\n",
        "    with torch.no_grad():\n",
        "        for X, y in dataloader:\n",
        "            X, y = X.to(device), y.to(device)\n",
        "            pred,_ = model(X)\n",
        "            test_loss += loss_fn(pred, y).item()\n",
        "            correct += (pred.argmax(1) == y).type(torch.float).sum().item()\n",
        "    test_loss /= num_batches\n",
        "    correct /= size\n",
        "    print(f\"Test Error: \\n Accuracy: {(100*correct):>0.1f}%, Avg loss: {test_loss:>8f} \\n\")"
      ],
      "execution_count": null,
      "outputs": []
    },
    {
      "cell_type": "code",
      "metadata": {
        "id": "MXjFoZO-3HAg"
      },
      "source": [
        "def get_activation_output(dataloader, model):\n",
        "    gate = []\n",
        "    count = 0\n",
        "    size = len(dataloader.dataset)\n",
        "    num_batches = len(dataloader)\n",
        "    model.eval()\n",
        "    with torch.no_grad():\n",
        "        for X, y in dataloader:\n",
        "            X, y = X.to(device), y.to(device)\n",
        "            _,gate  = model(X)\n",
        "            \n",
        "            '''\n",
        "            if count >= 1:\n",
        "              gate = np.vstack((gate,g))\n",
        "              \n",
        "            else:\n",
        "              gate = np.reshape(g, shape= (1,5))\n",
        "              count += 1\n",
        "           '''\n",
        "    return gate"
      ],
      "execution_count": null,
      "outputs": []
    },
    {
      "cell_type": "code",
      "metadata": {
        "colab": {
          "base_uri": "https://localhost:8080/"
        },
        "id": "NagMLyIsfI7u",
        "outputId": "2d5809d2-17f7-4e72-b6a6-dafbb035451a"
      },
      "source": [
        "device = \"cuda\" if torch.cuda.is_available() else \"cpu\"\n",
        "print(\"Using {} device\".format(device))\n",
        "\n",
        "class NPKNeuralNetwork(nn.Module):\n",
        "    def __init__(self):\n",
        "        super(NPKNeuralNetwork, self).__init__()\n",
        "        self.flatten = nn.Flatten()\n",
        "        self.fc1 = nn.Linear(784, 128)\n",
        "        self.fc2 = nn.Linear(128, 128)\n",
        "        self.fc3 = nn.Linear(128, 128)\n",
        "        self.fc4 = nn.Linear(128, 128)\n",
        "        self.fc5 = nn.Linear(128, 128)\n",
        "        self.fc6 = nn.Linear(128, 10)\n",
        "\n",
        "    def forward(self, x):\n",
        "        x = self.flatten(x)\n",
        "        x = self.fc1(x)\n",
        "        o1 = torch.relu(x)\n",
        "        x = self.fc2(o1)\n",
        "        o2 = torch.relu(x)\n",
        "        x = self.fc3(o2)\n",
        "        o3 = torch.relu(x)\n",
        "        x = self.fc4(o3)\n",
        "        o4 = torch.relu(x)\n",
        "        x = self.fc5(o4)\n",
        "        o5 = torch.relu(x)\n",
        "        x = self.fc6(o5)\n",
        "        x = torch.sigmoid(x)\n",
        "        return x, [o1,o2,o3,o4,o5]\n",
        "\n"
      ],
      "execution_count": null,
      "outputs": [
        {
          "output_type": "stream",
          "text": [
            "Using cuda device\n"
          ],
          "name": "stdout"
        }
      ]
    },
    {
      "cell_type": "code",
      "metadata": {
        "colab": {
          "base_uri": "https://localhost:8080/"
        },
        "id": "KUzRJzVQH93h",
        "outputId": "908cb78a-fbdf-400d-e1f1-0624a964ce3a"
      },
      "source": [
        "device = \"cuda\" if torch.cuda.is_available() else \"cpu\"\n",
        "print(\"Using {} device\".format(device))\n",
        "\n",
        "class NeuralNetwork(nn.Module):\n",
        "    def __init__(self):\n",
        "        super(NeuralNetwork, self).__init__()\n",
        "        self.flatten = nn.Flatten()\n",
        "        self.fc1 = nn.Linear(784, 128)\n",
        "        self.fc2 = nn.Linear(128, 128)\n",
        "        self.fc3 = nn.Linear(128, 128)\n",
        "        self.fc4 = nn.Linear(128, 128)\n",
        "        self.fc5 = nn.Linear(128, 128)\n",
        "        self.fc6 = nn.Linear(128, 10)\n",
        "\n",
        "    def forward(self, x):\n",
        "        x = self.flatten(x)\n",
        "        x = self.fc1(x)\n",
        "        o1 = custom_relu(0,x, )\n",
        "        x = self.fc2(o1)\n",
        "        o2 = custom_relu(1,x)\n",
        "        x = self.fc3(o2)\n",
        "        o3 = custom_relu(2,x)\n",
        "        x = self.fc4(o3)\n",
        "        o4 = custom_relu(3,x)\n",
        "        x = self.fc5(o4)\n",
        "        o5 = custom_relu(4,x)\n",
        "        x = self.fc6(o5)\n",
        "        x = torch.sigmoid(x)\n",
        "        return x,  [o1,o2,o3,o4,o5]\n",
        "\n"
      ],
      "execution_count": null,
      "outputs": [
        {
          "output_type": "stream",
          "text": [
            "Using cuda device\n"
          ],
          "name": "stdout"
        }
      ]
    },
    {
      "cell_type": "code",
      "metadata": {
        "id": "A2vt5vwqCMhw"
      },
      "source": [
        "batch_size = 32\n",
        "train_dataloader = DataLoader(training_data, batch_size=batch_size, shuffle=False)\n",
        "test_dataloader = DataLoader(test_data, batch_size=batch_size, shuffle=False)\n",
        "train_dataloader_all = DataLoader(training_data, batch_size=60000, shuffle=False)\n"
      ],
      "execution_count": null,
      "outputs": []
    },
    {
      "cell_type": "code",
      "metadata": {
        "colab": {
          "base_uri": "https://localhost:8080/"
        },
        "id": "EpA_IBHPI2dQ",
        "outputId": "2ccf20af-088b-44d5-a782-e70e7a796902"
      },
      "source": [
        "npk_model = NPKNeuralNetwork().to(device)\n",
        "loss_fn = nn.CrossEntropyLoss()\n",
        "optimizer = torch.optim.SGD(npk_model.parameters(), lr=1e-1)\n",
        "epochs = 10\n",
        "for t in range(epochs):\n",
        "    print(f\"Epoch {t+1}\\n-------------------------------\")\n",
        "    train(train_dataloader, npk_model, loss_fn, optimizer)\n",
        "    test(test_dataloader, npk_model, loss_fn)\n",
        "print(\"Done!\")"
      ],
      "execution_count": null,
      "outputs": [
        {
          "output_type": "stream",
          "text": [
            "Epoch 1\n",
            "-------------------------------\n",
            "loss: 2.303520 Batch:0 [    0/60000]\n",
            "loss: 2.300847 Batch:100 [ 3200/60000]\n",
            "loss: 2.301060 Batch:200 [ 6400/60000]\n",
            "loss: 2.300098 Batch:300 [ 9600/60000]\n",
            "loss: 2.302687 Batch:400 [12800/60000]\n",
            "loss: 2.304715 Batch:500 [16000/60000]\n",
            "loss: 2.302285 Batch:600 [19200/60000]\n",
            "loss: 2.297561 Batch:700 [22400/60000]\n",
            "loss: 2.300750 Batch:800 [25600/60000]\n",
            "loss: 2.280433 Batch:900 [28800/60000]\n",
            "loss: 2.298139 Batch:1000 [32000/60000]\n",
            "loss: 2.290489 Batch:1100 [35200/60000]\n",
            "loss: 2.192960 Batch:1200 [38400/60000]\n",
            "loss: 2.062230 Batch:1300 [41600/60000]\n",
            "loss: 1.931111 Batch:1400 [44800/60000]\n",
            "loss: 1.917096 Batch:1500 [48000/60000]\n",
            "loss: 1.890377 Batch:1600 [51200/60000]\n",
            "loss: 1.852658 Batch:1700 [54400/60000]\n",
            "loss: 1.832281 Batch:1800 [57600/60000]\n",
            "Test Error: \n",
            " Accuracy: 25.3%, Avg loss: 1.812321 \n",
            "\n",
            "Epoch 2\n",
            "-------------------------------\n",
            "loss: 1.858753 Batch:0 [    0/60000]\n",
            "loss: 1.857159 Batch:100 [ 3200/60000]\n",
            "loss: 1.706246 Batch:200 [ 6400/60000]\n",
            "loss: 1.758515 Batch:300 [ 9600/60000]\n",
            "loss: 1.766557 Batch:400 [12800/60000]\n",
            "loss: 1.816014 Batch:500 [16000/60000]\n",
            "loss: 1.694897 Batch:600 [19200/60000]\n",
            "loss: 1.696967 Batch:700 [22400/60000]\n",
            "loss: 1.737818 Batch:800 [25600/60000]\n",
            "loss: 1.662894 Batch:900 [28800/60000]\n",
            "loss: 1.665176 Batch:1000 [32000/60000]\n",
            "loss: 1.672918 Batch:1100 [35200/60000]\n",
            "loss: 1.687704 Batch:1200 [38400/60000]\n",
            "loss: 1.748898 Batch:1300 [41600/60000]\n",
            "loss: 1.622940 Batch:1400 [44800/60000]\n",
            "loss: 1.674379 Batch:1500 [48000/60000]\n",
            "loss: 1.687874 Batch:1600 [51200/60000]\n",
            "loss: 1.693509 Batch:1700 [54400/60000]\n",
            "loss: 1.613171 Batch:1800 [57600/60000]\n",
            "Test Error: \n",
            " Accuracy: 61.2%, Avg loss: 1.657096 \n",
            "\n",
            "Epoch 3\n",
            "-------------------------------\n",
            "loss: 1.709256 Batch:0 [    0/60000]\n",
            "loss: 1.735196 Batch:100 [ 3200/60000]\n",
            "loss: 1.620341 Batch:200 [ 6400/60000]\n",
            "loss: 1.631935 Batch:300 [ 9600/60000]\n",
            "loss: 1.604480 Batch:400 [12800/60000]\n",
            "loss: 1.691307 Batch:500 [16000/60000]\n",
            "loss: 1.608697 Batch:600 [19200/60000]\n",
            "loss: 1.585707 Batch:700 [22400/60000]\n",
            "loss: 1.649505 Batch:800 [25600/60000]\n",
            "loss: 1.599246 Batch:900 [28800/60000]\n",
            "loss: 1.675290 Batch:1000 [32000/60000]\n",
            "loss: 1.601581 Batch:1100 [35200/60000]\n",
            "loss: 1.586176 Batch:1200 [38400/60000]\n",
            "loss: 1.679714 Batch:1300 [41600/60000]\n",
            "loss: 1.621685 Batch:1400 [44800/60000]\n",
            "loss: 1.650323 Batch:1500 [48000/60000]\n",
            "loss: 1.631338 Batch:1600 [51200/60000]\n",
            "loss: 1.629105 Batch:1700 [54400/60000]\n",
            "loss: 1.604870 Batch:1800 [57600/60000]\n",
            "Test Error: \n",
            " Accuracy: 64.8%, Avg loss: 1.610343 \n",
            "\n",
            "Epoch 4\n",
            "-------------------------------\n",
            "loss: 1.663772 Batch:0 [    0/60000]\n",
            "loss: 1.663058 Batch:100 [ 3200/60000]\n",
            "loss: 1.587523 Batch:200 [ 6400/60000]\n",
            "loss: 1.567643 Batch:300 [ 9600/60000]\n",
            "loss: 1.563638 Batch:400 [12800/60000]\n",
            "loss: 1.650610 Batch:500 [16000/60000]\n",
            "loss: 1.604476 Batch:600 [19200/60000]\n",
            "loss: 1.553756 Batch:700 [22400/60000]\n",
            "loss: 1.607911 Batch:800 [25600/60000]\n",
            "loss: 1.521307 Batch:900 [28800/60000]\n",
            "loss: 1.642465 Batch:1000 [32000/60000]\n",
            "loss: 1.580717 Batch:1100 [35200/60000]\n",
            "loss: 1.608600 Batch:1200 [38400/60000]\n",
            "loss: 1.617178 Batch:1300 [41600/60000]\n",
            "loss: 1.568826 Batch:1400 [44800/60000]\n",
            "loss: 1.634231 Batch:1500 [48000/60000]\n",
            "loss: 1.558323 Batch:1600 [51200/60000]\n",
            "loss: 1.577014 Batch:1700 [54400/60000]\n",
            "loss: 1.576909 Batch:1800 [57600/60000]\n",
            "Test Error: \n",
            " Accuracy: 67.7%, Avg loss: 1.578289 \n",
            "\n",
            "Epoch 5\n",
            "-------------------------------\n",
            "loss: 1.639191 Batch:0 [    0/60000]\n",
            "loss: 1.528087 Batch:100 [ 3200/60000]\n",
            "loss: 1.592797 Batch:200 [ 6400/60000]\n",
            "loss: 1.597700 Batch:300 [ 9600/60000]\n",
            "loss: 1.527139 Batch:400 [12800/60000]\n",
            "loss: 1.596465 Batch:500 [16000/60000]\n",
            "loss: 1.577978 Batch:600 [19200/60000]\n",
            "loss: 1.543375 Batch:700 [22400/60000]\n",
            "loss: 1.567479 Batch:800 [25600/60000]\n",
            "loss: 1.512439 Batch:900 [28800/60000]\n",
            "loss: 1.590212 Batch:1000 [32000/60000]\n",
            "loss: 1.541474 Batch:1100 [35200/60000]\n",
            "loss: 1.568581 Batch:1200 [38400/60000]\n",
            "loss: 1.559936 Batch:1300 [41600/60000]\n",
            "loss: 1.541172 Batch:1400 [44800/60000]\n",
            "loss: 1.573273 Batch:1500 [48000/60000]\n",
            "loss: 1.527861 Batch:1600 [51200/60000]\n",
            "loss: 1.532375 Batch:1700 [54400/60000]\n",
            "loss: 1.538744 Batch:1800 [57600/60000]\n",
            "Test Error: \n",
            " Accuracy: 91.6%, Avg loss: 1.530514 \n",
            "\n",
            "Epoch 6\n",
            "-------------------------------\n",
            "loss: 1.595501 Batch:0 [    0/60000]\n",
            "loss: 1.493092 Batch:100 [ 3200/60000]\n",
            "loss: 1.535618 Batch:200 [ 6400/60000]\n",
            "loss: 1.502521 Batch:300 [ 9600/60000]\n",
            "loss: 1.478079 Batch:400 [12800/60000]\n",
            "loss: 1.571513 Batch:500 [16000/60000]\n",
            "loss: 1.494755 Batch:600 [19200/60000]\n",
            "loss: 1.482828 Batch:700 [22400/60000]\n",
            "loss: 1.558692 Batch:800 [25600/60000]\n",
            "loss: 1.469444 Batch:900 [28800/60000]\n",
            "loss: 1.580909 Batch:1000 [32000/60000]\n",
            "loss: 1.496927 Batch:1100 [35200/60000]\n",
            "loss: 1.557172 Batch:1200 [38400/60000]\n",
            "loss: 1.564459 Batch:1300 [41600/60000]\n",
            "loss: 1.511874 Batch:1400 [44800/60000]\n",
            "loss: 1.527841 Batch:1500 [48000/60000]\n",
            "loss: 1.497983 Batch:1600 [51200/60000]\n",
            "loss: 1.477883 Batch:1700 [54400/60000]\n",
            "loss: 1.513358 Batch:1800 [57600/60000]\n",
            "Test Error: \n",
            " Accuracy: 93.8%, Avg loss: 1.512425 \n",
            "\n",
            "Epoch 7\n",
            "-------------------------------\n",
            "loss: 1.536561 Batch:0 [    0/60000]\n",
            "loss: 1.466284 Batch:100 [ 3200/60000]\n",
            "loss: 1.555287 Batch:200 [ 6400/60000]\n",
            "loss: 1.484021 Batch:300 [ 9600/60000]\n",
            "loss: 1.477209 Batch:400 [12800/60000]\n",
            "loss: 1.500567 Batch:500 [16000/60000]\n",
            "loss: 1.478788 Batch:600 [19200/60000]\n",
            "loss: 1.489296 Batch:700 [22400/60000]\n",
            "loss: 1.502764 Batch:800 [25600/60000]\n",
            "loss: 1.465894 Batch:900 [28800/60000]\n",
            "loss: 1.502887 Batch:1000 [32000/60000]\n",
            "loss: 1.493585 Batch:1100 [35200/60000]\n",
            "loss: 1.551315 Batch:1200 [38400/60000]\n",
            "loss: 1.535501 Batch:1300 [41600/60000]\n",
            "loss: 1.501676 Batch:1400 [44800/60000]\n",
            "loss: 1.524114 Batch:1500 [48000/60000]\n",
            "loss: 1.505692 Batch:1600 [51200/60000]\n",
            "loss: 1.477160 Batch:1700 [54400/60000]\n",
            "loss: 1.509487 Batch:1800 [57600/60000]\n",
            "Test Error: \n",
            " Accuracy: 94.7%, Avg loss: 1.506181 \n",
            "\n",
            "Epoch 8\n",
            "-------------------------------\n",
            "loss: 1.508471 Batch:0 [    0/60000]\n",
            "loss: 1.473927 Batch:100 [ 3200/60000]\n",
            "loss: 1.527171 Batch:200 [ 6400/60000]\n",
            "loss: 1.463278 Batch:300 [ 9600/60000]\n",
            "loss: 1.469229 Batch:400 [12800/60000]\n",
            "loss: 1.507594 Batch:500 [16000/60000]\n",
            "loss: 1.488563 Batch:600 [19200/60000]\n",
            "loss: 1.467720 Batch:700 [22400/60000]\n",
            "loss: 1.473621 Batch:800 [25600/60000]\n",
            "loss: 1.462926 Batch:900 [28800/60000]\n",
            "loss: 1.482777 Batch:1000 [32000/60000]\n",
            "loss: 1.492775 Batch:1100 [35200/60000]\n",
            "loss: 1.499499 Batch:1200 [38400/60000]\n",
            "loss: 1.540606 Batch:1300 [41600/60000]\n",
            "loss: 1.512413 Batch:1400 [44800/60000]\n",
            "loss: 1.488817 Batch:1500 [48000/60000]\n",
            "loss: 1.483573 Batch:1600 [51200/60000]\n",
            "loss: 1.475778 Batch:1700 [54400/60000]\n",
            "loss: 1.505039 Batch:1800 [57600/60000]\n",
            "Test Error: \n",
            " Accuracy: 95.8%, Avg loss: 1.497913 \n",
            "\n",
            "Epoch 9\n",
            "-------------------------------\n",
            "loss: 1.495622 Batch:0 [    0/60000]\n",
            "loss: 1.467343 Batch:100 [ 3200/60000]\n",
            "loss: 1.528793 Batch:200 [ 6400/60000]\n",
            "loss: 1.470167 Batch:300 [ 9600/60000]\n",
            "loss: 1.470716 Batch:400 [12800/60000]\n",
            "loss: 1.498702 Batch:500 [16000/60000]\n",
            "loss: 1.467506 Batch:600 [19200/60000]\n",
            "loss: 1.464022 Batch:700 [22400/60000]\n",
            "loss: 1.473177 Batch:800 [25600/60000]\n",
            "loss: 1.465965 Batch:900 [28800/60000]\n",
            "loss: 1.478311 Batch:1000 [32000/60000]\n",
            "loss: 1.494129 Batch:1100 [35200/60000]\n",
            "loss: 1.544302 Batch:1200 [38400/60000]\n",
            "loss: 1.517006 Batch:1300 [41600/60000]\n",
            "loss: 1.500339 Batch:1400 [44800/60000]\n",
            "loss: 1.475248 Batch:1500 [48000/60000]\n",
            "loss: 1.464146 Batch:1600 [51200/60000]\n",
            "loss: 1.474285 Batch:1700 [54400/60000]\n",
            "loss: 1.498766 Batch:1800 [57600/60000]\n",
            "Test Error: \n",
            " Accuracy: 95.7%, Avg loss: 1.498941 \n",
            "\n",
            "Epoch 10\n",
            "-------------------------------\n",
            "loss: 1.496880 Batch:0 [    0/60000]\n",
            "loss: 1.498603 Batch:100 [ 3200/60000]\n",
            "loss: 1.491257 Batch:200 [ 6400/60000]\n",
            "loss: 1.468875 Batch:300 [ 9600/60000]\n",
            "loss: 1.473713 Batch:400 [12800/60000]\n",
            "loss: 1.521993 Batch:500 [16000/60000]\n",
            "loss: 1.468999 Batch:600 [19200/60000]\n",
            "loss: 1.461482 Batch:700 [22400/60000]\n",
            "loss: 1.467587 Batch:800 [25600/60000]\n",
            "loss: 1.462376 Batch:900 [28800/60000]\n",
            "loss: 1.484621 Batch:1000 [32000/60000]\n",
            "loss: 1.496253 Batch:1100 [35200/60000]\n",
            "loss: 1.497074 Batch:1200 [38400/60000]\n",
            "loss: 1.503472 Batch:1300 [41600/60000]\n",
            "loss: 1.502350 Batch:1400 [44800/60000]\n",
            "loss: 1.473478 Batch:1500 [48000/60000]\n",
            "loss: 1.465648 Batch:1600 [51200/60000]\n",
            "loss: 1.468007 Batch:1700 [54400/60000]\n",
            "loss: 1.498761 Batch:1800 [57600/60000]\n",
            "Test Error: \n",
            " Accuracy: 96.2%, Avg loss: 1.493699 \n",
            "\n",
            "Done!\n"
          ],
          "name": "stdout"
        }
      ]
    },
    {
      "cell_type": "code",
      "metadata": {
        "id": "TG1eSLPy5eqV"
      },
      "source": [
        "npk_features = get_activation_output(train_dataloader_all, npk_model)"
      ],
      "execution_count": null,
      "outputs": []
    },
    {
      "cell_type": "code",
      "metadata": {
        "id": "2Rlh2bwsStCk"
      },
      "source": [
        "npk_features[0] = npk_features[0].detach()\n",
        "npk_features[1] = npk_features[1].detach()\n",
        "npk_features[2] = npk_features[2].detach()\n",
        "npk_features[3] = npk_features[3].detach()\n",
        "npk_features[4] = npk_features[4].detach()\n"
      ],
      "execution_count": null,
      "outputs": []
    },
    {
      "cell_type": "code",
      "metadata": {
        "id": "9kAjeNUTUQu6"
      },
      "source": [
        "start = 0\n",
        "count = 0\n",
        "def custom_relu(i,x):\n",
        "  global start\n",
        "  global batch_size\n",
        "  global count\n",
        "  \n",
        "  #npk_features_tensor = t(npk_features[i][start:end].detach()))\n",
        "  #npk_features_tensor = npk_features_tensor.to(device)\n",
        "  end = start + x.shape[0]\n",
        "  #print(count, start,end, x.shape,npk_features[i][start:end].shape)\n",
        "\n",
        "  out = torch.mul(x,torch.sign(npk_features[i][start:end]))\n",
        "  \n",
        "  if i == 4:\n",
        "    count += 1\n",
        "    start = end \n",
        "    if x.shape[0] < batch_size:\n",
        "      print(count,start, end,  x.shape[0])\n",
        "      start = 0\n",
        "      count = 0\n",
        "    if start == 60000:\n",
        "      print(count,start, end,  x.shape[0])\n",
        "      start = 0\n",
        "      count = 0\n",
        "  \n",
        "  return out\n",
        "  "
      ],
      "execution_count": null,
      "outputs": []
    },
    {
      "cell_type": "code",
      "metadata": {
        "id": "ZC2UC3tGcQJS"
      },
      "source": [
        "class CustomImageDataset(Dataset):\n",
        "    def __init__(self, size = 60000):\n",
        "        self.size = size\n",
        "        self.x = torch.ones(60000,784)\n",
        "        self.y = torch.tensor([x for _,x in training_data])\n",
        "\n",
        "    def __len__(self):\n",
        "        return (self.size)\n",
        "\n",
        "    def __getitem__(self, idx):\n",
        "        #print(self.x[idx].shape,self.y[idx].shape )\n",
        "        return self.x[idx], self.y[idx]"
      ],
      "execution_count": null,
      "outputs": []
    },
    {
      "cell_type": "code",
      "metadata": {
        "id": "AM_4UVkPnHog"
      },
      "source": [
        "x_dummy_dataloader_all = DataLoader(CustomImageDataset(), batch_size=60000, shuffle=False)"
      ],
      "execution_count": null,
      "outputs": []
    },
    {
      "cell_type": "code",
      "metadata": {
        "id": "QG12YwH9Xfb_"
      },
      "source": [
        "x_dummy_dataloader = DataLoader(CustomImageDataset(), batch_size=batch_size, shuffle=False)"
      ],
      "execution_count": null,
      "outputs": []
    },
    {
      "cell_type": "code",
      "metadata": {
        "colab": {
          "base_uri": "https://localhost:8080/"
        },
        "id": "GhbrbxQ0B6E5",
        "outputId": "80942244-1734-4abf-a198-8eaacf3df052"
      },
      "source": [
        "npv_model = NeuralNetwork().to(device)\n",
        "loss_fn = nn.CrossEntropyLoss()\n",
        "optimizer = torch.optim.SGD(npv_model.parameters(), lr=1e-1)\n",
        "epochs = 10\n",
        "\n",
        "for t in range(epochs):\n",
        "    print(f\"Epoch {t+1}\\n-------------------------------\")\n",
        "    train(x_dummy_dataloader, npv_model, loss_fn, optimizer)\n",
        "    test(x_dummy_dataloader, npv_model, loss_fn)\n",
        "print(\"Done!\")"
      ],
      "execution_count": null,
      "outputs": [
        {
          "output_type": "stream",
          "text": [
            "Epoch 1\n",
            "-------------------------------\n",
            "loss: 2.300483 Batch:0 [    0/60000]\n",
            "loss: 2.281097 Batch:100 [ 3200/60000]\n",
            "loss: 1.726893 Batch:200 [ 6400/60000]\n",
            "loss: 1.518400 Batch:300 [ 9600/60000]\n",
            "loss: 1.477747 Batch:400 [12800/60000]\n",
            "loss: 1.518617 Batch:500 [16000/60000]\n",
            "loss: 1.477794 Batch:600 [19200/60000]\n",
            "loss: 1.464655 Batch:700 [22400/60000]\n",
            "loss: 1.478743 Batch:800 [25600/60000]\n",
            "loss: 1.461625 Batch:900 [28800/60000]\n",
            "loss: 1.483799 Batch:1000 [32000/60000]\n",
            "loss: 1.495897 Batch:1100 [35200/60000]\n",
            "loss: 1.496146 Batch:1200 [38400/60000]\n",
            "loss: 1.513319 Batch:1300 [41600/60000]\n",
            "loss: 1.494576 Batch:1400 [44800/60000]\n",
            "loss: 1.467272 Batch:1500 [48000/60000]\n",
            "loss: 1.465674 Batch:1600 [51200/60000]\n",
            "loss: 1.470124 Batch:1700 [54400/60000]\n",
            "loss: 1.526213 Batch:1800 [57600/60000]\n",
            "1875 60000 60000 32\n",
            "1875 60000 60000 32\n",
            "Test Error: \n",
            " Accuracy: 97.0%, Avg loss: 1.487714 \n",
            "\n",
            "Epoch 2\n",
            "-------------------------------\n",
            "loss: 1.492480 Batch:0 [    0/60000]\n",
            "loss: 1.470164 Batch:100 [ 3200/60000]\n",
            "loss: 1.521769 Batch:200 [ 6400/60000]\n",
            "loss: 1.496223 Batch:300 [ 9600/60000]\n",
            "loss: 1.475521 Batch:400 [12800/60000]\n",
            "loss: 1.515028 Batch:500 [16000/60000]\n",
            "loss: 1.478666 Batch:600 [19200/60000]\n",
            "loss: 1.461214 Batch:700 [22400/60000]\n",
            "loss: 1.465455 Batch:800 [25600/60000]\n",
            "loss: 1.461733 Batch:900 [28800/60000]\n",
            "loss: 1.501121 Batch:1000 [32000/60000]\n",
            "loss: 1.492330 Batch:1100 [35200/60000]\n",
            "loss: 1.496193 Batch:1200 [38400/60000]\n",
            "loss: 1.493792 Batch:1300 [41600/60000]\n",
            "loss: 1.494729 Batch:1400 [44800/60000]\n",
            "loss: 1.467106 Batch:1500 [48000/60000]\n",
            "loss: 1.465483 Batch:1600 [51200/60000]\n",
            "loss: 1.470506 Batch:1700 [54400/60000]\n",
            "loss: 1.512380 Batch:1800 [57600/60000]\n",
            "1875 60000 60000 32\n",
            "1875 60000 60000 32\n",
            "Test Error: \n",
            " Accuracy: 97.2%, Avg loss: 1.485516 \n",
            "\n",
            "Epoch 3\n",
            "-------------------------------\n",
            "loss: 1.491895 Batch:0 [    0/60000]\n",
            "loss: 1.466009 Batch:100 [ 3200/60000]\n",
            "loss: 1.500788 Batch:200 [ 6400/60000]\n",
            "loss: 1.496705 Batch:300 [ 9600/60000]\n",
            "loss: 1.473981 Batch:400 [12800/60000]\n",
            "loss: 1.515106 Batch:500 [16000/60000]\n",
            "loss: 1.475314 Batch:600 [19200/60000]\n",
            "loss: 1.465427 Batch:700 [22400/60000]\n",
            "loss: 1.466576 Batch:800 [25600/60000]\n",
            "loss: 1.465446 Batch:900 [28800/60000]\n",
            "loss: 1.500981 Batch:1000 [32000/60000]\n",
            "loss: 1.492043 Batch:1100 [35200/60000]\n",
            "loss: 1.492543 Batch:1200 [38400/60000]\n",
            "loss: 1.473350 Batch:1300 [41600/60000]\n",
            "loss: 1.492456 Batch:1400 [44800/60000]\n",
            "loss: 1.471678 Batch:1500 [48000/60000]\n",
            "loss: 1.465434 Batch:1600 [51200/60000]\n",
            "loss: 1.465650 Batch:1700 [54400/60000]\n",
            "loss: 1.507607 Batch:1800 [57600/60000]\n",
            "1875 60000 60000 32\n",
            "1875 60000 60000 32\n",
            "Test Error: \n",
            " Accuracy: 97.2%, Avg loss: 1.485430 \n",
            "\n",
            "Epoch 4\n",
            "-------------------------------\n",
            "loss: 1.496194 Batch:0 [    0/60000]\n",
            "loss: 1.474012 Batch:100 [ 3200/60000]\n",
            "loss: 1.525046 Batch:200 [ 6400/60000]\n",
            "loss: 1.492442 Batch:300 [ 9600/60000]\n",
            "loss: 1.465343 Batch:400 [12800/60000]\n",
            "loss: 1.509571 Batch:500 [16000/60000]\n",
            "loss: 1.472921 Batch:600 [19200/60000]\n",
            "loss: 1.461154 Batch:700 [22400/60000]\n",
            "loss: 1.465470 Batch:800 [25600/60000]\n",
            "loss: 1.461175 Batch:900 [28800/60000]\n",
            "loss: 1.485883 Batch:1000 [32000/60000]\n",
            "loss: 1.496682 Batch:1100 [35200/60000]\n",
            "loss: 1.492399 Batch:1200 [38400/60000]\n",
            "loss: 1.499322 Batch:1300 [41600/60000]\n",
            "loss: 1.497546 Batch:1400 [44800/60000]\n",
            "loss: 1.469116 Batch:1500 [48000/60000]\n",
            "loss: 1.465459 Batch:1600 [51200/60000]\n",
            "loss: 1.465738 Batch:1700 [54400/60000]\n",
            "loss: 1.510650 Batch:1800 [57600/60000]\n",
            "1875 60000 60000 32\n",
            "1875 60000 60000 32\n",
            "Test Error: \n",
            " Accuracy: 97.2%, Avg loss: 1.484778 \n",
            "\n",
            "Epoch 5\n",
            "-------------------------------\n",
            "loss: 1.494158 Batch:0 [    0/60000]\n",
            "loss: 1.465406 Batch:100 [ 3200/60000]\n",
            "loss: 1.497855 Batch:200 [ 6400/60000]\n",
            "loss: 1.495214 Batch:300 [ 9600/60000]\n",
            "loss: 1.465860 Batch:400 [12800/60000]\n",
            "loss: 1.501003 Batch:500 [16000/60000]\n",
            "loss: 1.474061 Batch:600 [19200/60000]\n",
            "loss: 1.461843 Batch:700 [22400/60000]\n",
            "loss: 1.461174 Batch:800 [25600/60000]\n",
            "loss: 1.461166 Batch:900 [28800/60000]\n",
            "loss: 1.474189 Batch:1000 [32000/60000]\n",
            "loss: 1.492643 Batch:1100 [35200/60000]\n",
            "loss: 1.492372 Batch:1200 [38400/60000]\n",
            "loss: 1.474494 Batch:1300 [41600/60000]\n",
            "loss: 1.500352 Batch:1400 [44800/60000]\n",
            "loss: 1.466307 Batch:1500 [48000/60000]\n",
            "loss: 1.465434 Batch:1600 [51200/60000]\n",
            "loss: 1.465491 Batch:1700 [54400/60000]\n",
            "loss: 1.511427 Batch:1800 [57600/60000]\n",
            "1875 60000 60000 32\n",
            "1875 60000 60000 32\n",
            "Test Error: \n",
            " Accuracy: 97.3%, Avg loss: 1.483999 \n",
            "\n",
            "Epoch 6\n",
            "-------------------------------\n",
            "loss: 1.492406 Batch:0 [    0/60000]\n",
            "loss: 1.465426 Batch:100 [ 3200/60000]\n",
            "loss: 1.497271 Batch:200 [ 6400/60000]\n",
            "loss: 1.493584 Batch:300 [ 9600/60000]\n",
            "loss: 1.465889 Batch:400 [12800/60000]\n",
            "loss: 1.500986 Batch:500 [16000/60000]\n",
            "loss: 1.468624 Batch:600 [19200/60000]\n",
            "loss: 1.461801 Batch:700 [22400/60000]\n",
            "loss: 1.465454 Batch:800 [25600/60000]\n",
            "loss: 1.461152 Batch:900 [28800/60000]\n",
            "loss: 1.485967 Batch:1000 [32000/60000]\n",
            "loss: 1.496670 Batch:1100 [35200/60000]\n",
            "loss: 1.492720 Batch:1200 [38400/60000]\n",
            "loss: 1.466734 Batch:1300 [41600/60000]\n",
            "loss: 1.497378 Batch:1400 [44800/60000]\n",
            "loss: 1.465862 Batch:1500 [48000/60000]\n",
            "loss: 1.478727 Batch:1600 [51200/60000]\n",
            "loss: 1.469692 Batch:1700 [54400/60000]\n",
            "loss: 1.527092 Batch:1800 [57600/60000]\n",
            "1875 60000 60000 32\n",
            "1875 60000 60000 32\n",
            "Test Error: \n",
            " Accuracy: 97.3%, Avg loss: 1.484976 \n",
            "\n",
            "Epoch 7\n",
            "-------------------------------\n",
            "loss: 1.492402 Batch:0 [    0/60000]\n",
            "loss: 1.466650 Batch:100 [ 3200/60000]\n",
            "loss: 1.496697 Batch:200 [ 6400/60000]\n",
            "loss: 1.497149 Batch:300 [ 9600/60000]\n",
            "loss: 1.473866 Batch:400 [12800/60000]\n",
            "loss: 1.525553 Batch:500 [16000/60000]\n",
            "loss: 1.473959 Batch:600 [19200/60000]\n",
            "loss: 1.461151 Batch:700 [22400/60000]\n",
            "loss: 1.464028 Batch:800 [25600/60000]\n",
            "loss: 1.461494 Batch:900 [28800/60000]\n",
            "loss: 1.472004 Batch:1000 [32000/60000]\n",
            "loss: 1.496683 Batch:1100 [35200/60000]\n",
            "loss: 1.492391 Batch:1200 [38400/60000]\n",
            "loss: 1.477726 Batch:1300 [41600/60000]\n",
            "loss: 1.494823 Batch:1400 [44800/60000]\n",
            "loss: 1.469408 Batch:1500 [48000/60000]\n",
            "loss: 1.492056 Batch:1600 [51200/60000]\n",
            "loss: 1.461290 Batch:1700 [54400/60000]\n",
            "loss: 1.497901 Batch:1800 [57600/60000]\n",
            "1875 60000 60000 32\n",
            "1875 60000 60000 32\n",
            "Test Error: \n",
            " Accuracy: 97.3%, Avg loss: 1.483983 \n",
            "\n",
            "Epoch 8\n",
            "-------------------------------\n",
            "loss: 1.492402 Batch:0 [    0/60000]\n",
            "loss: 1.469740 Batch:100 [ 3200/60000]\n",
            "loss: 1.498958 Batch:200 [ 6400/60000]\n",
            "loss: 1.496305 Batch:300 [ 9600/60000]\n",
            "loss: 1.468586 Batch:400 [12800/60000]\n",
            "loss: 1.517419 Batch:500 [16000/60000]\n",
            "loss: 1.476069 Batch:600 [19200/60000]\n",
            "loss: 1.461151 Batch:700 [22400/60000]\n",
            "loss: 1.464147 Batch:800 [25600/60000]\n",
            "loss: 1.461152 Batch:900 [28800/60000]\n",
            "loss: 1.475502 Batch:1000 [32000/60000]\n",
            "loss: 1.496678 Batch:1100 [35200/60000]\n",
            "loss: 1.491897 Batch:1200 [38400/60000]\n",
            "loss: 1.473549 Batch:1300 [41600/60000]\n",
            "loss: 1.472871 Batch:1400 [44800/60000]\n",
            "loss: 1.467765 Batch:1500 [48000/60000]\n",
            "loss: 1.465286 Batch:1600 [51200/60000]\n",
            "loss: 1.465495 Batch:1700 [54400/60000]\n",
            "loss: 1.507702 Batch:1800 [57600/60000]\n",
            "1875 60000 60000 32\n",
            "1875 60000 60000 32\n",
            "Test Error: \n",
            " Accuracy: 97.4%, Avg loss: 1.483068 \n",
            "\n",
            "Epoch 9\n",
            "-------------------------------\n",
            "loss: 1.492402 Batch:0 [    0/60000]\n",
            "loss: 1.465428 Batch:100 [ 3200/60000]\n",
            "loss: 1.500916 Batch:200 [ 6400/60000]\n",
            "loss: 1.496680 Batch:300 [ 9600/60000]\n",
            "loss: 1.469287 Batch:400 [12800/60000]\n",
            "loss: 1.514142 Batch:500 [16000/60000]\n",
            "loss: 1.478108 Batch:600 [19200/60000]\n",
            "loss: 1.461152 Batch:700 [22400/60000]\n",
            "loss: 1.462729 Batch:800 [25600/60000]\n",
            "loss: 1.461151 Batch:900 [28800/60000]\n",
            "loss: 1.473287 Batch:1000 [32000/60000]\n",
            "loss: 1.496663 Batch:1100 [35200/60000]\n",
            "loss: 1.492565 Batch:1200 [38400/60000]\n",
            "loss: 1.492302 Batch:1300 [41600/60000]\n",
            "loss: 1.470216 Batch:1400 [44800/60000]\n",
            "loss: 1.469428 Batch:1500 [48000/60000]\n",
            "loss: 1.473622 Batch:1600 [51200/60000]\n",
            "loss: 1.469772 Batch:1700 [54400/60000]\n",
            "loss: 1.500952 Batch:1800 [57600/60000]\n",
            "1875 60000 60000 32\n",
            "1875 60000 60000 32\n",
            "Test Error: \n",
            " Accuracy: 97.1%, Avg loss: 1.483975 \n",
            "\n",
            "Epoch 10\n",
            "-------------------------------\n",
            "loss: 1.492402 Batch:0 [    0/60000]\n",
            "loss: 1.465564 Batch:100 [ 3200/60000]\n",
            "loss: 1.496684 Batch:200 [ 6400/60000]\n",
            "loss: 1.497348 Batch:300 [ 9600/60000]\n",
            "loss: 1.469386 Batch:400 [12800/60000]\n",
            "loss: 1.523587 Batch:500 [16000/60000]\n",
            "loss: 1.473985 Batch:600 [19200/60000]\n",
            "loss: 1.461427 Batch:700 [22400/60000]\n",
            "loss: 1.461151 Batch:800 [25600/60000]\n",
            "loss: 1.461169 Batch:900 [28800/60000]\n",
            "loss: 1.478434 Batch:1000 [32000/60000]\n",
            "loss: 1.496677 Batch:1100 [35200/60000]\n",
            "loss: 1.495601 Batch:1200 [38400/60000]\n",
            "loss: 1.466990 Batch:1300 [41600/60000]\n",
            "loss: 1.498778 Batch:1400 [44800/60000]\n",
            "loss: 1.466713 Batch:1500 [48000/60000]\n",
            "loss: 1.465427 Batch:1600 [51200/60000]\n",
            "loss: 1.465492 Batch:1700 [54400/60000]\n",
            "loss: 1.512935 Batch:1800 [57600/60000]\n",
            "1875 60000 60000 32\n",
            "1875 60000 60000 32\n",
            "Test Error: \n",
            " Accuracy: 97.4%, Avg loss: 1.482656 \n",
            "\n",
            "Done!\n"
          ],
          "name": "stdout"
        }
      ]
    },
    {
      "cell_type": "code",
      "metadata": {
        "colab": {
          "base_uri": "https://localhost:8080/"
        },
        "id": "1V-Dq0lKH3Q4",
        "outputId": "12b6f6c9-6e5c-4466-c428-1d3e15dd0c3b"
      },
      "source": [
        "test(x_dummy_dataloader, npv_model, loss_fn)"
      ],
      "execution_count": null,
      "outputs": [
        {
          "output_type": "stream",
          "text": [
            "1875 60000 60000 32\n",
            "Test Error: \n",
            " Accuracy: 97.4%, Avg loss: 1.482656 \n",
            "\n"
          ],
          "name": "stdout"
        }
      ]
    },
    {
      "cell_type": "code",
      "metadata": {
        "colab": {
          "base_uri": "https://localhost:8080/"
        },
        "id": "GFLJ5wDuOjl2",
        "outputId": "34abe13b-76fa-4f44-f236-4c7ebfcd5245"
      },
      "source": [
        "npv_features = get_activation_output(train_dataloader_all, npv_model)"
      ],
      "execution_count": null,
      "outputs": [
        {
          "output_type": "stream",
          "text": [
            "1 60000 60000 60000\n"
          ],
          "name": "stdout"
        }
      ]
    },
    {
      "cell_type": "code",
      "metadata": {
        "colab": {
          "base_uri": "https://localhost:8080/"
        },
        "id": "W802gAI_nkwa",
        "outputId": "00540b71-c682-4fdb-b04e-c117e4006f29"
      },
      "source": [
        "npk_features"
      ],
      "execution_count": null,
      "outputs": [
        {
          "output_type": "execute_result",
          "data": {
            "text/plain": [
              "[tensor([[0.0000, 0.0000, 0.0000,  ..., 0.0000, 0.1445, 0.0000],\n",
              "         [0.0000, 0.0000, 0.0000,  ..., 0.0000, 0.0000, 0.0000],\n",
              "         [0.9706, 1.1460, 0.0000,  ..., 0.0000, 0.0000, 0.3695],\n",
              "         ...,\n",
              "         [0.0000, 0.0000, 0.0478,  ..., 0.0000, 0.0000, 0.5184],\n",
              "         [0.0733, 0.0000, 0.0000,  ..., 0.0000, 0.0000, 0.0000],\n",
              "         [0.0000, 0.0000, 0.2388,  ..., 0.0000, 0.6036, 0.7320]],\n",
              "        device='cuda:0'),\n",
              " tensor([[1.3773, 1.5552, 0.3290,  ..., 0.9093, 0.6695, 1.4113],\n",
              "         [2.3106, 2.3575, 0.0000,  ..., 0.0000, 0.0000, 0.0000],\n",
              "         [0.0000, 0.0000, 0.0765,  ..., 0.0000, 0.0000, 0.0841],\n",
              "         ...,\n",
              "         [1.3608, 1.7373, 0.0000,  ..., 1.1201, 0.8647, 1.7885],\n",
              "         [0.8850, 0.8192, 0.0000,  ..., 0.0000, 0.0000, 0.0000],\n",
              "         [0.3168, 0.0000, 0.0000,  ..., 0.0664, 0.3493, 0.5734]],\n",
              "        device='cuda:0'),\n",
              " tensor([[0.0000e+00, 7.5501e-01, 8.6100e-01,  ..., 0.0000e+00, 2.3590e+00,\n",
              "          1.1204e+00],\n",
              "         [0.0000e+00, 2.5445e+00, 3.3580e-01,  ..., 0.0000e+00, 4.6407e+00,\n",
              "          6.8284e-01],\n",
              "         [6.4876e-01, 3.0748e-01, 9.5799e-02,  ..., 0.0000e+00, 7.8412e-01,\n",
              "          1.8218e-03],\n",
              "         ...,\n",
              "         [0.0000e+00, 1.2955e+00, 1.7595e+00,  ..., 0.0000e+00, 4.5256e+00,\n",
              "          1.6071e+00],\n",
              "         [0.0000e+00, 6.3365e-01, 1.3228e+00,  ..., 0.0000e+00, 1.1953e+00,\n",
              "          2.2661e-02],\n",
              "         [6.9403e-01, 6.2054e-02, 1.7521e+00,  ..., 0.0000e+00, 1.5038e+00,\n",
              "          1.0222e-01]], device='cuda:0'),\n",
              " tensor([[0.0000, 1.9284, 2.3774,  ..., 1.4951, 1.7771, 1.3612],\n",
              "         [0.1273, 1.2358, 3.9626,  ..., 0.0355, 1.4661, 0.0000],\n",
              "         [0.0000, 0.0000, 0.4461,  ..., 0.0000, 0.0000, 0.0400],\n",
              "         ...,\n",
              "         [0.0000, 2.7449, 4.2979,  ..., 2.3556, 2.2874, 1.8229],\n",
              "         [0.0000, 0.0000, 1.1001,  ..., 0.0000, 0.0000, 0.0576],\n",
              "         [0.0000, 0.0960, 1.1410,  ..., 1.7168, 0.0000, 1.4597]],\n",
              "        device='cuda:0'),\n",
              " tensor([[ 5.4468,  2.2319, 14.1734,  ...,  7.9347, 12.7444,  0.0000],\n",
              "         [13.9904,  4.1120, 12.7955,  ..., 12.8702, 17.7166,  0.0000],\n",
              "         [ 1.7386,  0.0000,  0.0000,  ...,  0.6539,  0.0000,  0.0000],\n",
              "         ...,\n",
              "         [ 9.2291,  3.1803, 19.0199,  ..., 12.2994, 17.3618,  0.0000],\n",
              "         [ 0.7138,  0.0000,  2.3026,  ...,  2.4850,  5.3944,  2.6533],\n",
              "         [ 0.0000,  0.0000,  0.0000,  ...,  1.8303,  0.0000,  0.0000]],\n",
              "        device='cuda:0')]"
            ]
          },
          "metadata": {
            "tags": []
          },
          "execution_count": 33
        }
      ]
    },
    {
      "cell_type": "code",
      "metadata": {
        "colab": {
          "base_uri": "https://localhost:8080/"
        },
        "id": "UgXlmJH-nir_",
        "outputId": "f8d1581f-9543-4723-b986-f4399f3160ba"
      },
      "source": [
        "npv_features"
      ],
      "execution_count": null,
      "outputs": [
        {
          "output_type": "execute_result",
          "data": {
            "text/plain": [
              "[tensor([[ 0.0000, -0.0000, -0.0000,  ...,  0.0000,  0.1235, -0.0000],\n",
              "         [ 0.0000, -0.0000,  0.0000,  ..., -0.0000,  0.0000, -0.0000],\n",
              "         [ 0.3345, -0.9954, -0.0000,  ..., -0.0000,  0.0000, -0.2897],\n",
              "         ...,\n",
              "         [ 0.0000, -0.0000, -0.1436,  ...,  0.0000,  0.0000, -0.1096],\n",
              "         [ 0.4943, -0.0000, -0.0000,  ...,  0.0000,  0.0000, -0.0000],\n",
              "         [ 0.0000, -0.0000, -0.1588,  ...,  0.0000,  0.2184, -0.1047]],\n",
              "        device='cuda:0'),\n",
              " tensor([[ 0.4391,  0.3837, -0.0869,  ..., -0.2399, -0.3492,  0.0164],\n",
              "         [ 0.9204,  0.3013, -0.0000,  ...,  0.0000, -0.0000,  0.0000],\n",
              "         [ 0.0000,  0.0000,  0.4214,  ...,  0.0000,  0.0000, -0.2148],\n",
              "         ...,\n",
              "         [ 0.8514,  0.4592,  0.0000,  ...,  0.1396, -0.5176,  0.0384],\n",
              "         [ 0.2497,  0.2367,  0.0000,  ...,  0.0000, -0.0000, -0.0000],\n",
              "         [ 0.6724,  0.0000,  0.0000,  ...,  0.3744, -0.2209,  0.0961]],\n",
              "        device='cuda:0'),\n",
              " tensor([[-0.0000, -1.1215,  0.2886,  ...,  0.0000, -0.7472,  0.2822],\n",
              "         [-0.0000, -1.2413,  0.3869,  ...,  0.0000, -0.8827, -0.1824],\n",
              "         [-0.1657, -1.3983,  0.2498,  ..., -0.0000, -0.1985, -0.1577],\n",
              "         ...,\n",
              "         [-0.0000, -2.5446,  0.5203,  ...,  0.0000, -1.3394,  0.3541],\n",
              "         [-0.0000, -0.5644, -0.1096,  ...,  0.0000, -0.5925,  0.0281],\n",
              "         [-0.7592, -2.5972,  0.5107,  ..., -0.0000, -0.9349, -0.0263]],\n",
              "        device='cuda:0'),\n",
              " tensor([[-0.0000, -0.2291,  0.1966,  ...,  0.1863, -1.6033, -0.2982],\n",
              "         [-0.3591,  0.2409,  1.0782,  ...,  0.4189, -1.3463,  0.0000],\n",
              "         [-0.0000,  0.0000,  0.1048,  ...,  0.0000, -0.0000,  0.0607],\n",
              "         ...,\n",
              "         [-0.0000,  0.0541,  0.3443,  ...,  0.4554, -2.6895, -0.0844],\n",
              "         [ 0.0000,  0.0000,  0.3607,  ...,  0.0000, -0.0000, -0.2295],\n",
              "         [-0.0000,  0.0539,  0.4417,  ...,  0.7651, -0.0000, -0.3599]],\n",
              "        device='cuda:0'),\n",
              " tensor([[ 1.8296, -3.2896,  1.8336,  ..., -1.5107, -0.6931, -0.0000],\n",
              "         [ 2.1899, -1.9190,  1.4650,  ..., -0.6251, -1.0876, -0.0000],\n",
              "         [ 1.2645, -0.0000,  0.0000,  ..., -0.7444, -0.0000,  0.0000],\n",
              "         ...,\n",
              "         [ 2.9499, -5.7069,  3.1546,  ..., -2.6335, -1.1285, -0.0000],\n",
              "         [ 1.1052, -0.0000,  0.7795,  ..., -1.1838, -0.3840, -1.4668],\n",
              "         [ 0.0000, -0.0000,  0.0000,  ..., -4.2166, -0.0000, -0.0000]],\n",
              "        device='cuda:0')]"
            ]
          },
          "metadata": {
            "tags": []
          },
          "execution_count": 34
        }
      ]
    },
    {
      "cell_type": "code",
      "metadata": {
        "colab": {
          "base_uri": "https://localhost:8080/"
        },
        "id": "vM2Q4T2Sdblc",
        "outputId": "8c97519d-ed57-4783-e25d-c8162a2fba82"
      },
      "source": [
        "!pip install torchviz"
      ],
      "execution_count": null,
      "outputs": [
        {
          "output_type": "stream",
          "text": [
            "Collecting torchviz\n",
            "  Downloading torchviz-0.0.2.tar.gz (4.9 kB)\n",
            "Requirement already satisfied: torch in /usr/local/lib/python3.7/dist-packages (from torchviz) (1.9.0+cu102)\n",
            "Requirement already satisfied: graphviz in /usr/local/lib/python3.7/dist-packages (from torchviz) (0.10.1)\n",
            "Requirement already satisfied: typing-extensions in /usr/local/lib/python3.7/dist-packages (from torch->torchviz) (3.7.4.3)\n",
            "Building wheels for collected packages: torchviz\n",
            "  Building wheel for torchviz (setup.py) ... \u001b[?25l\u001b[?25hdone\n",
            "  Created wheel for torchviz: filename=torchviz-0.0.2-py3-none-any.whl size=4151 sha256=89ab6c631e77f18a46b62c619dbf8f69d75d89be47d9869d6fb4eafe6fd2dabf\n",
            "  Stored in directory: /root/.cache/pip/wheels/04/38/f5/dc4f85c3909051823df49901e72015d2d750bd26b086480ec2\n",
            "Successfully built torchviz\n",
            "Installing collected packages: torchviz\n",
            "Successfully installed torchviz-0.0.2\n"
          ],
          "name": "stdout"
        }
      ]
    },
    {
      "cell_type": "code",
      "metadata": {
        "colab": {
          "base_uri": "https://localhost:8080/",
          "height": 1000
        },
        "id": "PSqb9yy8d04Y",
        "outputId": "8dfa1d06-4675-4c9d-c1d9-0d3bd2293960"
      },
      "source": [
        "from torchviz import make_dot\n",
        "x, y = training_data[0]\n",
        "pred, _ = npv_model(x.to(device))\n",
        "make_dot(pred)"
      ],
      "execution_count": null,
      "outputs": [
        {
          "output_type": "stream",
          "text": [
            "1 1 1 1\n"
          ],
          "name": "stdout"
        },
        {
          "output_type": "execute_result",
          "data": {
            "text/plain": [
              "<graphviz.dot.Digraph at 0x7fb164d9c450>"
            ],
            "image/svg+xml": "<?xml version=\"1.0\" encoding=\"UTF-8\" standalone=\"no\"?>\n<!DOCTYPE svg PUBLIC \"-//W3C//DTD SVG 1.1//EN\"\n \"http://www.w3.org/Graphics/SVG/1.1/DTD/svg11.dtd\">\n<!-- Generated by graphviz version 2.40.1 (20161225.0304)\n -->\n<!-- Title: %3 Pages: 1 -->\n<svg width=\"495pt\" height=\"918pt\"\n viewBox=\"0.00 0.00 495.43 918.00\" xmlns=\"http://www.w3.org/2000/svg\" xmlns:xlink=\"http://www.w3.org/1999/xlink\">\n<g id=\"graph0\" class=\"graph\" transform=\"scale(.9107 .9107) rotate(0) translate(4 1004)\">\n<title>%3</title>\n<polygon fill=\"#ffffff\" stroke=\"transparent\" points=\"-4,4 -4,-1004 540,-1004 540,4 -4,4\"/>\n<!-- 140399877953008 -->\n<g id=\"node1\" class=\"node\">\n<title>140399877953008</title>\n<polygon fill=\"#caff70\" stroke=\"#000000\" points=\"382,-31 317,-31 317,0 382,0 382,-31\"/>\n<text text-anchor=\"middle\" x=\"349.5\" y=\"-7\" font-family=\"monospace\" font-size=\"10.00\" fill=\"#000000\"> (1, 10)</text>\n</g>\n<!-- 140399877931536 -->\n<g id=\"node2\" class=\"node\">\n<title>140399877931536</title>\n<polygon fill=\"#d3d3d3\" stroke=\"#000000\" points=\"403,-86 296,-86 296,-67 403,-67 403,-86\"/>\n<text text-anchor=\"middle\" x=\"349.5\" y=\"-74\" font-family=\"monospace\" font-size=\"10.00\" fill=\"#000000\">SigmoidBackward</text>\n</g>\n<!-- 140399877931536&#45;&gt;140399877953008 -->\n<g id=\"edge42\" class=\"edge\">\n<title>140399877931536&#45;&gt;140399877953008</title>\n<path fill=\"none\" stroke=\"#000000\" d=\"M349.5,-66.9688C349.5,-60.1289 349.5,-50.5621 349.5,-41.5298\"/>\n<polygon fill=\"#000000\" stroke=\"#000000\" points=\"353.0001,-41.3678 349.5,-31.3678 346.0001,-41.3678 353.0001,-41.3678\"/>\n</g>\n<!-- 140399877932240 -->\n<g id=\"node3\" class=\"node\">\n<title>140399877932240</title>\n<polygon fill=\"#d3d3d3\" stroke=\"#000000\" points=\"397,-141 302,-141 302,-122 397,-122 397,-141\"/>\n<text text-anchor=\"middle\" x=\"349.5\" y=\"-129\" font-family=\"monospace\" font-size=\"10.00\" fill=\"#000000\">AddmmBackward</text>\n</g>\n<!-- 140399877932240&#45;&gt;140399877931536 -->\n<g id=\"edge1\" class=\"edge\">\n<title>140399877932240&#45;&gt;140399877931536</title>\n<path fill=\"none\" stroke=\"#000000\" d=\"M349.5,-121.9197C349.5,-114.9083 349.5,-105.1442 349.5,-96.4652\"/>\n<polygon fill=\"#000000\" stroke=\"#000000\" points=\"353.0001,-96.3408 349.5,-86.3408 346.0001,-96.3409 353.0001,-96.3408\"/>\n</g>\n<!-- 140399874830736 -->\n<g id=\"node4\" class=\"node\">\n<title>140399874830736</title>\n<polygon fill=\"#d3d3d3\" stroke=\"#000000\" points=\"287,-196 186,-196 186,-177 287,-177 287,-196\"/>\n<text text-anchor=\"middle\" x=\"236.5\" y=\"-184\" font-family=\"monospace\" font-size=\"10.00\" fill=\"#000000\">AccumulateGrad</text>\n</g>\n<!-- 140399874830736&#45;&gt;140399877932240 -->\n<g id=\"edge2\" class=\"edge\">\n<title>140399874830736&#45;&gt;140399877932240</title>\n<path fill=\"none\" stroke=\"#000000\" d=\"M256.1831,-176.9197C273.9787,-168.2581 300.4052,-155.3957 320.5977,-145.5675\"/>\n<polygon fill=\"#000000\" stroke=\"#000000\" points=\"322.2036,-148.6785 329.6633,-141.155 319.14,-142.3844 322.2036,-148.6785\"/>\n</g>\n<!-- 140399874562720 -->\n<g id=\"node5\" class=\"node\">\n<title>140399874562720</title>\n<polygon fill=\"#add8e6\" stroke=\"#000000\" points=\"263.5,-263 209.5,-263 209.5,-232 263.5,-232 263.5,-263\"/>\n<text text-anchor=\"middle\" x=\"236.5\" y=\"-239\" font-family=\"monospace\" font-size=\"10.00\" fill=\"#000000\"> (10)</text>\n</g>\n<!-- 140399874562720&#45;&gt;140399874830736 -->\n<g id=\"edge3\" class=\"edge\">\n<title>140399874562720&#45;&gt;140399874830736</title>\n<path fill=\"none\" stroke=\"#000000\" d=\"M236.5,-231.791C236.5,-224.0249 236.5,-214.5706 236.5,-206.3129\"/>\n<polygon fill=\"#000000\" stroke=\"#000000\" points=\"240.0001,-206.0647 236.5,-196.0648 233.0001,-206.0648 240.0001,-206.0647\"/>\n</g>\n<!-- 140399877959888 -->\n<g id=\"node6\" class=\"node\">\n<title>140399877959888</title>\n<polygon fill=\"#d3d3d3\" stroke=\"#000000\" points=\"394,-196 305,-196 305,-177 394,-177 394,-196\"/>\n<text text-anchor=\"middle\" x=\"349.5\" y=\"-184\" font-family=\"monospace\" font-size=\"10.00\" fill=\"#000000\">MulBackward0</text>\n</g>\n<!-- 140399877959888&#45;&gt;140399877932240 -->\n<g id=\"edge4\" class=\"edge\">\n<title>140399877959888&#45;&gt;140399877932240</title>\n<path fill=\"none\" stroke=\"#000000\" d=\"M349.5,-176.9197C349.5,-169.9083 349.5,-160.1442 349.5,-151.4652\"/>\n<polygon fill=\"#000000\" stroke=\"#000000\" points=\"353.0001,-151.3408 349.5,-141.3408 346.0001,-151.3409 353.0001,-151.3408\"/>\n</g>\n<!-- 140399877959760 -->\n<g id=\"node7\" class=\"node\">\n<title>140399877959760</title>\n<polygon fill=\"#d3d3d3\" stroke=\"#000000\" points=\"392,-257 297,-257 297,-238 392,-238 392,-257\"/>\n<text text-anchor=\"middle\" x=\"344.5\" y=\"-245\" font-family=\"monospace\" font-size=\"10.00\" fill=\"#000000\">AddmmBackward</text>\n</g>\n<!-- 140399877959760&#45;&gt;140399877959888 -->\n<g id=\"edge5\" class=\"edge\">\n<title>140399877959760&#45;&gt;140399877959888</title>\n<path fill=\"none\" stroke=\"#000000\" d=\"M345.2813,-237.9688C345.9743,-229.5131 347.009,-216.8901 347.8802,-206.2615\"/>\n<polygon fill=\"#000000\" stroke=\"#000000\" points=\"351.379,-206.4182 348.7077,-196.1656 344.4024,-205.8462 351.379,-206.4182\"/>\n</g>\n<!-- 140399874831440 -->\n<g id=\"node8\" class=\"node\">\n<title>140399874831440</title>\n<polygon fill=\"#d3d3d3\" stroke=\"#000000\" points=\"245,-324 144,-324 144,-305 245,-305 245,-324\"/>\n<text text-anchor=\"middle\" x=\"194.5\" y=\"-312\" font-family=\"monospace\" font-size=\"10.00\" fill=\"#000000\">AccumulateGrad</text>\n</g>\n<!-- 140399874831440&#45;&gt;140399877959760 -->\n<g id=\"edge6\" class=\"edge\">\n<title>140399874831440&#45;&gt;140399877959760</title>\n<path fill=\"none\" stroke=\"#000000\" d=\"M215.9913,-304.9005C241.6103,-293.4574 284.6099,-274.2509 313.7447,-261.2374\"/>\n<polygon fill=\"#000000\" stroke=\"#000000\" points=\"315.3454,-264.3557 323.0485,-257.0817 312.4905,-257.9643 315.3454,-264.3557\"/>\n</g>\n<!-- 140399874562240 -->\n<g id=\"node9\" class=\"node\">\n<title>140399874562240</title>\n<polygon fill=\"#add8e6\" stroke=\"#000000\" points=\"221.5,-397 167.5,-397 167.5,-366 221.5,-366 221.5,-397\"/>\n<text text-anchor=\"middle\" x=\"194.5\" y=\"-373\" font-family=\"monospace\" font-size=\"10.00\" fill=\"#000000\"> (128)</text>\n</g>\n<!-- 140399874562240&#45;&gt;140399874831440 -->\n<g id=\"edge7\" class=\"edge\">\n<title>140399874562240&#45;&gt;140399874831440</title>\n<path fill=\"none\" stroke=\"#000000\" d=\"M194.5,-365.9604C194.5,-356.6356 194.5,-344.6748 194.5,-334.6317\"/>\n<polygon fill=\"#000000\" stroke=\"#000000\" points=\"198.0001,-334.35 194.5,-324.3501 191.0001,-334.3501 198.0001,-334.35\"/>\n</g>\n<!-- 140399877959824 -->\n<g id=\"node10\" class=\"node\">\n<title>140399877959824</title>\n<polygon fill=\"#d3d3d3\" stroke=\"#000000\" points=\"352,-324 263,-324 263,-305 352,-305 352,-324\"/>\n<text text-anchor=\"middle\" x=\"307.5\" y=\"-312\" font-family=\"monospace\" font-size=\"10.00\" fill=\"#000000\">MulBackward0</text>\n</g>\n<!-- 140399877959824&#45;&gt;140399877959760 -->\n<g id=\"edge8\" class=\"edge\">\n<title>140399877959824&#45;&gt;140399877959760</title>\n<path fill=\"none\" stroke=\"#000000\" d=\"M312.8012,-304.9005C318.4062,-294.751 327.3839,-278.4941 334.3565,-265.8679\"/>\n<polygon fill=\"#000000\" stroke=\"#000000\" points=\"337.4382,-267.5275 339.2086,-257.0817 331.3105,-264.1435 337.4382,-267.5275\"/>\n</g>\n<!-- 140399877960272 -->\n<g id=\"node11\" class=\"node\">\n<title>140399877960272</title>\n<polygon fill=\"#d3d3d3\" stroke=\"#000000\" points=\"345,-391 250,-391 250,-372 345,-372 345,-391\"/>\n<text text-anchor=\"middle\" x=\"297.5\" y=\"-379\" font-family=\"monospace\" font-size=\"10.00\" fill=\"#000000\">AddmmBackward</text>\n</g>\n<!-- 140399877960272&#45;&gt;140399877959824 -->\n<g id=\"edge9\" class=\"edge\">\n<title>140399877960272&#45;&gt;140399877959824</title>\n<path fill=\"none\" stroke=\"#000000\" d=\"M298.9328,-371.9005C300.4031,-362.0495 302.7321,-346.4451 304.5909,-333.9912\"/>\n<polygon fill=\"#000000\" stroke=\"#000000\" points=\"308.0553,-334.4888 306.0699,-324.0817 301.132,-333.4554 308.0553,-334.4888\"/>\n</g>\n<!-- 140399877857744 -->\n<g id=\"node12\" class=\"node\">\n<title>140399877857744</title>\n<polygon fill=\"#d3d3d3\" stroke=\"#000000\" points=\"197,-458 96,-458 96,-439 197,-439 197,-458\"/>\n<text text-anchor=\"middle\" x=\"146.5\" y=\"-446\" font-family=\"monospace\" font-size=\"10.00\" fill=\"#000000\">AccumulateGrad</text>\n</g>\n<!-- 140399877857744&#45;&gt;140399877960272 -->\n<g id=\"edge10\" class=\"edge\">\n<title>140399877857744&#45;&gt;140399877960272</title>\n<path fill=\"none\" stroke=\"#000000\" d=\"M168.1346,-438.9005C193.9243,-427.4574 237.2106,-408.2509 266.5397,-395.2374\"/>\n<polygon fill=\"#000000\" stroke=\"#000000\" points=\"268.1844,-398.3367 275.9055,-391.0817 265.3454,-391.9383 268.1844,-398.3367\"/>\n</g>\n<!-- 140399874563840 -->\n<g id=\"node13\" class=\"node\">\n<title>140399874563840</title>\n<polygon fill=\"#add8e6\" stroke=\"#000000\" points=\"173.5,-531 119.5,-531 119.5,-500 173.5,-500 173.5,-531\"/>\n<text text-anchor=\"middle\" x=\"146.5\" y=\"-507\" font-family=\"monospace\" font-size=\"10.00\" fill=\"#000000\"> (128)</text>\n</g>\n<!-- 140399874563840&#45;&gt;140399877857744 -->\n<g id=\"edge11\" class=\"edge\">\n<title>140399874563840&#45;&gt;140399877857744</title>\n<path fill=\"none\" stroke=\"#000000\" d=\"M146.5,-499.9604C146.5,-490.6356 146.5,-478.6748 146.5,-468.6317\"/>\n<polygon fill=\"#000000\" stroke=\"#000000\" points=\"150.0001,-468.35 146.5,-458.3501 143.0001,-468.3501 150.0001,-468.35\"/>\n</g>\n<!-- 140399877960464 -->\n<g id=\"node14\" class=\"node\">\n<title>140399877960464</title>\n<polygon fill=\"#d3d3d3\" stroke=\"#000000\" points=\"304,-458 215,-458 215,-439 304,-439 304,-458\"/>\n<text text-anchor=\"middle\" x=\"259.5\" y=\"-446\" font-family=\"monospace\" font-size=\"10.00\" fill=\"#000000\">MulBackward0</text>\n</g>\n<!-- 140399877960464&#45;&gt;140399877960272 -->\n<g id=\"edge12\" class=\"edge\">\n<title>140399877960464&#45;&gt;140399877960272</title>\n<path fill=\"none\" stroke=\"#000000\" d=\"M264.9445,-438.9005C270.7009,-428.751 279.9213,-412.4941 287.0824,-399.8679\"/>\n<polygon fill=\"#000000\" stroke=\"#000000\" points=\"290.1766,-401.5067 292.0656,-391.0817 284.0877,-398.0533 290.1766,-401.5067\"/>\n</g>\n<!-- 140399877960528 -->\n<g id=\"node15\" class=\"node\">\n<title>140399877960528</title>\n<polygon fill=\"#d3d3d3\" stroke=\"#000000\" points=\"297,-525 202,-525 202,-506 297,-506 297,-525\"/>\n<text text-anchor=\"middle\" x=\"249.5\" y=\"-513\" font-family=\"monospace\" font-size=\"10.00\" fill=\"#000000\">AddmmBackward</text>\n</g>\n<!-- 140399877960528&#45;&gt;140399877960464 -->\n<g id=\"edge13\" class=\"edge\">\n<title>140399877960528&#45;&gt;140399877960464</title>\n<path fill=\"none\" stroke=\"#000000\" d=\"M250.9328,-505.9005C252.4031,-496.0495 254.7321,-480.4451 256.5909,-467.9912\"/>\n<polygon fill=\"#000000\" stroke=\"#000000\" points=\"260.0553,-468.4888 258.0699,-458.0817 253.132,-467.4554 260.0553,-468.4888\"/>\n</g>\n<!-- 140399877858128 -->\n<g id=\"node16\" class=\"node\">\n<title>140399877858128</title>\n<polygon fill=\"#d3d3d3\" stroke=\"#000000\" points=\"149,-592 48,-592 48,-573 149,-573 149,-592\"/>\n<text text-anchor=\"middle\" x=\"98.5\" y=\"-580\" font-family=\"monospace\" font-size=\"10.00\" fill=\"#000000\">AccumulateGrad</text>\n</g>\n<!-- 140399877858128&#45;&gt;140399877960528 -->\n<g id=\"edge14\" class=\"edge\">\n<title>140399877858128&#45;&gt;140399877960528</title>\n<path fill=\"none\" stroke=\"#000000\" d=\"M120.1346,-572.9005C145.9243,-561.4574 189.2106,-542.2509 218.5397,-529.2374\"/>\n<polygon fill=\"#000000\" stroke=\"#000000\" points=\"220.1844,-532.3367 227.9055,-525.0817 217.3454,-525.9383 220.1844,-532.3367\"/>\n</g>\n<!-- 140399874563680 -->\n<g id=\"node17\" class=\"node\">\n<title>140399874563680</title>\n<polygon fill=\"#add8e6\" stroke=\"#000000\" points=\"125.5,-665 71.5,-665 71.5,-634 125.5,-634 125.5,-665\"/>\n<text text-anchor=\"middle\" x=\"98.5\" y=\"-641\" font-family=\"monospace\" font-size=\"10.00\" fill=\"#000000\"> (128)</text>\n</g>\n<!-- 140399874563680&#45;&gt;140399877858128 -->\n<g id=\"edge15\" class=\"edge\">\n<title>140399874563680&#45;&gt;140399877858128</title>\n<path fill=\"none\" stroke=\"#000000\" d=\"M98.5,-633.9604C98.5,-624.6356 98.5,-612.6748 98.5,-602.6317\"/>\n<polygon fill=\"#000000\" stroke=\"#000000\" points=\"102.0001,-602.35 98.5,-592.3501 95.0001,-602.3501 102.0001,-602.35\"/>\n</g>\n<!-- 140399877960784 -->\n<g id=\"node18\" class=\"node\">\n<title>140399877960784</title>\n<polygon fill=\"#d3d3d3\" stroke=\"#000000\" points=\"256,-592 167,-592 167,-573 256,-573 256,-592\"/>\n<text text-anchor=\"middle\" x=\"211.5\" y=\"-580\" font-family=\"monospace\" font-size=\"10.00\" fill=\"#000000\">MulBackward0</text>\n</g>\n<!-- 140399877960784&#45;&gt;140399877960528 -->\n<g id=\"edge16\" class=\"edge\">\n<title>140399877960784&#45;&gt;140399877960528</title>\n<path fill=\"none\" stroke=\"#000000\" d=\"M216.9445,-572.9005C222.7009,-562.751 231.9213,-546.4941 239.0824,-533.8679\"/>\n<polygon fill=\"#000000\" stroke=\"#000000\" points=\"242.1766,-535.5067 244.0656,-525.0817 236.0877,-532.0533 242.1766,-535.5067\"/>\n</g>\n<!-- 140399877960848 -->\n<g id=\"node19\" class=\"node\">\n<title>140399877960848</title>\n<polygon fill=\"#d3d3d3\" stroke=\"#000000\" points=\"249,-659 154,-659 154,-640 249,-640 249,-659\"/>\n<text text-anchor=\"middle\" x=\"201.5\" y=\"-647\" font-family=\"monospace\" font-size=\"10.00\" fill=\"#000000\">AddmmBackward</text>\n</g>\n<!-- 140399877960848&#45;&gt;140399877960784 -->\n<g id=\"edge17\" class=\"edge\">\n<title>140399877960848&#45;&gt;140399877960784</title>\n<path fill=\"none\" stroke=\"#000000\" d=\"M202.9328,-639.9005C204.4031,-630.0495 206.7321,-614.4451 208.5909,-601.9912\"/>\n<polygon fill=\"#000000\" stroke=\"#000000\" points=\"212.0553,-602.4888 210.0699,-592.0817 205.132,-601.4554 212.0553,-602.4888\"/>\n</g>\n<!-- 140399877858512 -->\n<g id=\"node20\" class=\"node\">\n<title>140399877858512</title>\n<polygon fill=\"#d3d3d3\" stroke=\"#000000\" points=\"101,-726 0,-726 0,-707 101,-707 101,-726\"/>\n<text text-anchor=\"middle\" x=\"50.5\" y=\"-714\" font-family=\"monospace\" font-size=\"10.00\" fill=\"#000000\">AccumulateGrad</text>\n</g>\n<!-- 140399877858512&#45;&gt;140399877960848 -->\n<g id=\"edge18\" class=\"edge\">\n<title>140399877858512&#45;&gt;140399877960848</title>\n<path fill=\"none\" stroke=\"#000000\" d=\"M72.1346,-706.9005C97.9243,-695.4574 141.2106,-676.2509 170.5397,-663.2374\"/>\n<polygon fill=\"#000000\" stroke=\"#000000\" points=\"172.1844,-666.3367 179.9055,-659.0817 169.3454,-659.9383 172.1844,-666.3367\"/>\n</g>\n<!-- 140399874560960 -->\n<g id=\"node21\" class=\"node\">\n<title>140399874560960</title>\n<polygon fill=\"#add8e6\" stroke=\"#000000\" points=\"77.5,-799 23.5,-799 23.5,-768 77.5,-768 77.5,-799\"/>\n<text text-anchor=\"middle\" x=\"50.5\" y=\"-775\" font-family=\"monospace\" font-size=\"10.00\" fill=\"#000000\"> (128)</text>\n</g>\n<!-- 140399874560960&#45;&gt;140399877858512 -->\n<g id=\"edge19\" class=\"edge\">\n<title>140399874560960&#45;&gt;140399877858512</title>\n<path fill=\"none\" stroke=\"#000000\" d=\"M50.5,-767.9604C50.5,-758.6356 50.5,-746.6748 50.5,-736.6317\"/>\n<polygon fill=\"#000000\" stroke=\"#000000\" points=\"54.0001,-736.35 50.5,-726.3501 47.0001,-736.3501 54.0001,-736.35\"/>\n</g>\n<!-- 140399877961104 -->\n<g id=\"node22\" class=\"node\">\n<title>140399877961104</title>\n<polygon fill=\"#d3d3d3\" stroke=\"#000000\" points=\"208,-726 119,-726 119,-707 208,-707 208,-726\"/>\n<text text-anchor=\"middle\" x=\"163.5\" y=\"-714\" font-family=\"monospace\" font-size=\"10.00\" fill=\"#000000\">MulBackward0</text>\n</g>\n<!-- 140399877961104&#45;&gt;140399877960848 -->\n<g id=\"edge20\" class=\"edge\">\n<title>140399877961104&#45;&gt;140399877960848</title>\n<path fill=\"none\" stroke=\"#000000\" d=\"M168.9445,-706.9005C174.7009,-696.751 183.9213,-680.4941 191.0824,-667.8679\"/>\n<polygon fill=\"#000000\" stroke=\"#000000\" points=\"194.1766,-669.5067 196.0656,-659.0817 188.0877,-666.0533 194.1766,-669.5067\"/>\n</g>\n<!-- 140399877961168 -->\n<g id=\"node23\" class=\"node\">\n<title>140399877961168</title>\n<polygon fill=\"#d3d3d3\" stroke=\"#000000\" points=\"202,-793 107,-793 107,-774 202,-774 202,-793\"/>\n<text text-anchor=\"middle\" x=\"154.5\" y=\"-781\" font-family=\"monospace\" font-size=\"10.00\" fill=\"#000000\">AddmmBackward</text>\n</g>\n<!-- 140399877961168&#45;&gt;140399877961104 -->\n<g id=\"edge21\" class=\"edge\">\n<title>140399877961168&#45;&gt;140399877961104</title>\n<path fill=\"none\" stroke=\"#000000\" d=\"M155.7895,-773.9005C157.0994,-764.149 159.1666,-748.7597 160.831,-736.3695\"/>\n<polygon fill=\"#000000\" stroke=\"#000000\" points=\"164.3503,-736.4586 162.2129,-726.0817 157.4127,-735.5266 164.3503,-736.4586\"/>\n</g>\n<!-- 140399877858896 -->\n<g id=\"node24\" class=\"node\">\n<title>140399877858896</title>\n<polygon fill=\"#d3d3d3\" stroke=\"#000000\" points=\"112,-860 11,-860 11,-841 112,-841 112,-860\"/>\n<text text-anchor=\"middle\" x=\"61.5\" y=\"-848\" font-family=\"monospace\" font-size=\"10.00\" fill=\"#000000\">AccumulateGrad</text>\n</g>\n<!-- 140399877858896&#45;&gt;140399877961168 -->\n<g id=\"edge22\" class=\"edge\">\n<title>140399877858896&#45;&gt;140399877961168</title>\n<path fill=\"none\" stroke=\"#000000\" d=\"M74.8246,-840.9005C90.0178,-829.9549 115.0703,-811.9064 133.0284,-798.9688\"/>\n<polygon fill=\"#000000\" stroke=\"#000000\" points=\"135.1323,-801.7668 141.2001,-793.0817 131.0405,-796.0872 135.1323,-801.7668\"/>\n</g>\n<!-- 140399874562560 -->\n<g id=\"node25\" class=\"node\">\n<title>140399874562560</title>\n<polygon fill=\"#add8e6\" stroke=\"#000000\" points=\"88.5,-933 34.5,-933 34.5,-902 88.5,-902 88.5,-933\"/>\n<text text-anchor=\"middle\" x=\"61.5\" y=\"-909\" font-family=\"monospace\" font-size=\"10.00\" fill=\"#000000\"> (128)</text>\n</g>\n<!-- 140399874562560&#45;&gt;140399877858896 -->\n<g id=\"edge23\" class=\"edge\">\n<title>140399874562560&#45;&gt;140399877858896</title>\n<path fill=\"none\" stroke=\"#000000\" d=\"M61.5,-901.9604C61.5,-892.6356 61.5,-880.6748 61.5,-870.6317\"/>\n<polygon fill=\"#000000\" stroke=\"#000000\" points=\"65.0001,-870.35 61.5,-860.3501 58.0001,-870.3501 65.0001,-870.35\"/>\n</g>\n<!-- 140399877961424 -->\n<g id=\"node26\" class=\"node\">\n<title>140399877961424</title>\n<polygon fill=\"#d3d3d3\" stroke=\"#000000\" points=\"201,-860 130,-860 130,-841 201,-841 201,-860\"/>\n<text text-anchor=\"middle\" x=\"165.5\" y=\"-848\" font-family=\"monospace\" font-size=\"10.00\" fill=\"#000000\">TBackward</text>\n</g>\n<!-- 140399877961424&#45;&gt;140399877961168 -->\n<g id=\"edge24\" class=\"edge\">\n<title>140399877961424&#45;&gt;140399877961168</title>\n<path fill=\"none\" stroke=\"#000000\" d=\"M163.924,-840.9005C162.3066,-831.0495 159.7447,-815.4451 157.7,-802.9912\"/>\n<polygon fill=\"#000000\" stroke=\"#000000\" points=\"161.1471,-802.3825 156.0731,-793.0817 154.2395,-803.5166 161.1471,-802.3825\"/>\n</g>\n<!-- 140399877858960 -->\n<g id=\"node27\" class=\"node\">\n<title>140399877858960</title>\n<polygon fill=\"#d3d3d3\" stroke=\"#000000\" points=\"216,-927 115,-927 115,-908 216,-908 216,-927\"/>\n<text text-anchor=\"middle\" x=\"165.5\" y=\"-915\" font-family=\"monospace\" font-size=\"10.00\" fill=\"#000000\">AccumulateGrad</text>\n</g>\n<!-- 140399877858960&#45;&gt;140399877961424 -->\n<g id=\"edge25\" class=\"edge\">\n<title>140399877858960&#45;&gt;140399877961424</title>\n<path fill=\"none\" stroke=\"#000000\" d=\"M165.5,-907.9005C165.5,-898.149 165.5,-882.7597 165.5,-870.3695\"/>\n<polygon fill=\"#000000\" stroke=\"#000000\" points=\"169.0001,-870.0816 165.5,-860.0817 162.0001,-870.0817 169.0001,-870.0816\"/>\n</g>\n<!-- 140399874560320 -->\n<g id=\"node28\" class=\"node\">\n<title>140399874560320</title>\n<polygon fill=\"#add8e6\" stroke=\"#000000\" points=\"207,-1000 124,-1000 124,-969 207,-969 207,-1000\"/>\n<text text-anchor=\"middle\" x=\"165.5\" y=\"-976\" font-family=\"monospace\" font-size=\"10.00\" fill=\"#000000\"> (128, 784)</text>\n</g>\n<!-- 140399874560320&#45;&gt;140399877858960 -->\n<g id=\"edge26\" class=\"edge\">\n<title>140399874560320&#45;&gt;140399877858960</title>\n<path fill=\"none\" stroke=\"#000000\" d=\"M165.5,-968.9604C165.5,-959.6356 165.5,-947.6748 165.5,-937.6317\"/>\n<polygon fill=\"#000000\" stroke=\"#000000\" points=\"169.0001,-937.35 165.5,-927.3501 162.0001,-937.3501 169.0001,-937.35\"/>\n</g>\n<!-- 140399877961296 -->\n<g id=\"node29\" class=\"node\">\n<title>140399877961296</title>\n<polygon fill=\"#d3d3d3\" stroke=\"#000000\" points=\"297,-726 226,-726 226,-707 297,-707 297,-726\"/>\n<text text-anchor=\"middle\" x=\"261.5\" y=\"-714\" font-family=\"monospace\" font-size=\"10.00\" fill=\"#000000\">TBackward</text>\n</g>\n<!-- 140399877961296&#45;&gt;140399877960848 -->\n<g id=\"edge27\" class=\"edge\">\n<title>140399877961296&#45;&gt;140399877960848</title>\n<path fill=\"none\" stroke=\"#000000\" d=\"M252.9035,-706.9005C243.547,-696.4525 228.3948,-679.5325 216.9599,-666.7635\"/>\n<polygon fill=\"#000000\" stroke=\"#000000\" points=\"219.3592,-664.1963 210.0806,-659.0817 214.1445,-668.8661 219.3592,-664.1963\"/>\n</g>\n<!-- 140399877858832 -->\n<g id=\"node30\" class=\"node\">\n<title>140399877858832</title>\n<polygon fill=\"#d3d3d3\" stroke=\"#000000\" points=\"321,-793 220,-793 220,-774 321,-774 321,-793\"/>\n<text text-anchor=\"middle\" x=\"270.5\" y=\"-781\" font-family=\"monospace\" font-size=\"10.00\" fill=\"#000000\">AccumulateGrad</text>\n</g>\n<!-- 140399877858832&#45;&gt;140399877961296 -->\n<g id=\"edge28\" class=\"edge\">\n<title>140399877858832&#45;&gt;140399877961296</title>\n<path fill=\"none\" stroke=\"#000000\" d=\"M269.2105,-773.9005C267.9006,-764.149 265.8334,-748.7597 264.169,-736.3695\"/>\n<polygon fill=\"#000000\" stroke=\"#000000\" points=\"267.5873,-735.5266 262.7871,-726.0817 260.6497,-736.4586 267.5873,-735.5266\"/>\n</g>\n<!-- 140401608734832 -->\n<g id=\"node31\" class=\"node\">\n<title>140401608734832</title>\n<polygon fill=\"#add8e6\" stroke=\"#000000\" points=\"312,-866 229,-866 229,-835 312,-835 312,-866\"/>\n<text text-anchor=\"middle\" x=\"270.5\" y=\"-842\" font-family=\"monospace\" font-size=\"10.00\" fill=\"#000000\"> (128, 128)</text>\n</g>\n<!-- 140401608734832&#45;&gt;140399877858832 -->\n<g id=\"edge29\" class=\"edge\">\n<title>140401608734832&#45;&gt;140399877858832</title>\n<path fill=\"none\" stroke=\"#000000\" d=\"M270.5,-834.9604C270.5,-825.6356 270.5,-813.6748 270.5,-803.6317\"/>\n<polygon fill=\"#000000\" stroke=\"#000000\" points=\"274.0001,-803.35 270.5,-793.3501 267.0001,-803.3501 274.0001,-803.35\"/>\n</g>\n<!-- 140399877960976 -->\n<g id=\"node32\" class=\"node\">\n<title>140399877960976</title>\n<polygon fill=\"#d3d3d3\" stroke=\"#000000\" points=\"345,-592 274,-592 274,-573 345,-573 345,-592\"/>\n<text text-anchor=\"middle\" x=\"309.5\" y=\"-580\" font-family=\"monospace\" font-size=\"10.00\" fill=\"#000000\">TBackward</text>\n</g>\n<!-- 140399877960976&#45;&gt;140399877960528 -->\n<g id=\"edge30\" class=\"edge\">\n<title>140399877960976&#45;&gt;140399877960528</title>\n<path fill=\"none\" stroke=\"#000000\" d=\"M300.9035,-572.9005C291.547,-562.4525 276.3948,-545.5325 264.9599,-532.7635\"/>\n<polygon fill=\"#000000\" stroke=\"#000000\" points=\"267.3592,-530.1963 258.0806,-525.0817 262.1445,-534.8661 267.3592,-530.1963\"/>\n</g>\n<!-- 140399877858448 -->\n<g id=\"node33\" class=\"node\">\n<title>140399877858448</title>\n<polygon fill=\"#d3d3d3\" stroke=\"#000000\" points=\"369,-659 268,-659 268,-640 369,-640 369,-659\"/>\n<text text-anchor=\"middle\" x=\"318.5\" y=\"-647\" font-family=\"monospace\" font-size=\"10.00\" fill=\"#000000\">AccumulateGrad</text>\n</g>\n<!-- 140399877858448&#45;&gt;140399877960976 -->\n<g id=\"edge31\" class=\"edge\">\n<title>140399877858448&#45;&gt;140399877960976</title>\n<path fill=\"none\" stroke=\"#000000\" d=\"M317.2105,-639.9005C315.9006,-630.149 313.8334,-614.7597 312.169,-602.3695\"/>\n<polygon fill=\"#000000\" stroke=\"#000000\" points=\"315.5873,-601.5266 310.7871,-592.0817 308.6497,-602.4586 315.5873,-601.5266\"/>\n</g>\n<!-- 140399874560160 -->\n<g id=\"node34\" class=\"node\">\n<title>140399874560160</title>\n<polygon fill=\"#add8e6\" stroke=\"#000000\" points=\"398,-732 315,-732 315,-701 398,-701 398,-732\"/>\n<text text-anchor=\"middle\" x=\"356.5\" y=\"-708\" font-family=\"monospace\" font-size=\"10.00\" fill=\"#000000\"> (128, 128)</text>\n</g>\n<!-- 140399874560160&#45;&gt;140399877858448 -->\n<g id=\"edge32\" class=\"edge\">\n<title>140399874560160&#45;&gt;140399877858448</title>\n<path fill=\"none\" stroke=\"#000000\" d=\"M347.6865,-700.9604C342.1703,-691.2345 335.0278,-678.6411 329.1892,-668.3468\"/>\n<polygon fill=\"#000000\" stroke=\"#000000\" points=\"332.0645,-666.3218 324.0866,-659.3501 325.9756,-669.7752 332.0645,-666.3218\"/>\n</g>\n<!-- 140399877960656 -->\n<g id=\"node35\" class=\"node\">\n<title>140399877960656</title>\n<polygon fill=\"#d3d3d3\" stroke=\"#000000\" points=\"393,-458 322,-458 322,-439 393,-439 393,-458\"/>\n<text text-anchor=\"middle\" x=\"357.5\" y=\"-446\" font-family=\"monospace\" font-size=\"10.00\" fill=\"#000000\">TBackward</text>\n</g>\n<!-- 140399877960656&#45;&gt;140399877960272 -->\n<g id=\"edge33\" class=\"edge\">\n<title>140399877960656&#45;&gt;140399877960272</title>\n<path fill=\"none\" stroke=\"#000000\" d=\"M348.9035,-438.9005C339.547,-428.4525 324.3948,-411.5325 312.9599,-398.7635\"/>\n<polygon fill=\"#000000\" stroke=\"#000000\" points=\"315.3592,-396.1963 306.0806,-391.0817 310.1445,-400.8661 315.3592,-396.1963\"/>\n</g>\n<!-- 140399877858064 -->\n<g id=\"node36\" class=\"node\">\n<title>140399877858064</title>\n<polygon fill=\"#d3d3d3\" stroke=\"#000000\" points=\"417,-525 316,-525 316,-506 417,-506 417,-525\"/>\n<text text-anchor=\"middle\" x=\"366.5\" y=\"-513\" font-family=\"monospace\" font-size=\"10.00\" fill=\"#000000\">AccumulateGrad</text>\n</g>\n<!-- 140399877858064&#45;&gt;140399877960656 -->\n<g id=\"edge34\" class=\"edge\">\n<title>140399877858064&#45;&gt;140399877960656</title>\n<path fill=\"none\" stroke=\"#000000\" d=\"M365.2105,-505.9005C363.9006,-496.149 361.8334,-480.7597 360.169,-468.3695\"/>\n<polygon fill=\"#000000\" stroke=\"#000000\" points=\"363.5873,-467.5266 358.7871,-458.0817 356.6497,-468.4586 363.5873,-467.5266\"/>\n</g>\n<!-- 140399874564000 -->\n<g id=\"node37\" class=\"node\">\n<title>140399874564000</title>\n<polygon fill=\"#add8e6\" stroke=\"#000000\" points=\"446,-598 363,-598 363,-567 446,-567 446,-598\"/>\n<text text-anchor=\"middle\" x=\"404.5\" y=\"-574\" font-family=\"monospace\" font-size=\"10.00\" fill=\"#000000\"> (128, 128)</text>\n</g>\n<!-- 140399874564000&#45;&gt;140399877858064 -->\n<g id=\"edge35\" class=\"edge\">\n<title>140399874564000&#45;&gt;140399877858064</title>\n<path fill=\"none\" stroke=\"#000000\" d=\"M395.6865,-566.9604C390.1703,-557.2345 383.0278,-544.6411 377.1892,-534.3468\"/>\n<polygon fill=\"#000000\" stroke=\"#000000\" points=\"380.0645,-532.3218 372.0866,-525.3501 373.9756,-535.7752 380.0645,-532.3218\"/>\n</g>\n<!-- 140399877960336 -->\n<g id=\"node38\" class=\"node\">\n<title>140399877960336</title>\n<polygon fill=\"#d3d3d3\" stroke=\"#000000\" points=\"441,-324 370,-324 370,-305 441,-305 441,-324\"/>\n<text text-anchor=\"middle\" x=\"405.5\" y=\"-312\" font-family=\"monospace\" font-size=\"10.00\" fill=\"#000000\">TBackward</text>\n</g>\n<!-- 140399877960336&#45;&gt;140399877959760 -->\n<g id=\"edge36\" class=\"edge\">\n<title>140399877960336&#45;&gt;140399877959760</title>\n<path fill=\"none\" stroke=\"#000000\" d=\"M396.7602,-304.9005C387.2478,-294.4525 371.843,-277.5325 360.2175,-264.7635\"/>\n<polygon fill=\"#000000\" stroke=\"#000000\" points=\"362.5439,-262.1198 353.2236,-257.0817 357.3678,-266.8324 362.5439,-262.1198\"/>\n</g>\n<!-- 140399877857680 -->\n<g id=\"node39\" class=\"node\">\n<title>140399877857680</title>\n<polygon fill=\"#d3d3d3\" stroke=\"#000000\" points=\"465,-391 364,-391 364,-372 465,-372 465,-391\"/>\n<text text-anchor=\"middle\" x=\"414.5\" y=\"-379\" font-family=\"monospace\" font-size=\"10.00\" fill=\"#000000\">AccumulateGrad</text>\n</g>\n<!-- 140399877857680&#45;&gt;140399877960336 -->\n<g id=\"edge37\" class=\"edge\">\n<title>140399877857680&#45;&gt;140399877960336</title>\n<path fill=\"none\" stroke=\"#000000\" d=\"M413.2105,-371.9005C411.9006,-362.149 409.8334,-346.7597 408.169,-334.3695\"/>\n<polygon fill=\"#000000\" stroke=\"#000000\" points=\"411.5873,-333.5266 406.7871,-324.0817 404.6497,-334.4586 411.5873,-333.5266\"/>\n</g>\n<!-- 140399874562080 -->\n<g id=\"node40\" class=\"node\">\n<title>140399874562080</title>\n<polygon fill=\"#add8e6\" stroke=\"#000000\" points=\"494,-464 411,-464 411,-433 494,-433 494,-464\"/>\n<text text-anchor=\"middle\" x=\"452.5\" y=\"-440\" font-family=\"monospace\" font-size=\"10.00\" fill=\"#000000\"> (128, 128)</text>\n</g>\n<!-- 140399874562080&#45;&gt;140399877857680 -->\n<g id=\"edge38\" class=\"edge\">\n<title>140399874562080&#45;&gt;140399877857680</title>\n<path fill=\"none\" stroke=\"#000000\" d=\"M443.6865,-432.9604C438.1703,-423.2345 431.0278,-410.6411 425.1892,-400.3468\"/>\n<polygon fill=\"#000000\" stroke=\"#000000\" points=\"428.0645,-398.3218 420.0866,-391.3501 421.9756,-401.7752 428.0645,-398.3218\"/>\n</g>\n<!-- 140399877960016 -->\n<g id=\"node41\" class=\"node\">\n<title>140399877960016</title>\n<polygon fill=\"#d3d3d3\" stroke=\"#000000\" points=\"492,-196 421,-196 421,-177 492,-177 492,-196\"/>\n<text text-anchor=\"middle\" x=\"456.5\" y=\"-184\" font-family=\"monospace\" font-size=\"10.00\" fill=\"#000000\">TBackward</text>\n</g>\n<!-- 140399877960016&#45;&gt;140399877932240 -->\n<g id=\"edge39\" class=\"edge\">\n<title>140399877960016&#45;&gt;140399877932240</title>\n<path fill=\"none\" stroke=\"#000000\" d=\"M437.862,-176.9197C421.1638,-168.3365 396.4402,-155.6281 377.3882,-145.8351\"/>\n<polygon fill=\"#000000\" stroke=\"#000000\" points=\"378.7773,-142.6138 368.2834,-141.155 375.5772,-148.8395 378.7773,-142.6138\"/>\n</g>\n<!-- 140399874831696 -->\n<g id=\"node42\" class=\"node\">\n<title>140399874831696</title>\n<polygon fill=\"#d3d3d3\" stroke=\"#000000\" points=\"512,-257 411,-257 411,-238 512,-238 512,-257\"/>\n<text text-anchor=\"middle\" x=\"461.5\" y=\"-245\" font-family=\"monospace\" font-size=\"10.00\" fill=\"#000000\">AccumulateGrad</text>\n</g>\n<!-- 140399874831696&#45;&gt;140399877960016 -->\n<g id=\"edge40\" class=\"edge\">\n<title>140399874831696&#45;&gt;140399877960016</title>\n<path fill=\"none\" stroke=\"#000000\" d=\"M460.7188,-237.9688C460.0257,-229.5131 458.991,-216.8901 458.1198,-206.2615\"/>\n<polygon fill=\"#000000\" stroke=\"#000000\" points=\"461.5976,-205.8462 457.2923,-196.1656 454.621,-206.4182 461.5976,-205.8462\"/>\n</g>\n<!-- 140399874561760 -->\n<g id=\"node43\" class=\"node\">\n<title>140399874561760</title>\n<polygon fill=\"#add8e6\" stroke=\"#000000\" points=\"536,-330 459,-330 459,-299 536,-299 536,-330\"/>\n<text text-anchor=\"middle\" x=\"497.5\" y=\"-306\" font-family=\"monospace\" font-size=\"10.00\" fill=\"#000000\"> (10, 128)</text>\n</g>\n<!-- 140399874561760&#45;&gt;140399874831696 -->\n<g id=\"edge41\" class=\"edge\">\n<title>140399874561760&#45;&gt;140399874831696</title>\n<path fill=\"none\" stroke=\"#000000\" d=\"M489.1504,-298.9604C483.9245,-289.2345 477.1579,-276.6411 471.6266,-266.3468\"/>\n<polygon fill=\"#000000\" stroke=\"#000000\" points=\"474.6089,-264.5024 466.7926,-257.3501 468.4427,-267.8156 474.6089,-264.5024\"/>\n</g>\n</g>\n</svg>\n"
          },
          "metadata": {
            "tags": []
          },
          "execution_count": 51
        }
      ]
    },
    {
      "cell_type": "code",
      "metadata": {
        "colab": {
          "base_uri": "https://localhost:8080/"
        },
        "id": "UE5i_9z_fSKp",
        "outputId": "607305a4-baf2-4e97-f2c1-3de6bd00f9d2"
      },
      "source": [
        "x.shape"
      ],
      "execution_count": null,
      "outputs": [
        {
          "output_type": "execute_result",
          "data": {
            "text/plain": [
              "torch.Size([1, 28, 28])"
            ]
          },
          "metadata": {
            "tags": []
          },
          "execution_count": 50
        }
      ]
    }
  ]
}