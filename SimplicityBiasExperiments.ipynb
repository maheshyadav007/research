{
  "nbformat": 4,
  "nbformat_minor": 0,
  "metadata": {
    "colab": {
      "name": "SimplicityBiasExperiments.ipynb",
      "provenance": [],
      "collapsed_sections": [],
      "include_colab_link": true
    },
    "kernelspec": {
      "display_name": "Python 3",
      "name": "python3"
    },
    "language_info": {
      "name": "python"
    },
    "accelerator": "GPU"
  },
  "cells": [
    {
      "cell_type": "markdown",
      "metadata": {
        "id": "view-in-github",
        "colab_type": "text"
      },
      "source": [
        "<a href=\"https://colab.research.google.com/github/maheshyadav007/research/blob/main/SimplicityBiasExperiments.ipynb\" target=\"_parent\"><img src=\"https://colab.research.google.com/assets/colab-badge.svg\" alt=\"Open In Colab\"/></a>"
      ]
    },
    {
      "cell_type": "code",
      "metadata": {
        "id": "hAh_tWL_j6tq",
        "colab": {
          "base_uri": "https://localhost:8080/",
          "height": 35
        },
        "outputId": "f901789d-fcee-4df9-dddd-4a0eef84237d"
      },
      "source": [
        "'''\n",
        "NOTE: If margin of MS(5,7) is decreased, diff result is observed.\n",
        "1. Rotation matrix\n",
        "'''"
      ],
      "execution_count": null,
      "outputs": [
        {
          "output_type": "execute_result",
          "data": {
            "application/vnd.google.colaboratory.intrinsic+json": {
              "type": "string"
            },
            "text/plain": [
              "'\\nNOTE: If margin of MS(5,7) is decreased, diff result is observed.\\n1. Rotation matrix\\n'"
            ]
          },
          "metadata": {
            "tags": []
          },
          "execution_count": 1
        }
      ]
    },
    {
      "cell_type": "code",
      "metadata": {
        "id": "t-dxweeqH25j"
      },
      "source": [
        "import numpy as np\n",
        "import pandas as pd\n",
        "import matplotlib.pyplot as plt\n",
        "import tensorflow as tf\n",
        "from tensorflow import keras\n",
        "from tensorflow.keras import layers\n",
        "from tensorflow.keras import Sequential\n",
        "from sklearn.utils import shuffle\n",
        "from sklearn.model_selection import train_test_split\n",
        "import keras.backend as K\n",
        "from sklearn.metrics import roc_auc_score\n",
        "from scipy.linalg import qr\n",
        "\n"
      ],
      "execution_count": null,
      "outputs": []
    },
    {
      "cell_type": "code",
      "metadata": {
        "id": "rkgDNpAqHIFr"
      },
      "source": [
        "n_data = 5000"
      ],
      "execution_count": null,
      "outputs": []
    },
    {
      "cell_type": "code",
      "metadata": {
        "id": "ZnGQG-uIH1Zi"
      },
      "source": [
        "def gen_lable():\n",
        "  rng = np.random.default_rng(123)\n",
        "  y = rng.choice([-1, 1], n_data)\n",
        "  return y\n",
        "\n",
        "Y = gen_lable()"
      ],
      "execution_count": null,
      "outputs": []
    },
    {
      "cell_type": "code",
      "metadata": {
        "id": "gechPL95J79t"
      },
      "source": [
        "def gen_linear(gamma, B):\n",
        "  X = []\n",
        "  for i in range(n_data):\n",
        "    x = Y[i]*(B*gamma + (B-B*gamma)*np.random.default_rng().uniform(0,1))\n",
        "    X.append(x)\n",
        "  return X\n",
        "\n",
        "def gen_noisy_linear(gamma, B, p):\n",
        "  X = []\n",
        "  for i in range(n_data):\n",
        "    x1 = Y[i]*(B*gamma + (B-B*gamma)*np.random.default_rng().uniform(0,1))\n",
        "    x2 = np.random.default_rng().uniform(-gamma,gamma)\n",
        "    x = np.random.default_rng().choice([x1,x2], p = [1-p,p])\n",
        "    X.append(x)\n",
        "  return X\n",
        "\n",
        "def gen_slab(gamma, B, k):\n",
        "  X = []\n",
        "  w = 2*B*(1-(k-1)*gamma)/k\n",
        "  if k == 3:\n",
        "    for i in range(n_data):\n",
        "      if Y[i] == 1:\n",
        "        x = np.random.default_rng().choice([-1,1])*(.5*w+ 2*B*gamma + w*np.random.default_rng().uniform(0,1))\n",
        "      else:\n",
        "        x = np.random.default_rng().choice([-1,1])*(.5*w*np.random.default_rng().uniform(0,1))\n",
        "      X.append(x)\n",
        "  elif k == 5:\n",
        "    for i in range(n_data):\n",
        "      if Y[i] == 1:\n",
        "        x = np.random.default_rng().choice([-1,1])*(.5*w+ 2*B*gamma + w*np.random.default_rng().uniform(0,1))\n",
        "      else:\n",
        "        x1 = np.random.default_rng().choice([-1,1])*(.5*w*np.random.default_rng().uniform(0,1))\n",
        "        x2 = np.random.default_rng().choice([-1,1])*(.5*w+ 4*B*gamma + w + w*np.random.default_rng().uniform(0,1))\n",
        "        x = np.random.default_rng().choice([x1,x2], p = [.5,.5])\n",
        "      X.append(x)\n",
        "  elif k == 7:\n",
        "    for i in range(n_data):\n",
        "      if Y[i] == 1:\n",
        "        x1 = np.random.default_rng().choice([-1,1])*(.5*w+ 2*B*gamma + w*np.random.default_rng().uniform(0,1))\n",
        "        x2 = np.random.default_rng().choice([-1,1])*(.5*w+ 6*B*gamma + 2*w + w*np.random.default_rng().uniform(0,1))\n",
        "        x = np.random.default_rng().choice([x1,x2], p = [.5,.5])\n",
        "      else:\n",
        "        x1 = np.random.default_rng().choice([-1,1])*(.5*w*np.random.default_rng().uniform(0,1))\n",
        "        x2 = np.random.default_rng().choice([-1,1])*(.5*w+ 4*B*gamma + w + w*np.random.default_rng().uniform(0,1))\n",
        "        x = np.random.default_rng().choice([x1,x2], p = [.5,.5])\n",
        "      X.append(x)\n",
        "  return X"
      ],
      "execution_count": null,
      "outputs": []
    },
    {
      "cell_type": "markdown",
      "metadata": {
        "id": "Kal-5sRRpYbh"
      },
      "source": [
        "Display Datasets"
      ]
    },
    {
      "cell_type": "code",
      "metadata": {
        "id": "LGFvJFc8LHi9"
      },
      "source": [
        "gamma = .3\n",
        "B = 1\n",
        "p = .1\n",
        "k = 5"
      ],
      "execution_count": null,
      "outputs": []
    },
    {
      "cell_type": "code",
      "metadata": {
        "id": "fUTkQ375M9Qj"
      },
      "source": [
        "X_linear = gen_linear(gamma, B)\n",
        "X_noisy_linear = gen_noisy_linear(gamma, B, p)\n",
        "X_slab = gen_slab(gamma,B,k)"
      ],
      "execution_count": null,
      "outputs": []
    },
    {
      "cell_type": "code",
      "metadata": {
        "id": "N0ZAt9CJYwaV"
      },
      "source": [
        ""
      ],
      "execution_count": null,
      "outputs": []
    },
    {
      "cell_type": "code",
      "metadata": {
        "colab": {
          "base_uri": "https://localhost:8080/",
          "height": 761
        },
        "id": "MfeDhCQbN-G5",
        "outputId": "cbd17d4e-42b0-44ef-bba8-8b4a2c7d461f"
      },
      "source": [
        "color = [ \"r\" if(i >0) else \"b\" for i in Y]\n",
        "plt.scatter(x = X_linear, y = np.ones(n_data), c = color)\n",
        "plt.show()\n",
        "plt.scatter(x = X_noisy_linear, y = np.ones(n_data), c = color)\n",
        "plt.show()\n",
        "plt.scatter(x = X_slab, y = np.ones(n_data), c = color)\n",
        "plt.show()"
      ],
      "execution_count": null,
      "outputs": [
        {
          "output_type": "display_data",
          "data": {
            "image/png": "[encoded data removed]",
            "text/plain": [
              "<Figure size 432x288 with 1 Axes>"
            ]
          },
          "metadata": {
            "tags": [],
            "needs_background": "light"
          }
        },
        {
          "output_type": "display_data",
          "data": {
            "image/png": "[encoded data removed]",
            "text/plain": [
              "<Figure size 432x288 with 1 Axes>"
            ]
          },
          "metadata": {
            "tags": [],
            "needs_background": "light"
          }
        },
        {
          "output_type": "display_data",
          "data": {
            "image/png": "[encoded data removed]",
            "text/plain": [
              "<Figure size 432x288 with 1 Axes>"
            ]
          },
          "metadata": {
            "tags": [],
            "needs_background": "light"
          }
        }
      ]
    },
    {
      "cell_type": "code",
      "metadata": {
        "id": "rCEuNMkdT0bz"
      },
      "source": [
        "#X, Y = shuffle(X,Y)\n",
        "def split_data(X,Y):\n",
        "  x_train = []\n",
        "  y_train = []\n",
        "\n",
        "  x_train, x_val, y_train, y_val = train_test_split(X, Y, train_size=0.9)\n",
        "\n",
        "  x_train = np.array(x_train)\n",
        "  y_train = np.array(y_train)\n",
        "  x_val = np.array(x_val)\n",
        "  y_val = np.array(y_val)\n",
        "  \n",
        "  return x_train, y_train, x_val, y_val"
      ],
      "execution_count": null,
      "outputs": []
    },
    {
      "cell_type": "code",
      "metadata": {
        "id": "78xMKs6mTivA"
      },
      "source": [
        "tp = keras.metrics.TruePositives()\n",
        "tn = keras.metrics.TrueNegatives()\n",
        "fp = keras.metrics.FalsePositives()\n",
        "fn = keras.metrics.FalseNegatives()\n",
        "precision = keras.metrics.Precision()\n",
        "recall = keras.metrics.Recall()"
      ],
      "execution_count": null,
      "outputs": []
    },
    {
      "cell_type": "code",
      "metadata": {
        "id": "zR0S4F59TA-s"
      },
      "source": [
        "def train(x_train, y_train,x_val,y_val, epoch):\n",
        "  y_mod_train = y_train.copy()\n",
        "  y_mod_train[y_mod_train == -1] = 0\n",
        "  y_mod_val = y_val.copy()\n",
        "  y_mod_val[y_mod_val == -1] = 0\n",
        "\n",
        "  model = Sequential()\n",
        "  model.add(keras.layers.InputLayer(input_shape=(x_train.shape[1],)))\n",
        "  #model.add(keras.layers.Dropout(.1))\n",
        "  model.add(keras.layers.Dense(100, activation=\"relu\", kernel_regularizer = keras.regularizers.l2(5*1e-7)))\n",
        "  #model.add(keras.layers.Dense(100, activation=\"relu\", kernel_regularizer = keras.regularizers.l2(5*1e-7)))\n",
        "\n",
        "  #model.add(keras.layers.Dropout(.1))\n",
        "  #model.add(keras.layers.Dense(256, activation=\"relu\"))\n",
        "  #model.add(keras.layers.Dropout(.1))\n",
        "  model.add(keras.layers.Dense(1, activation=\"sigmoid\"))\n",
        "  #model.build(input_shape=(1,11))\n",
        "\n",
        "  model.compile(optimizer=keras.optimizers.SGD(learning_rate=.1),\n",
        "                loss=keras.losses.binary_crossentropy, metrics = [\"accuracy\"])#,tp,tn,fp,fn,precision,recall])\n",
        "  model.fit(x_train, y_mod_train,batch_size=256, epochs=epoch, validation_data=(x_val,y_mod_val))\n",
        "\n",
        "  return model"
      ],
      "execution_count": null,
      "outputs": []
    },
    {
      "cell_type": "code",
      "metadata": {
        "id": "9kAON7p6uYyH"
      },
      "source": [
        ""
      ],
      "execution_count": null,
      "outputs": []
    },
    {
      "cell_type": "code",
      "metadata": {
        "id": "oN6RVxb4xtVY"
      },
      "source": [
        "def get_logit_distribution(model, x_val,y_val):\n",
        "  model.layers[-1].activation = None\n",
        "  pred = model.predict(x_val)\n",
        "  #print(len(pred))\n",
        "  print(\"AUC : \",roc_auc_score(y_val,pred))\n",
        "  bool_x = y_val == 1\n",
        "  #plt.hist(pred[bool_x], 50, facecolor=None, alpha=0.5, edgecolor = \"blue\")\n",
        "  #plt.show()\n",
        "  return pred[bool_x]"
      ],
      "execution_count": null,
      "outputs": []
    },
    {
      "cell_type": "code",
      "metadata": {
        "id": "4mBIBtdZnUjO"
      },
      "source": [
        "def plot_hist(original, modified, label):\n",
        "  bins = np.linspace(-50, 50, 100)\n",
        "  plt.hist(original, bins, alpha=0.5, label='Original')\n",
        "  plt.hist(modified, bins, alpha=0.5, label=label)\n",
        "  plt.legend(loc='upper right')\n",
        "  plt.show()"
      ],
      "execution_count": null,
      "outputs": []
    },
    {
      "cell_type": "code",
      "metadata": {
        "id": "KZ_pAkMAR7C6"
      },
      "source": [
        "def plot_decision_boundary(X,Y, model):\n",
        "  X_reduced = X[:,:2]\n",
        "  #x_train, y_train, x_val, y_val = split_data(X_reduced,Y)\n",
        "  #model = train(x_train, y_train, x_val, y_val)\n",
        "\n",
        "  h = .02     # point in the mesh [x_min, m_max]x[y_min, y_max].    \n",
        "  x_min, x_max = X_reduced[:, 0].min() - 1, X_reduced[:, 0].max() + 1\n",
        "  y_min, y_max = X_reduced[:, 1].min() - 1, X_reduced[:, 1].max() + 1\n",
        "  xx, yy = np.meshgrid(np.arange(x_min, x_max, h), np.arange(y_min, y_max, h))\n",
        "\n",
        "  Z = model.predict(np.c_[xx.ravel(), yy.ravel()])    \n",
        "\n",
        "  x_min, x_max = X[:, 0].min() - 1, X[:, 0].max() + 1\n",
        "  y_min, y_max = X[:, 1].min() - 1, X[:, 1].max() + 1\n",
        "  xx, yy = np.meshgrid(np.arange(x_min, x_max, 0.1),\n",
        "                        np.arange(y_min, y_max, 0.1))\n",
        "  Z = model.predict(np.c_[xx.ravel(), yy.ravel()]).reshape(xx.shape)\n",
        "\n",
        "  # Plotting\n",
        "  plt.scatter(X[:,0], X[:,1], c= Y)\n",
        "  plt.contourf(xx, yy, Z, alpha=0.4)\n",
        "  plt.scatter(X[:, 0], X[:, 1],c = Y, alpha=0.8)\n",
        "  plt.xlabel(\"S\",fontsize=15)\n",
        "  plt.ylabel(\"Sc\",fontsize=15)\n",
        "  plt.xticks(fontsize=14)\n",
        "  plt.yticks(fontsize=14)\n",
        "  plt.show()\n"
      ],
      "execution_count": null,
      "outputs": []
    },
    {
      "cell_type": "code",
      "metadata": {
        "id": "t3YddyDTeP-S"
      },
      "source": [
        "gamma = .1\n",
        "B = 1\n",
        "p = .1\n",
        "n_features = 2"
      ],
      "execution_count": null,
      "outputs": []
    },
    {
      "cell_type": "markdown",
      "metadata": {
        "id": "LPAH1sIRdqFb"
      },
      "source": [
        "Results on LMS-5 Dataset"
      ]
    },
    {
      "cell_type": "code",
      "metadata": {
        "id": "a08rXAP4eRpC"
      },
      "source": [
        "k= 5"
      ],
      "execution_count": null,
      "outputs": []
    },
    {
      "cell_type": "code",
      "metadata": {
        "id": "sOsIp7BHeK0L"
      },
      "source": [
        "X = []\n",
        "X.append(gen_linear(gamma, B))\n",
        "for i in range(n_features-1):\n",
        "  X.append(gen_slab(gamma,B,k))\n",
        "X = np.array(X)\n",
        "X = X.transpose()"
      ],
      "execution_count": null,
      "outputs": []
    },
    {
      "cell_type": "code",
      "metadata": {
        "colab": {
          "base_uri": "https://localhost:8080/"
        },
        "id": "bfZehDuCwGQ0",
        "outputId": "8d5bd351-7bb4-4962-e79b-a7bd5b45155d"
      },
      "source": [
        "#Original \n",
        "x_train, y_train, x_val, y_val = split_data(X,Y)\n",
        "model = train(x_train, y_train, x_val, y_val, 10)\n",
        "original_logit_dist = get_logit_distribution(model,x_val,y_val)"
      ],
      "execution_count": null,
      "outputs": [
        {
          "output_type": "stream",
          "text": [
            "Epoch 1/10\n",
            "18/18 [==============================] - 2s 13ms/step - loss: 0.6107 - accuracy: 0.9702 - val_loss: 0.5210 - val_accuracy: 1.0000\n",
            "Epoch 2/10\n",
            "18/18 [==============================] - 0s 3ms/step - loss: 0.4255 - accuracy: 1.0000 - val_loss: 0.3245 - val_accuracy: 1.0000\n",
            "Epoch 3/10\n",
            "18/18 [==============================] - 0s 4ms/step - loss: 0.2463 - accuracy: 1.0000 - val_loss: 0.1804 - val_accuracy: 1.0000\n",
            "Epoch 4/10\n",
            "18/18 [==============================] - 0s 3ms/step - loss: 0.1402 - accuracy: 1.0000 - val_loss: 0.1109 - val_accuracy: 1.0000\n",
            "Epoch 5/10\n",
            "18/18 [==============================] - 0s 3ms/step - loss: 0.0902 - accuracy: 1.0000 - val_loss: 0.0771 - val_accuracy: 1.0000\n",
            "Epoch 6/10\n",
            "18/18 [==============================] - 0s 3ms/step - loss: 0.0646 - accuracy: 1.0000 - val_loss: 0.0584 - val_accuracy: 1.0000\n",
            "Epoch 7/10\n",
            "18/18 [==============================] - 0s 3ms/step - loss: 0.0498 - accuracy: 1.0000 - val_loss: 0.0466 - val_accuracy: 1.0000\n",
            "Epoch 8/10\n",
            "18/18 [==============================] - 0s 3ms/step - loss: 0.0402 - accuracy: 1.0000 - val_loss: 0.0387 - val_accuracy: 1.0000\n",
            "Epoch 9/10\n",
            "18/18 [==============================] - 0s 3ms/step - loss: 0.0335 - accuracy: 1.0000 - val_loss: 0.0329 - val_accuracy: 1.0000\n",
            "Epoch 10/10\n",
            "18/18 [==============================] - 0s 4ms/step - loss: 0.0287 - accuracy: 1.0000 - val_loss: 0.0286 - val_accuracy: 1.0000\n",
            "AUC :  1.0\n"
          ],
          "name": "stdout"
        }
      ]
    },
    {
      "cell_type": "code",
      "metadata": {
        "colab": {
          "base_uri": "https://localhost:8080/",
          "height": 53
        },
        "id": "plO_MkDzhlau",
        "outputId": "38295778-f814-4b0b-f4d4-2235e1335053"
      },
      "source": [
        "'''\n",
        "#model.layers[-1].activation = None\n",
        "y_mod_val = y_val.copy()\n",
        "y_mod_val[y_mod_val == -1] = 0\n",
        "pred = model.predict(x_val)\n",
        "print(roc_auc_score(y_mod_val,pred))\n",
        "model.evaluate(x_val,y_mod_val)\n",
        "'''"
      ],
      "execution_count": null,
      "outputs": [
        {
          "output_type": "execute_result",
          "data": {
            "application/vnd.google.colaboratory.intrinsic+json": {
              "type": "string"
            },
            "text/plain": [
              "'\\n#model.layers[-1].activation = None\\ny_mod_val = y_val.copy()\\ny_mod_val[y_mod_val == -1] = 0\\npred = model.predict(x_val)\\nprint(roc_auc_score(y_mod_val,pred))\\nmodel.evaluate(x_val,y_mod_val)\\n'"
            ]
          },
          "metadata": {
            "tags": []
          },
          "execution_count": 19
        }
      ]
    },
    {
      "cell_type": "code",
      "metadata": {
        "colab": {
          "base_uri": "https://localhost:8080/"
        },
        "id": "oljn8KFIwhIE",
        "outputId": "a080893b-c105-40ad-af6d-b5a986c6da7b"
      },
      "source": [
        "#Linear(S) Randomized\n",
        "X_LR = X.copy()\n",
        "X_LR[:,0] = shuffle(X_LR[:,0])\n",
        "x_train, y_train, x_val, y_val = split_data(X_LR,Y)\n",
        "#model = train(x_train, y_train, x_val, y_val)\n",
        "LR_logit_dist = get_logit_distribution(model,x_val, y_val)"
      ],
      "execution_count": null,
      "outputs": [
        {
          "output_type": "stream",
          "text": [
            "AUC :  0.5062724014336918\n"
          ],
          "name": "stdout"
        }
      ]
    },
    {
      "cell_type": "code",
      "metadata": {
        "colab": {
          "base_uri": "https://localhost:8080/"
        },
        "id": "AuL5Lpm3w898",
        "outputId": "11ede37d-61d0-459d-e078-87cd968cfaf8"
      },
      "source": [
        "#S complement  Randomized\n",
        "X_CR = X.copy()\n",
        "X_CR[:,1:-1] = shuffle(X_CR[:,1:-1])\n",
        "x_train, y_train, x_val, y_val = split_data(X_CR,Y)\n",
        "#model = train(x_train, y_train, x_val, y_val)\n",
        "CR_logit_dist = get_logit_distribution(model,x_val,y_val)"
      ],
      "execution_count": null,
      "outputs": [
        {
          "output_type": "stream",
          "text": [
            "AUC :  1.0\n"
          ],
          "name": "stdout"
        }
      ]
    },
    {
      "cell_type": "code",
      "metadata": {
        "colab": {
          "base_uri": "https://localhost:8080/",
          "height": 264
        },
        "id": "F92GrtQClFeX",
        "outputId": "9cf3d541-a532-408c-f4db-6330f330f02f"
      },
      "source": [
        "plot_hist(original_logit_dist,LR_logit_dist, \"Linear Randomized\")"
      ],
      "execution_count": null,
      "outputs": [
        {
          "output_type": "display_data",
          "data": {
            "image/png": "[encoded data removed]",
            "text/plain": [
              "<Figure size 432x288 with 1 Axes>"
            ]
          },
          "metadata": {
            "tags": [],
            "needs_background": "light"
          }
        }
      ]
    },
    {
      "cell_type": "code",
      "metadata": {
        "colab": {
          "base_uri": "https://localhost:8080/",
          "height": 265
        },
        "id": "PPXn_BLumvq2",
        "outputId": "3ec73758-9ae3-40df-d2ea-4f969aebc820"
      },
      "source": [
        "plot_hist(original_logit_dist,CR_logit_dist, \"5 Slabs Randomized\")"
      ],
      "execution_count": null,
      "outputs": [
        {
          "output_type": "display_data",
          "data": {
            "image/png": "[encoded data removed]",
            "text/plain": [
              "<Figure size 432x288 with 1 Axes>"
            ]
          },
          "metadata": {
            "tags": [],
            "needs_background": "light"
          }
        }
      ]
    },
    {
      "cell_type": "code",
      "metadata": {
        "colab": {
          "base_uri": "https://localhost:8080/"
        },
        "id": "Dyw21j5kWK1y",
        "outputId": "a8ef579f-bc93-48f1-ca07-aa7ae2397207"
      },
      "source": [
        "X_reduced = X[:,:2]\n",
        "x_train, y_train, x_val, y_val = split_data(X_reduced,Y)\n",
        "model = train(x_train, y_train, x_val, y_val,10)"
      ],
      "execution_count": null,
      "outputs": [
        {
          "output_type": "stream",
          "text": [
            "Epoch 1/10\n",
            "18/18 [==============================] - 0s 10ms/step - loss: 0.6323 - accuracy: 0.8522 - val_loss: 0.5521 - val_accuracy: 1.0000\n",
            "Epoch 2/10\n",
            "18/18 [==============================] - 0s 3ms/step - loss: 0.4655 - accuracy: 0.9996 - val_loss: 0.3723 - val_accuracy: 1.0000\n",
            "Epoch 3/10\n",
            "18/18 [==============================] - 0s 3ms/step - loss: 0.2842 - accuracy: 1.0000 - val_loss: 0.2128 - val_accuracy: 1.0000\n",
            "Epoch 4/10\n",
            "18/18 [==============================] - 0s 4ms/step - loss: 0.1614 - accuracy: 1.0000 - val_loss: 0.1286 - val_accuracy: 1.0000\n",
            "Epoch 5/10\n",
            "18/18 [==============================] - 0s 3ms/step - loss: 0.1014 - accuracy: 1.0000 - val_loss: 0.0864 - val_accuracy: 1.0000\n",
            "Epoch 6/10\n",
            "18/18 [==============================] - 0s 3ms/step - loss: 0.0712 - accuracy: 1.0000 - val_loss: 0.0632 - val_accuracy: 1.0000\n",
            "Epoch 7/10\n",
            "18/18 [==============================] - 0s 3ms/step - loss: 0.0541 - accuracy: 1.0000 - val_loss: 0.0495 - val_accuracy: 1.0000\n",
            "Epoch 8/10\n",
            "18/18 [==============================] - 0s 3ms/step - loss: 0.0433 - accuracy: 1.0000 - val_loss: 0.0402 - val_accuracy: 1.0000\n",
            "Epoch 9/10\n",
            "18/18 [==============================] - 0s 3ms/step - loss: 0.0358 - accuracy: 1.0000 - val_loss: 0.0336 - val_accuracy: 1.0000\n",
            "Epoch 10/10\n",
            "18/18 [==============================] - 0s 3ms/step - loss: 0.0305 - accuracy: 1.0000 - val_loss: 0.0287 - val_accuracy: 1.0000\n"
          ],
          "name": "stdout"
        }
      ]
    },
    {
      "cell_type": "code",
      "metadata": {
        "colab": {
          "base_uri": "https://localhost:8080/",
          "height": 287
        },
        "id": "NXsu7wMZSmam",
        "outputId": "fc75698d-ebf8-42e9-fb1f-fb0de937378a"
      },
      "source": [
        "plot_decision_boundary(X,Y,model)"
      ],
      "execution_count": null,
      "outputs": [
        {
          "output_type": "display_data",
          "data": {
            "image/png": "[encoded data removed]",
            "text/plain": [
              "<Figure size 432x288 with 1 Axes>"
            ]
          },
          "metadata": {
            "tags": [],
            "needs_background": "light"
          }
        }
      ]
    },
    {
      "cell_type": "markdown",
      "metadata": {
        "id": "saX3Da1gdzep"
      },
      "source": [
        "Results on MS-5 Dataset"
      ]
    },
    {
      "cell_type": "code",
      "metadata": {
        "id": "KQJsImiVHmlu"
      },
      "source": [
        "def get_orthonormal_matrix(n):\n",
        "    H = np.random.randn(n, n)\n",
        "    s = np.linalg.svd(H)[1]\n",
        "    s = s[s>1e-7]\n",
        "    if len(s) != n: return get_orthonormal_matrix(n)\n",
        "    Q, R = qr(H)\n",
        "    return Q"
      ],
      "execution_count": null,
      "outputs": []
    },
    {
      "cell_type": "code",
      "metadata": {
        "id": "wb7YYZL_eXuC"
      },
      "source": [
        "k1 = 5\n",
        "k2 = 7\n",
        "gamma = .1\n",
        "n_features = 50\n",
        "B = 1"
      ],
      "execution_count": null,
      "outputs": []
    },
    {
      "cell_type": "code",
      "metadata": {
        "id": "kscLA9pjeaZG"
      },
      "source": [
        "\n",
        "X_MS = []\n",
        "X_MS.append(gen_slab(gamma,B,k1))\n",
        "for i in range(n_features-1):\n",
        "  X_MS.append(gen_slab(gamma,B,k2))\n",
        "X_MS = np.array(X_MS)\n",
        "X_MS = X_MS.transpose()"
      ],
      "execution_count": null,
      "outputs": []
    },
    {
      "cell_type": "code",
      "metadata": {
        "id": "oxnnJzaSHuem"
      },
      "source": [
        "#X = X.dot(get_orthonormal_matrix(n_features))"
      ],
      "execution_count": null,
      "outputs": []
    },
    {
      "cell_type": "code",
      "metadata": {
        "id": "XO8re0i3d_ZD",
        "colab": {
          "base_uri": "https://localhost:8080/"
        },
        "outputId": "9396f85f-cc6b-4d57-8ffa-876e95724a26"
      },
      "source": [
        "#Original \n",
        "x_train, y_train, x_val, y_val = split_data(X_MS,Y)\n",
        "model = train(x_train, y_train, x_val, y_val,180)\n",
        "original_logit_dist = get_logit_distribution(model,x_val, y_val)"
      ],
      "execution_count": null,
      "outputs": [
        {
          "output_type": "stream",
          "text": [
            "Epoch 1/180\n",
            "18/18 [==============================] - 0s 9ms/step - loss: 0.7207 - accuracy: 0.5009 - val_loss: 0.6650 - val_accuracy: 0.5820\n",
            "Epoch 2/180\n",
            "18/18 [==============================] - 0s 3ms/step - loss: 0.6849 - accuracy: 0.5156 - val_loss: 0.6444 - val_accuracy: 0.5900\n",
            "Epoch 3/180\n",
            "18/18 [==============================] - 0s 3ms/step - loss: 0.6626 - accuracy: 0.5542 - val_loss: 0.6277 - val_accuracy: 0.6340\n",
            "Epoch 4/180\n",
            "18/18 [==============================] - 0s 3ms/step - loss: 0.6431 - accuracy: 0.5976 - val_loss: 0.6131 - val_accuracy: 0.6680\n",
            "Epoch 5/180\n",
            "18/18 [==============================] - 0s 3ms/step - loss: 0.6254 - accuracy: 0.6416 - val_loss: 0.6001 - val_accuracy: 0.7080\n",
            "Epoch 6/180\n",
            "18/18 [==============================] - 0s 3ms/step - loss: 0.6091 - accuracy: 0.6944 - val_loss: 0.5862 - val_accuracy: 0.7240\n",
            "Epoch 7/180\n",
            "18/18 [==============================] - 0s 3ms/step - loss: 0.5938 - accuracy: 0.7224 - val_loss: 0.5741 - val_accuracy: 0.7560\n",
            "Epoch 8/180\n",
            "18/18 [==============================] - 0s 3ms/step - loss: 0.5793 - accuracy: 0.7598 - val_loss: 0.5622 - val_accuracy: 0.7860\n",
            "Epoch 9/180\n",
            "18/18 [==============================] - 0s 3ms/step - loss: 0.5654 - accuracy: 0.7884 - val_loss: 0.5504 - val_accuracy: 0.8060\n",
            "Epoch 10/180\n",
            "18/18 [==============================] - 0s 3ms/step - loss: 0.5519 - accuracy: 0.8033 - val_loss: 0.5391 - val_accuracy: 0.8180\n",
            "Epoch 11/180\n",
            "18/18 [==============================] - 0s 3ms/step - loss: 0.5388 - accuracy: 0.8244 - val_loss: 0.5287 - val_accuracy: 0.8460\n",
            "Epoch 12/180\n",
            "18/18 [==============================] - 0s 3ms/step - loss: 0.5260 - accuracy: 0.8491 - val_loss: 0.5180 - val_accuracy: 0.8600\n",
            "Epoch 13/180\n",
            "18/18 [==============================] - 0s 3ms/step - loss: 0.5134 - accuracy: 0.8640 - val_loss: 0.5074 - val_accuracy: 0.8660\n",
            "Epoch 14/180\n",
            "18/18 [==============================] - 0s 3ms/step - loss: 0.5012 - accuracy: 0.8744 - val_loss: 0.4969 - val_accuracy: 0.8780\n",
            "Epoch 15/180\n",
            "18/18 [==============================] - 0s 3ms/step - loss: 0.4892 - accuracy: 0.8844 - val_loss: 0.4868 - val_accuracy: 0.8880\n",
            "Epoch 16/180\n",
            "18/18 [==============================] - 0s 3ms/step - loss: 0.4773 - accuracy: 0.8953 - val_loss: 0.4770 - val_accuracy: 0.8920\n",
            "Epoch 17/180\n",
            "18/18 [==============================] - 0s 3ms/step - loss: 0.4656 - accuracy: 0.9029 - val_loss: 0.4672 - val_accuracy: 0.8980\n",
            "Epoch 18/180\n",
            "18/18 [==============================] - 0s 3ms/step - loss: 0.4542 - accuracy: 0.9107 - val_loss: 0.4575 - val_accuracy: 0.9060\n",
            "Epoch 19/180\n",
            "18/18 [==============================] - 0s 3ms/step - loss: 0.4428 - accuracy: 0.9184 - val_loss: 0.4481 - val_accuracy: 0.9160\n",
            "Epoch 20/180\n",
            "18/18 [==============================] - 0s 3ms/step - loss: 0.4317 - accuracy: 0.9227 - val_loss: 0.4390 - val_accuracy: 0.9180\n",
            "Epoch 21/180\n",
            "18/18 [==============================] - 0s 3ms/step - loss: 0.4208 - accuracy: 0.9311 - val_loss: 0.4294 - val_accuracy: 0.9200\n",
            "Epoch 22/180\n",
            "18/18 [==============================] - 0s 3ms/step - loss: 0.4099 - accuracy: 0.9364 - val_loss: 0.4199 - val_accuracy: 0.9240\n",
            "Epoch 23/180\n",
            "18/18 [==============================] - 0s 3ms/step - loss: 0.3993 - accuracy: 0.9396 - val_loss: 0.4109 - val_accuracy: 0.9260\n",
            "Epoch 24/180\n",
            "18/18 [==============================] - 0s 3ms/step - loss: 0.3887 - accuracy: 0.9422 - val_loss: 0.4021 - val_accuracy: 0.9300\n",
            "Epoch 25/180\n",
            "18/18 [==============================] - 0s 3ms/step - loss: 0.3783 - accuracy: 0.9467 - val_loss: 0.3941 - val_accuracy: 0.9320\n",
            "Epoch 26/180\n",
            "18/18 [==============================] - 0s 3ms/step - loss: 0.3680 - accuracy: 0.9493 - val_loss: 0.3853 - val_accuracy: 0.9340\n",
            "Epoch 27/180\n",
            "18/18 [==============================] - 0s 3ms/step - loss: 0.3579 - accuracy: 0.9511 - val_loss: 0.3778 - val_accuracy: 0.9340\n",
            "Epoch 28/180\n",
            "18/18 [==============================] - 0s 3ms/step - loss: 0.3482 - accuracy: 0.9549 - val_loss: 0.3689 - val_accuracy: 0.9400\n",
            "Epoch 29/180\n",
            "18/18 [==============================] - 0s 3ms/step - loss: 0.3385 - accuracy: 0.9573 - val_loss: 0.3613 - val_accuracy: 0.9380\n",
            "Epoch 30/180\n",
            "18/18 [==============================] - 0s 3ms/step - loss: 0.3290 - accuracy: 0.9604 - val_loss: 0.3537 - val_accuracy: 0.9420\n",
            "Epoch 31/180\n",
            "18/18 [==============================] - 0s 3ms/step - loss: 0.3199 - accuracy: 0.9627 - val_loss: 0.3456 - val_accuracy: 0.9400\n",
            "Epoch 32/180\n",
            "18/18 [==============================] - 0s 3ms/step - loss: 0.3109 - accuracy: 0.9656 - val_loss: 0.3387 - val_accuracy: 0.9420\n",
            "Epoch 33/180\n",
            "18/18 [==============================] - 0s 3ms/step - loss: 0.3021 - accuracy: 0.9673 - val_loss: 0.3315 - val_accuracy: 0.9420\n",
            "Epoch 34/180\n",
            "18/18 [==============================] - 0s 3ms/step - loss: 0.2936 - accuracy: 0.9684 - val_loss: 0.3246 - val_accuracy: 0.9400\n",
            "Epoch 35/180\n",
            "18/18 [==============================] - 0s 3ms/step - loss: 0.2853 - accuracy: 0.9702 - val_loss: 0.3172 - val_accuracy: 0.9420\n",
            "Epoch 36/180\n",
            "18/18 [==============================] - 0s 3ms/step - loss: 0.2772 - accuracy: 0.9713 - val_loss: 0.3110 - val_accuracy: 0.9400\n",
            "Epoch 37/180\n",
            "18/18 [==============================] - 0s 3ms/step - loss: 0.2692 - accuracy: 0.9722 - val_loss: 0.3052 - val_accuracy: 0.9360\n",
            "Epoch 38/180\n",
            "18/18 [==============================] - 0s 3ms/step - loss: 0.2616 - accuracy: 0.9747 - val_loss: 0.2987 - val_accuracy: 0.9400\n",
            "Epoch 39/180\n",
            "18/18 [==============================] - 0s 3ms/step - loss: 0.2541 - accuracy: 0.9753 - val_loss: 0.2928 - val_accuracy: 0.9380\n",
            "Epoch 40/180\n",
            "18/18 [==============================] - 0s 3ms/step - loss: 0.2467 - accuracy: 0.9762 - val_loss: 0.2869 - val_accuracy: 0.9400\n",
            "Epoch 41/180\n",
            "18/18 [==============================] - 0s 3ms/step - loss: 0.2396 - accuracy: 0.9778 - val_loss: 0.2823 - val_accuracy: 0.9400\n",
            "Epoch 42/180\n",
            "18/18 [==============================] - 0s 3ms/step - loss: 0.2330 - accuracy: 0.9782 - val_loss: 0.2766 - val_accuracy: 0.9420\n",
            "Epoch 43/180\n",
            "18/18 [==============================] - 0s 3ms/step - loss: 0.2263 - accuracy: 0.9800 - val_loss: 0.2707 - val_accuracy: 0.9440\n",
            "Epoch 44/180\n",
            "18/18 [==============================] - 0s 3ms/step - loss: 0.2198 - accuracy: 0.9813 - val_loss: 0.2665 - val_accuracy: 0.9440\n",
            "Epoch 45/180\n",
            "18/18 [==============================] - 0s 3ms/step - loss: 0.2138 - accuracy: 0.9831 - val_loss: 0.2602 - val_accuracy: 0.9440\n",
            "Epoch 46/180\n",
            "18/18 [==============================] - 0s 3ms/step - loss: 0.2079 - accuracy: 0.9840 - val_loss: 0.2551 - val_accuracy: 0.9460\n",
            "Epoch 47/180\n",
            "18/18 [==============================] - 0s 3ms/step - loss: 0.2021 - accuracy: 0.9844 - val_loss: 0.2513 - val_accuracy: 0.9460\n",
            "Epoch 48/180\n",
            "18/18 [==============================] - 0s 3ms/step - loss: 0.1966 - accuracy: 0.9853 - val_loss: 0.2474 - val_accuracy: 0.9460\n",
            "Epoch 49/180\n",
            "18/18 [==============================] - 0s 3ms/step - loss: 0.1913 - accuracy: 0.9851 - val_loss: 0.2426 - val_accuracy: 0.9480\n",
            "Epoch 50/180\n",
            "18/18 [==============================] - 0s 3ms/step - loss: 0.1861 - accuracy: 0.9864 - val_loss: 0.2384 - val_accuracy: 0.9480\n",
            "Epoch 51/180\n",
            "18/18 [==============================] - 0s 3ms/step - loss: 0.1811 - accuracy: 0.9876 - val_loss: 0.2348 - val_accuracy: 0.9480\n",
            "Epoch 52/180\n",
            "18/18 [==============================] - 0s 3ms/step - loss: 0.1764 - accuracy: 0.9878 - val_loss: 0.2307 - val_accuracy: 0.9480\n",
            "Epoch 53/180\n",
            "18/18 [==============================] - 0s 3ms/step - loss: 0.1717 - accuracy: 0.9878 - val_loss: 0.2268 - val_accuracy: 0.9480\n",
            "Epoch 54/180\n",
            "18/18 [==============================] - 0s 3ms/step - loss: 0.1672 - accuracy: 0.9898 - val_loss: 0.2233 - val_accuracy: 0.9480\n",
            "Epoch 55/180\n",
            "18/18 [==============================] - 0s 3ms/step - loss: 0.1630 - accuracy: 0.9898 - val_loss: 0.2206 - val_accuracy: 0.9480\n",
            "Epoch 56/180\n",
            "18/18 [==============================] - 0s 3ms/step - loss: 0.1588 - accuracy: 0.9902 - val_loss: 0.2171 - val_accuracy: 0.9480\n",
            "Epoch 57/180\n",
            "18/18 [==============================] - 0s 3ms/step - loss: 0.1547 - accuracy: 0.9911 - val_loss: 0.2145 - val_accuracy: 0.9500\n",
            "Epoch 58/180\n",
            "18/18 [==============================] - 0s 3ms/step - loss: 0.1510 - accuracy: 0.9907 - val_loss: 0.2110 - val_accuracy: 0.9500\n",
            "Epoch 59/180\n",
            "18/18 [==============================] - 0s 3ms/step - loss: 0.1472 - accuracy: 0.9909 - val_loss: 0.2090 - val_accuracy: 0.9500\n",
            "Epoch 60/180\n",
            "18/18 [==============================] - 0s 3ms/step - loss: 0.1436 - accuracy: 0.9918 - val_loss: 0.2058 - val_accuracy: 0.9520\n",
            "Epoch 61/180\n",
            "18/18 [==============================] - 0s 3ms/step - loss: 0.1401 - accuracy: 0.9920 - val_loss: 0.2036 - val_accuracy: 0.9520\n",
            "Epoch 62/180\n",
            "18/18 [==============================] - 0s 3ms/step - loss: 0.1367 - accuracy: 0.9920 - val_loss: 0.2012 - val_accuracy: 0.9520\n",
            "Epoch 63/180\n",
            "18/18 [==============================] - 0s 3ms/step - loss: 0.1335 - accuracy: 0.9924 - val_loss: 0.1984 - val_accuracy: 0.9540\n",
            "Epoch 64/180\n",
            "18/18 [==============================] - 0s 3ms/step - loss: 0.1304 - accuracy: 0.9931 - val_loss: 0.1967 - val_accuracy: 0.9540\n",
            "Epoch 65/180\n",
            "18/18 [==============================] - 0s 4ms/step - loss: 0.1273 - accuracy: 0.9924 - val_loss: 0.1936 - val_accuracy: 0.9540\n",
            "Epoch 66/180\n",
            "18/18 [==============================] - 0s 3ms/step - loss: 0.1244 - accuracy: 0.9938 - val_loss: 0.1916 - val_accuracy: 0.9560\n",
            "Epoch 67/180\n",
            "18/18 [==============================] - 0s 3ms/step - loss: 0.1215 - accuracy: 0.9936 - val_loss: 0.1889 - val_accuracy: 0.9540\n",
            "Epoch 68/180\n",
            "18/18 [==============================] - 0s 3ms/step - loss: 0.1187 - accuracy: 0.9938 - val_loss: 0.1861 - val_accuracy: 0.9520\n",
            "Epoch 69/180\n",
            "18/18 [==============================] - 0s 3ms/step - loss: 0.1160 - accuracy: 0.9947 - val_loss: 0.1849 - val_accuracy: 0.9560\n",
            "Epoch 70/180\n",
            "18/18 [==============================] - 0s 3ms/step - loss: 0.1135 - accuracy: 0.9956 - val_loss: 0.1822 - val_accuracy: 0.9520\n",
            "Epoch 71/180\n",
            "18/18 [==============================] - 0s 3ms/step - loss: 0.1109 - accuracy: 0.9949 - val_loss: 0.1811 - val_accuracy: 0.9560\n",
            "Epoch 72/180\n",
            "18/18 [==============================] - 0s 3ms/step - loss: 0.1085 - accuracy: 0.9958 - val_loss: 0.1778 - val_accuracy: 0.9560\n",
            "Epoch 73/180\n",
            "18/18 [==============================] - 0s 3ms/step - loss: 0.1062 - accuracy: 0.9958 - val_loss: 0.1774 - val_accuracy: 0.9580\n",
            "Epoch 74/180\n",
            "18/18 [==============================] - 0s 3ms/step - loss: 0.1038 - accuracy: 0.9962 - val_loss: 0.1753 - val_accuracy: 0.9580\n",
            "Epoch 75/180\n",
            "18/18 [==============================] - 0s 3ms/step - loss: 0.1016 - accuracy: 0.9967 - val_loss: 0.1745 - val_accuracy: 0.9580\n",
            "Epoch 76/180\n",
            "18/18 [==============================] - 0s 3ms/step - loss: 0.0995 - accuracy: 0.9967 - val_loss: 0.1742 - val_accuracy: 0.9540\n",
            "Epoch 77/180\n",
            "18/18 [==============================] - 0s 3ms/step - loss: 0.0975 - accuracy: 0.9969 - val_loss: 0.1704 - val_accuracy: 0.9600\n",
            "Epoch 78/180\n",
            "18/18 [==============================] - 0s 3ms/step - loss: 0.0954 - accuracy: 0.9976 - val_loss: 0.1691 - val_accuracy: 0.9600\n",
            "Epoch 79/180\n",
            "18/18 [==============================] - 0s 3ms/step - loss: 0.0935 - accuracy: 0.9973 - val_loss: 0.1678 - val_accuracy: 0.9600\n",
            "Epoch 80/180\n",
            "18/18 [==============================] - 0s 3ms/step - loss: 0.0916 - accuracy: 0.9973 - val_loss: 0.1662 - val_accuracy: 0.9600\n",
            "Epoch 81/180\n",
            "18/18 [==============================] - 0s 3ms/step - loss: 0.0897 - accuracy: 0.9973 - val_loss: 0.1650 - val_accuracy: 0.9580\n",
            "Epoch 82/180\n",
            "18/18 [==============================] - 0s 3ms/step - loss: 0.0880 - accuracy: 0.9978 - val_loss: 0.1642 - val_accuracy: 0.9600\n",
            "Epoch 83/180\n",
            "18/18 [==============================] - 0s 3ms/step - loss: 0.0863 - accuracy: 0.9978 - val_loss: 0.1626 - val_accuracy: 0.9600\n",
            "Epoch 84/180\n",
            "18/18 [==============================] - 0s 3ms/step - loss: 0.0846 - accuracy: 0.9978 - val_loss: 0.1621 - val_accuracy: 0.9560\n",
            "Epoch 85/180\n",
            "18/18 [==============================] - 0s 3ms/step - loss: 0.0830 - accuracy: 0.9978 - val_loss: 0.1604 - val_accuracy: 0.9560\n",
            "Epoch 86/180\n",
            "18/18 [==============================] - 0s 3ms/step - loss: 0.0814 - accuracy: 0.9978 - val_loss: 0.1598 - val_accuracy: 0.9580\n",
            "Epoch 87/180\n",
            "18/18 [==============================] - 0s 3ms/step - loss: 0.0799 - accuracy: 0.9978 - val_loss: 0.1578 - val_accuracy: 0.9580\n",
            "Epoch 88/180\n",
            "18/18 [==============================] - 0s 3ms/step - loss: 0.0784 - accuracy: 0.9980 - val_loss: 0.1567 - val_accuracy: 0.9580\n",
            "Epoch 89/180\n",
            "18/18 [==============================] - 0s 3ms/step - loss: 0.0769 - accuracy: 0.9982 - val_loss: 0.1567 - val_accuracy: 0.9560\n",
            "Epoch 90/180\n",
            "18/18 [==============================] - 0s 3ms/step - loss: 0.0755 - accuracy: 0.9980 - val_loss: 0.1541 - val_accuracy: 0.9600\n",
            "Epoch 91/180\n",
            "18/18 [==============================] - 0s 3ms/step - loss: 0.0741 - accuracy: 0.9982 - val_loss: 0.1539 - val_accuracy: 0.9600\n",
            "Epoch 92/180\n",
            "18/18 [==============================] - 0s 3ms/step - loss: 0.0728 - accuracy: 0.9982 - val_loss: 0.1524 - val_accuracy: 0.9600\n",
            "Epoch 93/180\n",
            "18/18 [==============================] - 0s 3ms/step - loss: 0.0715 - accuracy: 0.9982 - val_loss: 0.1514 - val_accuracy: 0.9600\n",
            "Epoch 94/180\n",
            "18/18 [==============================] - 0s 3ms/step - loss: 0.0702 - accuracy: 0.9982 - val_loss: 0.1514 - val_accuracy: 0.9580\n",
            "Epoch 95/180\n",
            "18/18 [==============================] - 0s 3ms/step - loss: 0.0690 - accuracy: 0.9982 - val_loss: 0.1513 - val_accuracy: 0.9600\n",
            "Epoch 96/180\n",
            "18/18 [==============================] - 0s 3ms/step - loss: 0.0678 - accuracy: 0.9982 - val_loss: 0.1499 - val_accuracy: 0.9600\n",
            "Epoch 97/180\n",
            "18/18 [==============================] - 0s 3ms/step - loss: 0.0667 - accuracy: 0.9984 - val_loss: 0.1470 - val_accuracy: 0.9560\n",
            "Epoch 98/180\n",
            "18/18 [==============================] - 0s 3ms/step - loss: 0.0656 - accuracy: 0.9984 - val_loss: 0.1474 - val_accuracy: 0.9600\n",
            "Epoch 99/180\n",
            "18/18 [==============================] - 0s 3ms/step - loss: 0.0644 - accuracy: 0.9987 - val_loss: 0.1464 - val_accuracy: 0.9580\n",
            "Epoch 100/180\n",
            "18/18 [==============================] - 0s 3ms/step - loss: 0.0634 - accuracy: 0.9989 - val_loss: 0.1455 - val_accuracy: 0.9580\n",
            "Epoch 101/180\n",
            "18/18 [==============================] - 0s 3ms/step - loss: 0.0623 - accuracy: 0.9987 - val_loss: 0.1445 - val_accuracy: 0.9580\n",
            "Epoch 102/180\n",
            "18/18 [==============================] - 0s 3ms/step - loss: 0.0613 - accuracy: 0.9987 - val_loss: 0.1438 - val_accuracy: 0.9580\n",
            "Epoch 103/180\n",
            "18/18 [==============================] - 0s 3ms/step - loss: 0.0603 - accuracy: 0.9991 - val_loss: 0.1443 - val_accuracy: 0.9600\n",
            "Epoch 104/180\n",
            "18/18 [==============================] - 0s 3ms/step - loss: 0.0594 - accuracy: 0.9989 - val_loss: 0.1428 - val_accuracy: 0.9580\n",
            "Epoch 105/180\n",
            "18/18 [==============================] - 0s 3ms/step - loss: 0.0584 - accuracy: 0.9987 - val_loss: 0.1419 - val_accuracy: 0.9560\n",
            "Epoch 106/180\n",
            "18/18 [==============================] - 0s 3ms/step - loss: 0.0575 - accuracy: 0.9991 - val_loss: 0.1412 - val_accuracy: 0.9580\n",
            "Epoch 107/180\n",
            "18/18 [==============================] - 0s 3ms/step - loss: 0.0566 - accuracy: 0.9991 - val_loss: 0.1406 - val_accuracy: 0.9560\n",
            "Epoch 108/180\n",
            "18/18 [==============================] - 0s 3ms/step - loss: 0.0557 - accuracy: 0.9996 - val_loss: 0.1408 - val_accuracy: 0.9600\n",
            "Epoch 109/180\n",
            "18/18 [==============================] - 0s 3ms/step - loss: 0.0549 - accuracy: 0.9993 - val_loss: 0.1399 - val_accuracy: 0.9580\n",
            "Epoch 110/180\n",
            "18/18 [==============================] - 0s 3ms/step - loss: 0.0540 - accuracy: 0.9993 - val_loss: 0.1394 - val_accuracy: 0.9560\n",
            "Epoch 111/180\n",
            "18/18 [==============================] - 0s 3ms/step - loss: 0.0532 - accuracy: 0.9996 - val_loss: 0.1380 - val_accuracy: 0.9560\n",
            "Epoch 112/180\n",
            "18/18 [==============================] - 0s 3ms/step - loss: 0.0524 - accuracy: 0.9996 - val_loss: 0.1384 - val_accuracy: 0.9580\n",
            "Epoch 113/180\n",
            "18/18 [==============================] - 0s 3ms/step - loss: 0.0517 - accuracy: 0.9996 - val_loss: 0.1384 - val_accuracy: 0.9580\n",
            "Epoch 114/180\n",
            "18/18 [==============================] - 0s 3ms/step - loss: 0.0509 - accuracy: 0.9996 - val_loss: 0.1370 - val_accuracy: 0.9560\n",
            "Epoch 115/180\n",
            "18/18 [==============================] - 0s 3ms/step - loss: 0.0502 - accuracy: 0.9998 - val_loss: 0.1364 - val_accuracy: 0.9560\n",
            "Epoch 116/180\n",
            "18/18 [==============================] - 0s 3ms/step - loss: 0.0494 - accuracy: 0.9996 - val_loss: 0.1357 - val_accuracy: 0.9560\n",
            "Epoch 117/180\n",
            "18/18 [==============================] - 0s 5ms/step - loss: 0.0487 - accuracy: 0.9996 - val_loss: 0.1359 - val_accuracy: 0.9560\n",
            "Epoch 118/180\n",
            "18/18 [==============================] - 0s 3ms/step - loss: 0.0480 - accuracy: 0.9998 - val_loss: 0.1347 - val_accuracy: 0.9560\n",
            "Epoch 119/180\n",
            "18/18 [==============================] - 0s 3ms/step - loss: 0.0474 - accuracy: 0.9998 - val_loss: 0.1341 - val_accuracy: 0.9560\n",
            "Epoch 120/180\n",
            "18/18 [==============================] - 0s 3ms/step - loss: 0.0467 - accuracy: 0.9998 - val_loss: 0.1338 - val_accuracy: 0.9560\n",
            "Epoch 121/180\n",
            "18/18 [==============================] - 0s 3ms/step - loss: 0.0461 - accuracy: 0.9998 - val_loss: 0.1334 - val_accuracy: 0.9560\n",
            "Epoch 122/180\n",
            "18/18 [==============================] - 0s 3ms/step - loss: 0.0454 - accuracy: 1.0000 - val_loss: 0.1337 - val_accuracy: 0.9580\n",
            "Epoch 123/180\n",
            "18/18 [==============================] - 0s 3ms/step - loss: 0.0448 - accuracy: 0.9998 - val_loss: 0.1326 - val_accuracy: 0.9560\n",
            "Epoch 124/180\n",
            "18/18 [==============================] - 0s 3ms/step - loss: 0.0442 - accuracy: 1.0000 - val_loss: 0.1313 - val_accuracy: 0.9560\n",
            "Epoch 125/180\n",
            "18/18 [==============================] - 0s 3ms/step - loss: 0.0436 - accuracy: 1.0000 - val_loss: 0.1315 - val_accuracy: 0.9560\n",
            "Epoch 126/180\n",
            "18/18 [==============================] - 0s 3ms/step - loss: 0.0430 - accuracy: 1.0000 - val_loss: 0.1306 - val_accuracy: 0.9560\n",
            "Epoch 127/180\n",
            "18/18 [==============================] - 0s 3ms/step - loss: 0.0424 - accuracy: 1.0000 - val_loss: 0.1301 - val_accuracy: 0.9560\n",
            "Epoch 128/180\n",
            "18/18 [==============================] - 0s 3ms/step - loss: 0.0419 - accuracy: 1.0000 - val_loss: 0.1298 - val_accuracy: 0.9560\n",
            "Epoch 129/180\n",
            "18/18 [==============================] - 0s 3ms/step - loss: 0.0413 - accuracy: 1.0000 - val_loss: 0.1289 - val_accuracy: 0.9580\n",
            "Epoch 130/180\n",
            "18/18 [==============================] - 0s 3ms/step - loss: 0.0408 - accuracy: 1.0000 - val_loss: 0.1294 - val_accuracy: 0.9560\n",
            "Epoch 131/180\n",
            "18/18 [==============================] - 0s 4ms/step - loss: 0.0403 - accuracy: 1.0000 - val_loss: 0.1293 - val_accuracy: 0.9580\n",
            "Epoch 132/180\n",
            "18/18 [==============================] - 0s 3ms/step - loss: 0.0398 - accuracy: 1.0000 - val_loss: 0.1295 - val_accuracy: 0.9580\n",
            "Epoch 133/180\n",
            "18/18 [==============================] - 0s 3ms/step - loss: 0.0393 - accuracy: 1.0000 - val_loss: 0.1279 - val_accuracy: 0.9600\n",
            "Epoch 134/180\n",
            "18/18 [==============================] - 0s 3ms/step - loss: 0.0388 - accuracy: 1.0000 - val_loss: 0.1269 - val_accuracy: 0.9580\n",
            "Epoch 135/180\n",
            "18/18 [==============================] - 0s 3ms/step - loss: 0.0383 - accuracy: 1.0000 - val_loss: 0.1270 - val_accuracy: 0.9580\n",
            "Epoch 136/180\n",
            "18/18 [==============================] - 0s 3ms/step - loss: 0.0378 - accuracy: 1.0000 - val_loss: 0.1273 - val_accuracy: 0.9600\n",
            "Epoch 137/180\n",
            "18/18 [==============================] - 0s 3ms/step - loss: 0.0374 - accuracy: 1.0000 - val_loss: 0.1276 - val_accuracy: 0.9600\n",
            "Epoch 138/180\n",
            "18/18 [==============================] - 0s 4ms/step - loss: 0.0369 - accuracy: 1.0000 - val_loss: 0.1265 - val_accuracy: 0.9580\n",
            "Epoch 139/180\n",
            "18/18 [==============================] - 0s 3ms/step - loss: 0.0365 - accuracy: 1.0000 - val_loss: 0.1253 - val_accuracy: 0.9580\n",
            "Epoch 140/180\n",
            "18/18 [==============================] - 0s 3ms/step - loss: 0.0361 - accuracy: 1.0000 - val_loss: 0.1256 - val_accuracy: 0.9600\n",
            "Epoch 141/180\n",
            "18/18 [==============================] - 0s 3ms/step - loss: 0.0356 - accuracy: 1.0000 - val_loss: 0.1250 - val_accuracy: 0.9580\n",
            "Epoch 142/180\n",
            "18/18 [==============================] - 0s 3ms/step - loss: 0.0352 - accuracy: 1.0000 - val_loss: 0.1253 - val_accuracy: 0.9580\n",
            "Epoch 143/180\n",
            "18/18 [==============================] - 0s 3ms/step - loss: 0.0348 - accuracy: 1.0000 - val_loss: 0.1248 - val_accuracy: 0.9580\n",
            "Epoch 144/180\n",
            "18/18 [==============================] - 0s 3ms/step - loss: 0.0344 - accuracy: 1.0000 - val_loss: 0.1237 - val_accuracy: 0.9580\n",
            "Epoch 145/180\n",
            "18/18 [==============================] - 0s 3ms/step - loss: 0.0340 - accuracy: 1.0000 - val_loss: 0.1243 - val_accuracy: 0.9580\n",
            "Epoch 146/180\n",
            "18/18 [==============================] - 0s 3ms/step - loss: 0.0336 - accuracy: 1.0000 - val_loss: 0.1237 - val_accuracy: 0.9580\n",
            "Epoch 147/180\n",
            "18/18 [==============================] - 0s 3ms/step - loss: 0.0333 - accuracy: 1.0000 - val_loss: 0.1233 - val_accuracy: 0.9580\n",
            "Epoch 148/180\n",
            "18/18 [==============================] - 0s 3ms/step - loss: 0.0329 - accuracy: 1.0000 - val_loss: 0.1229 - val_accuracy: 0.9580\n",
            "Epoch 149/180\n",
            "18/18 [==============================] - 0s 3ms/step - loss: 0.0325 - accuracy: 1.0000 - val_loss: 0.1231 - val_accuracy: 0.9580\n",
            "Epoch 150/180\n",
            "18/18 [==============================] - 0s 3ms/step - loss: 0.0321 - accuracy: 1.0000 - val_loss: 0.1225 - val_accuracy: 0.9580\n",
            "Epoch 151/180\n",
            "18/18 [==============================] - 0s 3ms/step - loss: 0.0318 - accuracy: 1.0000 - val_loss: 0.1222 - val_accuracy: 0.9580\n",
            "Epoch 152/180\n",
            "18/18 [==============================] - 0s 3ms/step - loss: 0.0315 - accuracy: 1.0000 - val_loss: 0.1217 - val_accuracy: 0.9580\n",
            "Epoch 153/180\n",
            "18/18 [==============================] - 0s 3ms/step - loss: 0.0311 - accuracy: 1.0000 - val_loss: 0.1210 - val_accuracy: 0.9580\n",
            "Epoch 154/180\n",
            "18/18 [==============================] - 0s 3ms/step - loss: 0.0308 - accuracy: 1.0000 - val_loss: 0.1211 - val_accuracy: 0.9580\n",
            "Epoch 155/180\n",
            "18/18 [==============================] - 0s 3ms/step - loss: 0.0304 - accuracy: 1.0000 - val_loss: 0.1204 - val_accuracy: 0.9580\n",
            "Epoch 156/180\n",
            "18/18 [==============================] - 0s 3ms/step - loss: 0.0301 - accuracy: 1.0000 - val_loss: 0.1201 - val_accuracy: 0.9580\n",
            "Epoch 157/180\n",
            "18/18 [==============================] - 0s 3ms/step - loss: 0.0298 - accuracy: 1.0000 - val_loss: 0.1201 - val_accuracy: 0.9580\n",
            "Epoch 158/180\n",
            "18/18 [==============================] - 0s 3ms/step - loss: 0.0295 - accuracy: 1.0000 - val_loss: 0.1203 - val_accuracy: 0.9600\n",
            "Epoch 159/180\n",
            "18/18 [==============================] - 0s 3ms/step - loss: 0.0292 - accuracy: 1.0000 - val_loss: 0.1198 - val_accuracy: 0.9600\n",
            "Epoch 160/180\n",
            "18/18 [==============================] - 0s 3ms/step - loss: 0.0289 - accuracy: 1.0000 - val_loss: 0.1196 - val_accuracy: 0.9580\n",
            "Epoch 161/180\n",
            "18/18 [==============================] - 0s 3ms/step - loss: 0.0286 - accuracy: 1.0000 - val_loss: 0.1186 - val_accuracy: 0.9580\n",
            "Epoch 162/180\n",
            "18/18 [==============================] - 0s 3ms/step - loss: 0.0283 - accuracy: 1.0000 - val_loss: 0.1182 - val_accuracy: 0.9580\n",
            "Epoch 163/180\n",
            "18/18 [==============================] - 0s 3ms/step - loss: 0.0280 - accuracy: 1.0000 - val_loss: 0.1179 - val_accuracy: 0.9580\n",
            "Epoch 164/180\n",
            "18/18 [==============================] - 0s 3ms/step - loss: 0.0277 - accuracy: 1.0000 - val_loss: 0.1178 - val_accuracy: 0.9580\n",
            "Epoch 165/180\n",
            "18/18 [==============================] - 0s 3ms/step - loss: 0.0275 - accuracy: 1.0000 - val_loss: 0.1184 - val_accuracy: 0.9600\n",
            "Epoch 166/180\n",
            "18/18 [==============================] - 0s 4ms/step - loss: 0.0272 - accuracy: 1.0000 - val_loss: 0.1185 - val_accuracy: 0.9600\n",
            "Epoch 167/180\n",
            "18/18 [==============================] - 0s 3ms/step - loss: 0.0269 - accuracy: 1.0000 - val_loss: 0.1177 - val_accuracy: 0.9580\n",
            "Epoch 168/180\n",
            "18/18 [==============================] - 0s 3ms/step - loss: 0.0267 - accuracy: 1.0000 - val_loss: 0.1169 - val_accuracy: 0.9580\n",
            "Epoch 169/180\n",
            "18/18 [==============================] - 0s 3ms/step - loss: 0.0264 - accuracy: 1.0000 - val_loss: 0.1165 - val_accuracy: 0.9580\n",
            "Epoch 170/180\n",
            "18/18 [==============================] - 0s 3ms/step - loss: 0.0261 - accuracy: 1.0000 - val_loss: 0.1169 - val_accuracy: 0.9580\n",
            "Epoch 171/180\n",
            "18/18 [==============================] - 0s 3ms/step - loss: 0.0259 - accuracy: 1.0000 - val_loss: 0.1170 - val_accuracy: 0.9580\n",
            "Epoch 172/180\n",
            "18/18 [==============================] - 0s 3ms/step - loss: 0.0257 - accuracy: 1.0000 - val_loss: 0.1167 - val_accuracy: 0.9580\n",
            "Epoch 173/180\n",
            "18/18 [==============================] - 0s 3ms/step - loss: 0.0254 - accuracy: 1.0000 - val_loss: 0.1159 - val_accuracy: 0.9580\n",
            "Epoch 174/180\n",
            "18/18 [==============================] - 0s 3ms/step - loss: 0.0252 - accuracy: 1.0000 - val_loss: 0.1161 - val_accuracy: 0.9580\n",
            "Epoch 175/180\n",
            "18/18 [==============================] - 0s 3ms/step - loss: 0.0249 - accuracy: 1.0000 - val_loss: 0.1161 - val_accuracy: 0.9580\n",
            "Epoch 176/180\n",
            "18/18 [==============================] - 0s 3ms/step - loss: 0.0247 - accuracy: 1.0000 - val_loss: 0.1158 - val_accuracy: 0.9580\n",
            "Epoch 177/180\n",
            "18/18 [==============================] - 0s 3ms/step - loss: 0.0245 - accuracy: 1.0000 - val_loss: 0.1156 - val_accuracy: 0.9580\n",
            "Epoch 178/180\n",
            "18/18 [==============================] - 0s 3ms/step - loss: 0.0243 - accuracy: 1.0000 - val_loss: 0.1149 - val_accuracy: 0.9580\n",
            "Epoch 179/180\n",
            "18/18 [==============================] - 0s 3ms/step - loss: 0.0241 - accuracy: 1.0000 - val_loss: 0.1144 - val_accuracy: 0.9580\n",
            "Epoch 180/180\n",
            "18/18 [==============================] - 0s 4ms/step - loss: 0.0238 - accuracy: 1.0000 - val_loss: 0.1147 - val_accuracy: 0.9580\n",
            "AUC :  0.9941647028647462\n"
          ],
          "name": "stdout"
        }
      ]
    },
    {
      "cell_type": "code",
      "metadata": {
        "colab": {
          "base_uri": "https://localhost:8080/"
        },
        "id": "SS91Yh2ed_ZF",
        "outputId": "c9c3ffd9-7c97-4735-84cf-c064ca9315ec"
      },
      "source": [
        "#Linear(S) Randomized\n",
        "X_LR = X_MS.copy()\n",
        "X_LR[:,0] = shuffle(X_LR[:,0])\n",
        "x_train, y_train, x_val, y_val = split_data(X_LR,Y)\n",
        "#model = train(x_train, y_train, x_val, y_val)\n",
        "LR_logit_dist = get_logit_distribution(model,x_val, y_val)"
      ],
      "execution_count": null,
      "outputs": [
        {
          "output_type": "stream",
          "text": [
            "AUC :  0.9999519877088535\n"
          ],
          "name": "stdout"
        }
      ]
    },
    {
      "cell_type": "code",
      "metadata": {
        "colab": {
          "base_uri": "https://localhost:8080/"
        },
        "id": "xEgIOpyEd_ZG",
        "outputId": "7f13a6e9-bc61-4a7f-a965-1935b6de0194"
      },
      "source": [
        "#S complement  Randomized\n",
        "X_CR = X_MS.copy()\n",
        "for i in range(n_features-1):\n",
        "  X_CR[:,i+1] = shuffle(X_CR[:,i+1])\n",
        "x_train, y_train, x_val, y_val = split_data(X_CR,Y)\n",
        "#model = train(x_train, y_train, x_val, y_val)\n",
        "CR_logit_dist = get_logit_distribution(model,x_val, y_val)"
      ],
      "execution_count": null,
      "outputs": [
        {
          "output_type": "stream",
          "text": [
            "AUC :  0.542386712749616\n"
          ],
          "name": "stdout"
        }
      ]
    },
    {
      "cell_type": "code",
      "metadata": {
        "colab": {
          "base_uri": "https://localhost:8080/",
          "height": 282
        },
        "id": "p3GbMDcadnEg",
        "outputId": "3da0e227-ef67-4a61-b79c-fa684968ba04"
      },
      "source": [
        "plt.scatter(X_CR[:,0], X_CR[:,1], c= Y)"
      ],
      "execution_count": null,
      "outputs": [
        {
          "output_type": "execute_result",
          "data": {
            "text/plain": [
              "<matplotlib.collections.PathCollection at 0x7f68ba452e10>"
            ]
          },
          "metadata": {
            "tags": []
          },
          "execution_count": 33
        },
        {
          "output_type": "display_data",
          "data": {
            "image/png": "[encoded data removed]",
            "text/plain": [
              "<Figure size 432x288 with 1 Axes>"
            ]
          },
          "metadata": {
            "tags": [],
            "needs_background": "light"
          }
        }
      ]
    },
    {
      "cell_type": "code",
      "metadata": {
        "colab": {
          "base_uri": "https://localhost:8080/",
          "height": 513
        },
        "id": "BgHS8bc9oYGK",
        "outputId": "631c0d3c-e469-4f7e-db71-ec7b9c803ce0"
      },
      "source": [
        "plot_hist(original_logit_dist,LR_logit_dist, \"5 slab randomized\")\n",
        "plot_hist(original_logit_dist,CR_logit_dist, \"7 Slabs Randomized\")"
      ],
      "execution_count": null,
      "outputs": [
        {
          "output_type": "display_data",
          "data": {
            "image/png": "[encoded data removed]",
            "text/plain": [
              "<Figure size 432x288 with 1 Axes>"
            ]
          },
          "metadata": {
            "tags": [],
            "needs_background": "light"
          }
        },
        {
          "output_type": "display_data",
          "data": {
            "image/png": "[encoded data removed]",
            "text/plain": [
              "<Figure size 432x288 with 1 Axes>"
            ]
          },
          "metadata": {
            "tags": [],
            "needs_background": "light"
          }
        }
      ]
    },
    {
      "cell_type": "code",
      "metadata": {
        "colab": {
          "base_uri": "https://localhost:8080/",
          "height": 53
        },
        "id": "1-t-6ckMXtrN",
        "outputId": "c94c1ae3-ff99-4455-c525-9edafba90a8d"
      },
      "source": [
        "'''\n",
        "X_MS_test = X_MS.copy()\n",
        "#X_MS_test[:,0] = np.zeros(50000)#np.zeros(shape=(len(X_MS_test),49))\n",
        "X_MS_test[:,1:] = np.zeros(shape=(len(X_MS_test),49))\n",
        "\n",
        "#model.layers[-1].activation = \n",
        "y_mod = Y.copy()\n",
        "y_mod[y_mod == -1] = 0\n",
        "pred = model.predict(X_MS_test)\n",
        "\n",
        "model.evaluate(X_MS_test,y_mod)\n",
        "'''"
      ],
      "execution_count": null,
      "outputs": [
        {
          "output_type": "execute_result",
          "data": {
            "application/vnd.google.colaboratory.intrinsic+json": {
              "type": "string"
            },
            "text/plain": [
              "'\\nX_MS_test = X_MS.copy()\\n#X_MS_test[:,0] = np.zeros(50000)#np.zeros(shape=(len(X_MS_test),49))\\nX_MS_test[:,1:] = np.zeros(shape=(len(X_MS_test),49))\\n\\n#model.layers[-1].activation = \\ny_mod = Y.copy()\\ny_mod[y_mod == -1] = 0\\npred = model.predict(X_MS_test)\\n\\nmodel.evaluate(X_MS_test,y_mod)\\n'"
            ]
          },
          "metadata": {
            "tags": []
          },
          "execution_count": 35
        }
      ]
    },
    {
      "cell_type": "code",
      "metadata": {
        "colab": {
          "base_uri": "https://localhost:8080/"
        },
        "id": "bxQne8RjX0PK",
        "outputId": "7c4bd153-2e24-4d2b-b882-4079c410145e"
      },
      "source": [
        "X_reduced = X_CR[:,:2]\n",
        "x_train, y_train, x_val, y_val = split_data(X_reduced,Y)\n",
        "model = train(x_train, y_train, x_val, y_val,100)"
      ],
      "execution_count": null,
      "outputs": [
        {
          "output_type": "stream",
          "text": [
            "Epoch 1/100\n",
            "18/18 [==============================] - 0s 9ms/step - loss: 0.6932 - accuracy: 0.5587 - val_loss: 0.6889 - val_accuracy: 0.6200\n",
            "Epoch 2/100\n",
            "18/18 [==============================] - 0s 3ms/step - loss: 0.6896 - accuracy: 0.6051 - val_loss: 0.6865 - val_accuracy: 0.6080\n",
            "Epoch 3/100\n",
            "18/18 [==============================] - 0s 3ms/step - loss: 0.6868 - accuracy: 0.6253 - val_loss: 0.6844 - val_accuracy: 0.7080\n",
            "Epoch 4/100\n",
            "18/18 [==============================] - 0s 3ms/step - loss: 0.6844 - accuracy: 0.7027 - val_loss: 0.6826 - val_accuracy: 0.7100\n",
            "Epoch 5/100\n",
            "18/18 [==============================] - 0s 3ms/step - loss: 0.6822 - accuracy: 0.7209 - val_loss: 0.6809 - val_accuracy: 0.5880\n",
            "Epoch 6/100\n",
            "18/18 [==============================] - 0s 3ms/step - loss: 0.6800 - accuracy: 0.6760 - val_loss: 0.6793 - val_accuracy: 0.6680\n",
            "Epoch 7/100\n",
            "18/18 [==============================] - 0s 3ms/step - loss: 0.6776 - accuracy: 0.7078 - val_loss: 0.6772 - val_accuracy: 0.6600\n",
            "Epoch 8/100\n",
            "18/18 [==============================] - 0s 3ms/step - loss: 0.6752 - accuracy: 0.6871 - val_loss: 0.6753 - val_accuracy: 0.6640\n",
            "Epoch 9/100\n",
            "18/18 [==============================] - 0s 3ms/step - loss: 0.6728 - accuracy: 0.6967 - val_loss: 0.6730 - val_accuracy: 0.6860\n",
            "Epoch 10/100\n",
            "18/18 [==============================] - 0s 3ms/step - loss: 0.6702 - accuracy: 0.7084 - val_loss: 0.6708 - val_accuracy: 0.7440\n",
            "Epoch 11/100\n",
            "18/18 [==============================] - 0s 3ms/step - loss: 0.6674 - accuracy: 0.7300 - val_loss: 0.6680 - val_accuracy: 0.7400\n",
            "Epoch 12/100\n",
            "18/18 [==============================] - 0s 3ms/step - loss: 0.6644 - accuracy: 0.7673 - val_loss: 0.6652 - val_accuracy: 0.7220\n",
            "Epoch 13/100\n",
            "18/18 [==============================] - 0s 3ms/step - loss: 0.6611 - accuracy: 0.7518 - val_loss: 0.6622 - val_accuracy: 0.7660\n",
            "Epoch 14/100\n",
            "18/18 [==============================] - 0s 3ms/step - loss: 0.6574 - accuracy: 0.7813 - val_loss: 0.6586 - val_accuracy: 0.7960\n",
            "Epoch 15/100\n",
            "18/18 [==============================] - 0s 3ms/step - loss: 0.6532 - accuracy: 0.8236 - val_loss: 0.6546 - val_accuracy: 0.8300\n",
            "Epoch 16/100\n",
            "18/18 [==============================] - 0s 3ms/step - loss: 0.6486 - accuracy: 0.8444 - val_loss: 0.6498 - val_accuracy: 0.8380\n",
            "Epoch 17/100\n",
            "18/18 [==============================] - 0s 3ms/step - loss: 0.6434 - accuracy: 0.8480 - val_loss: 0.6449 - val_accuracy: 0.8480\n",
            "Epoch 18/100\n",
            "18/18 [==============================] - 0s 3ms/step - loss: 0.6375 - accuracy: 0.8669 - val_loss: 0.6391 - val_accuracy: 0.8820\n",
            "Epoch 19/100\n",
            "18/18 [==============================] - 0s 3ms/step - loss: 0.6311 - accuracy: 0.8776 - val_loss: 0.6329 - val_accuracy: 0.8520\n",
            "Epoch 20/100\n",
            "18/18 [==============================] - 0s 3ms/step - loss: 0.6241 - accuracy: 0.8736 - val_loss: 0.6258 - val_accuracy: 0.8780\n",
            "Epoch 21/100\n",
            "18/18 [==============================] - 0s 3ms/step - loss: 0.6160 - accuracy: 0.8847 - val_loss: 0.6181 - val_accuracy: 0.8920\n",
            "Epoch 22/100\n",
            "18/18 [==============================] - 0s 3ms/step - loss: 0.6074 - accuracy: 0.9098 - val_loss: 0.6089 - val_accuracy: 0.9140\n",
            "Epoch 23/100\n",
            "18/18 [==============================] - 0s 3ms/step - loss: 0.5973 - accuracy: 0.9244 - val_loss: 0.5993 - val_accuracy: 0.8820\n",
            "Epoch 24/100\n",
            "18/18 [==============================] - 0s 3ms/step - loss: 0.5862 - accuracy: 0.9222 - val_loss: 0.5875 - val_accuracy: 0.9460\n",
            "Epoch 25/100\n",
            "18/18 [==============================] - 0s 3ms/step - loss: 0.5743 - accuracy: 0.9584 - val_loss: 0.5756 - val_accuracy: 0.9480\n",
            "Epoch 26/100\n",
            "18/18 [==============================] - 0s 3ms/step - loss: 0.5610 - accuracy: 0.9593 - val_loss: 0.5616 - val_accuracy: 0.9740\n",
            "Epoch 27/100\n",
            "18/18 [==============================] - 0s 3ms/step - loss: 0.5462 - accuracy: 0.9833 - val_loss: 0.5467 - val_accuracy: 0.9640\n",
            "Epoch 28/100\n",
            "18/18 [==============================] - 0s 3ms/step - loss: 0.5299 - accuracy: 0.9829 - val_loss: 0.5292 - val_accuracy: 0.9840\n",
            "Epoch 29/100\n",
            "18/18 [==============================] - 0s 3ms/step - loss: 0.5120 - accuracy: 0.9913 - val_loss: 0.5102 - val_accuracy: 0.9980\n",
            "Epoch 30/100\n",
            "18/18 [==============================] - 0s 3ms/step - loss: 0.4924 - accuracy: 0.9984 - val_loss: 0.4898 - val_accuracy: 0.9980\n",
            "Epoch 31/100\n",
            "18/18 [==============================] - 0s 3ms/step - loss: 0.4713 - accuracy: 0.9993 - val_loss: 0.4674 - val_accuracy: 0.9980\n",
            "Epoch 32/100\n",
            "18/18 [==============================] - 0s 3ms/step - loss: 0.4479 - accuracy: 0.9996 - val_loss: 0.4420 - val_accuracy: 1.0000\n",
            "Epoch 33/100\n",
            "18/18 [==============================] - 0s 3ms/step - loss: 0.4231 - accuracy: 1.0000 - val_loss: 0.4154 - val_accuracy: 1.0000\n",
            "Epoch 34/100\n",
            "18/18 [==============================] - 0s 3ms/step - loss: 0.3962 - accuracy: 1.0000 - val_loss: 0.3865 - val_accuracy: 1.0000\n",
            "Epoch 35/100\n",
            "18/18 [==============================] - 0s 3ms/step - loss: 0.3682 - accuracy: 1.0000 - val_loss: 0.3578 - val_accuracy: 1.0000\n",
            "Epoch 36/100\n",
            "18/18 [==============================] - 0s 3ms/step - loss: 0.3395 - accuracy: 1.0000 - val_loss: 0.3277 - val_accuracy: 1.0000\n",
            "Epoch 37/100\n",
            "18/18 [==============================] - 0s 3ms/step - loss: 0.3105 - accuracy: 1.0000 - val_loss: 0.2982 - val_accuracy: 1.0000\n",
            "Epoch 38/100\n",
            "18/18 [==============================] - 0s 3ms/step - loss: 0.2819 - accuracy: 1.0000 - val_loss: 0.2707 - val_accuracy: 1.0000\n",
            "Epoch 39/100\n",
            "18/18 [==============================] - 0s 3ms/step - loss: 0.2545 - accuracy: 1.0000 - val_loss: 0.2421 - val_accuracy: 1.0000\n",
            "Epoch 40/100\n",
            "18/18 [==============================] - 0s 4ms/step - loss: 0.2286 - accuracy: 1.0000 - val_loss: 0.2175 - val_accuracy: 1.0000\n",
            "Epoch 41/100\n",
            "18/18 [==============================] - 0s 3ms/step - loss: 0.2045 - accuracy: 1.0000 - val_loss: 0.1937 - val_accuracy: 1.0000\n",
            "Epoch 42/100\n",
            "18/18 [==============================] - 0s 3ms/step - loss: 0.1829 - accuracy: 1.0000 - val_loss: 0.1730 - val_accuracy: 1.0000\n",
            "Epoch 43/100\n",
            "18/18 [==============================] - 0s 3ms/step - loss: 0.1630 - accuracy: 1.0000 - val_loss: 0.1540 - val_accuracy: 1.0000\n",
            "Epoch 44/100\n",
            "18/18 [==============================] - 0s 3ms/step - loss: 0.1458 - accuracy: 1.0000 - val_loss: 0.1378 - val_accuracy: 1.0000\n",
            "Epoch 45/100\n",
            "18/18 [==============================] - 0s 3ms/step - loss: 0.1304 - accuracy: 1.0000 - val_loss: 0.1235 - val_accuracy: 1.0000\n",
            "Epoch 46/100\n",
            "18/18 [==============================] - 0s 3ms/step - loss: 0.1172 - accuracy: 1.0000 - val_loss: 0.1108 - val_accuracy: 1.0000\n",
            "Epoch 47/100\n",
            "18/18 [==============================] - 0s 4ms/step - loss: 0.1056 - accuracy: 1.0000 - val_loss: 0.0999 - val_accuracy: 1.0000\n",
            "Epoch 48/100\n",
            "18/18 [==============================] - 0s 3ms/step - loss: 0.0954 - accuracy: 1.0000 - val_loss: 0.0904 - val_accuracy: 1.0000\n",
            "Epoch 49/100\n",
            "18/18 [==============================] - 0s 3ms/step - loss: 0.0866 - accuracy: 1.0000 - val_loss: 0.0824 - val_accuracy: 1.0000\n",
            "Epoch 50/100\n",
            "18/18 [==============================] - 0s 3ms/step - loss: 0.0790 - accuracy: 1.0000 - val_loss: 0.0751 - val_accuracy: 1.0000\n",
            "Epoch 51/100\n",
            "18/18 [==============================] - 0s 3ms/step - loss: 0.0722 - accuracy: 1.0000 - val_loss: 0.0690 - val_accuracy: 1.0000\n",
            "Epoch 52/100\n",
            "18/18 [==============================] - 0s 3ms/step - loss: 0.0663 - accuracy: 1.0000 - val_loss: 0.0632 - val_accuracy: 1.0000\n",
            "Epoch 53/100\n",
            "18/18 [==============================] - 0s 3ms/step - loss: 0.0611 - accuracy: 1.0000 - val_loss: 0.0589 - val_accuracy: 1.0000\n",
            "Epoch 54/100\n",
            "18/18 [==============================] - 0s 3ms/step - loss: 0.0565 - accuracy: 1.0000 - val_loss: 0.0539 - val_accuracy: 1.0000\n",
            "Epoch 55/100\n",
            "18/18 [==============================] - 0s 3ms/step - loss: 0.0523 - accuracy: 1.0000 - val_loss: 0.0503 - val_accuracy: 1.0000\n",
            "Epoch 56/100\n",
            "18/18 [==============================] - 0s 3ms/step - loss: 0.0486 - accuracy: 1.0000 - val_loss: 0.0470 - val_accuracy: 1.0000\n",
            "Epoch 57/100\n",
            "18/18 [==============================] - 0s 3ms/step - loss: 0.0453 - accuracy: 1.0000 - val_loss: 0.0436 - val_accuracy: 1.0000\n",
            "Epoch 58/100\n",
            "18/18 [==============================] - 0s 3ms/step - loss: 0.0424 - accuracy: 1.0000 - val_loss: 0.0407 - val_accuracy: 1.0000\n",
            "Epoch 59/100\n",
            "18/18 [==============================] - 0s 3ms/step - loss: 0.0397 - accuracy: 1.0000 - val_loss: 0.0382 - val_accuracy: 1.0000\n",
            "Epoch 60/100\n",
            "18/18 [==============================] - 0s 3ms/step - loss: 0.0373 - accuracy: 1.0000 - val_loss: 0.0360 - val_accuracy: 1.0000\n",
            "Epoch 61/100\n",
            "18/18 [==============================] - 0s 3ms/step - loss: 0.0351 - accuracy: 1.0000 - val_loss: 0.0341 - val_accuracy: 1.0000\n",
            "Epoch 62/100\n",
            "18/18 [==============================] - 0s 3ms/step - loss: 0.0331 - accuracy: 1.0000 - val_loss: 0.0321 - val_accuracy: 1.0000\n",
            "Epoch 63/100\n",
            "18/18 [==============================] - 0s 3ms/step - loss: 0.0313 - accuracy: 1.0000 - val_loss: 0.0303 - val_accuracy: 1.0000\n",
            "Epoch 64/100\n",
            "18/18 [==============================] - 0s 3ms/step - loss: 0.0297 - accuracy: 1.0000 - val_loss: 0.0288 - val_accuracy: 1.0000\n",
            "Epoch 65/100\n",
            "18/18 [==============================] - 0s 3ms/step - loss: 0.0282 - accuracy: 1.0000 - val_loss: 0.0274 - val_accuracy: 1.0000\n",
            "Epoch 66/100\n",
            "18/18 [==============================] - 0s 3ms/step - loss: 0.0268 - accuracy: 1.0000 - val_loss: 0.0260 - val_accuracy: 1.0000\n",
            "Epoch 67/100\n",
            "18/18 [==============================] - 0s 3ms/step - loss: 0.0255 - accuracy: 1.0000 - val_loss: 0.0248 - val_accuracy: 1.0000\n",
            "Epoch 68/100\n",
            "18/18 [==============================] - 0s 3ms/step - loss: 0.0243 - accuracy: 1.0000 - val_loss: 0.0235 - val_accuracy: 1.0000\n",
            "Epoch 69/100\n",
            "18/18 [==============================] - 0s 3ms/step - loss: 0.0232 - accuracy: 1.0000 - val_loss: 0.0226 - val_accuracy: 1.0000\n",
            "Epoch 70/100\n",
            "18/18 [==============================] - 0s 3ms/step - loss: 0.0222 - accuracy: 1.0000 - val_loss: 0.0215 - val_accuracy: 1.0000\n",
            "Epoch 71/100\n",
            "18/18 [==============================] - 0s 3ms/step - loss: 0.0213 - accuracy: 1.0000 - val_loss: 0.0206 - val_accuracy: 1.0000\n",
            "Epoch 72/100\n",
            "18/18 [==============================] - 0s 3ms/step - loss: 0.0204 - accuracy: 1.0000 - val_loss: 0.0198 - val_accuracy: 1.0000\n",
            "Epoch 73/100\n",
            "18/18 [==============================] - 0s 3ms/step - loss: 0.0196 - accuracy: 1.0000 - val_loss: 0.0191 - val_accuracy: 1.0000\n",
            "Epoch 74/100\n",
            "18/18 [==============================] - 0s 3ms/step - loss: 0.0188 - accuracy: 1.0000 - val_loss: 0.0183 - val_accuracy: 1.0000\n",
            "Epoch 75/100\n",
            "18/18 [==============================] - 0s 3ms/step - loss: 0.0181 - accuracy: 1.0000 - val_loss: 0.0176 - val_accuracy: 1.0000\n",
            "Epoch 76/100\n",
            "18/18 [==============================] - 0s 3ms/step - loss: 0.0174 - accuracy: 1.0000 - val_loss: 0.0170 - val_accuracy: 1.0000\n",
            "Epoch 77/100\n",
            "18/18 [==============================] - 0s 3ms/step - loss: 0.0168 - accuracy: 1.0000 - val_loss: 0.0163 - val_accuracy: 1.0000\n",
            "Epoch 78/100\n",
            "18/18 [==============================] - 0s 3ms/step - loss: 0.0162 - accuracy: 1.0000 - val_loss: 0.0158 - val_accuracy: 1.0000\n",
            "Epoch 79/100\n",
            "18/18 [==============================] - 0s 3ms/step - loss: 0.0156 - accuracy: 1.0000 - val_loss: 0.0152 - val_accuracy: 1.0000\n",
            "Epoch 80/100\n",
            "18/18 [==============================] - 0s 3ms/step - loss: 0.0151 - accuracy: 1.0000 - val_loss: 0.0147 - val_accuracy: 1.0000\n",
            "Epoch 81/100\n",
            "18/18 [==============================] - 0s 3ms/step - loss: 0.0146 - accuracy: 1.0000 - val_loss: 0.0142 - val_accuracy: 1.0000\n",
            "Epoch 82/100\n",
            "18/18 [==============================] - 0s 3ms/step - loss: 0.0141 - accuracy: 1.0000 - val_loss: 0.0138 - val_accuracy: 1.0000\n",
            "Epoch 83/100\n",
            "18/18 [==============================] - 0s 3ms/step - loss: 0.0137 - accuracy: 1.0000 - val_loss: 0.0134 - val_accuracy: 1.0000\n",
            "Epoch 84/100\n",
            "18/18 [==============================] - 0s 3ms/step - loss: 0.0133 - accuracy: 1.0000 - val_loss: 0.0129 - val_accuracy: 1.0000\n",
            "Epoch 85/100\n",
            "18/18 [==============================] - 0s 3ms/step - loss: 0.0129 - accuracy: 1.0000 - val_loss: 0.0126 - val_accuracy: 1.0000\n",
            "Epoch 86/100\n",
            "18/18 [==============================] - 0s 3ms/step - loss: 0.0125 - accuracy: 1.0000 - val_loss: 0.0122 - val_accuracy: 1.0000\n",
            "Epoch 87/100\n",
            "18/18 [==============================] - 0s 3ms/step - loss: 0.0122 - accuracy: 1.0000 - val_loss: 0.0118 - val_accuracy: 1.0000\n",
            "Epoch 88/100\n",
            "18/18 [==============================] - 0s 3ms/step - loss: 0.0118 - accuracy: 1.0000 - val_loss: 0.0115 - val_accuracy: 1.0000\n",
            "Epoch 89/100\n",
            "18/18 [==============================] - 0s 3ms/step - loss: 0.0115 - accuracy: 1.0000 - val_loss: 0.0112 - val_accuracy: 1.0000\n",
            "Epoch 90/100\n",
            "18/18 [==============================] - 0s 3ms/step - loss: 0.0112 - accuracy: 1.0000 - val_loss: 0.0109 - val_accuracy: 1.0000\n",
            "Epoch 91/100\n",
            "18/18 [==============================] - 0s 3ms/step - loss: 0.0109 - accuracy: 1.0000 - val_loss: 0.0106 - val_accuracy: 1.0000\n",
            "Epoch 92/100\n",
            "18/18 [==============================] - 0s 3ms/step - loss: 0.0106 - accuracy: 1.0000 - val_loss: 0.0103 - val_accuracy: 1.0000\n",
            "Epoch 93/100\n",
            "18/18 [==============================] - 0s 3ms/step - loss: 0.0103 - accuracy: 1.0000 - val_loss: 0.0101 - val_accuracy: 1.0000\n",
            "Epoch 94/100\n",
            "18/18 [==============================] - 0s 3ms/step - loss: 0.0101 - accuracy: 1.0000 - val_loss: 0.0098 - val_accuracy: 1.0000\n",
            "Epoch 95/100\n",
            "18/18 [==============================] - 0s 4ms/step - loss: 0.0098 - accuracy: 1.0000 - val_loss: 0.0096 - val_accuracy: 1.0000\n",
            "Epoch 96/100\n",
            "18/18 [==============================] - 0s 3ms/step - loss: 0.0096 - accuracy: 1.0000 - val_loss: 0.0094 - val_accuracy: 1.0000\n",
            "Epoch 97/100\n",
            "18/18 [==============================] - 0s 3ms/step - loss: 0.0094 - accuracy: 1.0000 - val_loss: 0.0091 - val_accuracy: 1.0000\n",
            "Epoch 98/100\n",
            "18/18 [==============================] - 0s 3ms/step - loss: 0.0091 - accuracy: 1.0000 - val_loss: 0.0089 - val_accuracy: 1.0000\n",
            "Epoch 99/100\n",
            "18/18 [==============================] - 0s 3ms/step - loss: 0.0089 - accuracy: 1.0000 - val_loss: 0.0087 - val_accuracy: 1.0000\n",
            "Epoch 100/100\n",
            "18/18 [==============================] - 0s 3ms/step - loss: 0.0087 - accuracy: 1.0000 - val_loss: 0.0085 - val_accuracy: 1.0000\n"
          ],
          "name": "stdout"
        }
      ]
    },
    {
      "cell_type": "code",
      "metadata": {
        "colab": {
          "base_uri": "https://localhost:8080/",
          "height": 287
        },
        "id": "pDqw-DCeX0Pc",
        "outputId": "a274439e-f81e-4f84-f38c-d3ef69c83551"
      },
      "source": [
        "plot_decision_boundary(X_LR,Y,model)"
      ],
      "execution_count": null,
      "outputs": [
        {
          "output_type": "display_data",
          "data": {
            "image/png": "[encoded data removed]",
            "text/plain": [
              "<Figure size 432x288 with 1 Axes>"
            ]
          },
          "metadata": {
            "tags": [],
            "needs_background": "light"
          }
        }
      ]
    },
    {
      "cell_type": "code",
      "metadata": {
        "colab": {
          "base_uri": "https://localhost:8080/",
          "height": 356
        },
        "id": "hhWsad7qvb1f",
        "outputId": "b5ece3fe-4e52-4151-8a0c-085196ca6d1c"
      },
      "source": [
        "\n",
        "from keras.datasets import mnist\n",
        "from matplotlib import pyplot\n",
        "# load dataset\n",
        "(trainX, trainy), (testX, testy) = mnist.load_data()\n",
        "# summarize loaded dataset\n",
        "print('Train: X=%s, y=%s' % (trainX.shape, trainy.shape))\n",
        "print('Test: X=%s, y=%s' % (testX.shape, testy.shape))\n",
        "# plot first few images\n",
        "for i in range(9):\n",
        "\t# define subplot\n",
        "\tpyplot.subplot(330 + 1 + i)\n",
        "\t# plot raw pixel data\n",
        "\tpyplot.imshow(trainX[i], cmap=pyplot.get_cmap('gray'))\n",
        "# show the figure\n",
        "pyplot.show()"
      ],
      "execution_count": null,
      "outputs": [
        {
          "output_type": "stream",
          "text": [
            "Downloading data from https://storage.googleapis.com/tensorflow/tf-keras-datasets/mnist.npz\n",
            "11493376/11490434 [==============================] - 0s 0us/step\n",
            "11501568/11490434 [==============================] - 0s 0us/step\n",
            "Train: X=(60000, 28, 28), y=(60000,)\n",
            "Test: X=(10000, 28, 28), y=(10000,)\n"
          ],
          "name": "stdout"
        },
        {
          "output_type": "display_data",
          "data": {
            "image/png": "[encoded data removed]",
            "text/plain": [
              "<Figure size 432x288 with 9 Axes>"
            ]
          },
          "metadata": {
            "tags": [],
            "needs_background": "light"
          }
        }
      ]
    },
    {
      "cell_type": "code",
      "metadata": {
        "id": "fQz6BO3u5Qdv"
      },
      "source": [
        "m_X= np.concatenate((trainX, testX), axis = 0)\n",
        "m_Y = np.concatenate((trainy, testy))\n",
        "\n",
        "m_temp_X = np.ndarray(shape=(len(m_X), 32, 32,3))\n",
        "for i in range(len(m_X)):\n",
        "  temp = np.pad(m_X[i],(2))\n",
        "  temp = np.stack((temp,)*3, axis=-1)\n",
        "  m_temp_X[i] = temp\n",
        "m_X = m_temp_X\n",
        "\n",
        "bool_mask_0 = m_Y == 1 #np.logical_or(m_Y == 0, m_Y == 1)\n",
        "bool_mask_1 = m_Y == 4\n",
        "bool_mask_0 = bool_mask_0.reshape((bool_mask_0.shape[0],))\n",
        "bool_mask_1 = bool_mask_1.reshape((bool_mask_1.shape[0],))\n",
        "\n",
        "m_X_0 = m_X[bool_mask_0]\n",
        "m_X_1 = m_X[bool_mask_1]\n",
        "\n",
        "m_Y_0 = m_Y[bool_mask_0]\n",
        "m_Y_1 = m_Y[bool_mask_1]\n"
      ],
      "execution_count": null,
      "outputs": []
    },
    {
      "cell_type": "code",
      "metadata": {
        "id": "tfZMjvgAvvz0",
        "colab": {
          "base_uri": "https://localhost:8080/",
          "height": 356
        },
        "outputId": "e27988cf-ffa2-4fdc-d49f-71ce108ec16f"
      },
      "source": [
        "#Automobile - 1 , Truck 9\n",
        "from matplotlib import pyplot\n",
        "from keras.datasets import cifar10\n",
        "# load dataset\n",
        "(trainX, trainy), (testX, testy) = cifar10.load_data()\n",
        "# summarize loaded dataset\n",
        "print('Train: X=%s, y=%s' % (trainX.shape, trainy.shape))\n",
        "print('Test: X=%s, y=%s' % (testX.shape, testy.shape))\n",
        "# plot first few images\n",
        "for i in range(9):\n",
        "\t# define subplot\n",
        "\tpyplot.subplot(330 + 1 + i)\n",
        "\t# plot raw pixel data\n",
        "\tpyplot.imshow(trainX[i])\n",
        "# show the figure\n",
        "pyplot.show()"
      ],
      "execution_count": null,
      "outputs": [
        {
          "output_type": "stream",
          "text": [
            "Downloading data from https://www.cs.toronto.edu/~kriz/cifar-10-python.tar.gz\n",
            "170500096/170498071 [==============================] - 11s 0us/step\n",
            "170508288/170498071 [==============================] - 11s 0us/step\n",
            "Train: X=(50000, 32, 32, 3), y=(50000, 1)\n",
            "Test: X=(10000, 32, 32, 3), y=(10000, 1)\n"
          ],
          "name": "stdout"
        },
        {
          "output_type": "display_data",
          "data": {
            "image/png": "[encoded data removed]",
            "text/plain": [
              "<Figure size 432x288 with 9 Axes>"
            ]
          },
          "metadata": {
            "tags": [],
            "needs_background": "light"
          }
        }
      ]
    },
    {
      "cell_type": "code",
      "metadata": {
        "id": "tBvWtGGtF0en"
      },
      "source": [
        "c_X= np.concatenate((trainX, testX))\n",
        "c_Y = np.concatenate((trainy, testy))\n",
        "\n",
        "bool_mask_0 = c_Y == 1 #np.logical_or(m_Y == 0, m_Y == 1)\n",
        "bool_mask_1 = c_Y == 9\n",
        "bool_mask_0 = bool_mask_0.reshape((bool_mask_0.shape[0],))\n",
        "bool_mask_1 = bool_mask_1.reshape((bool_mask_1.shape[0],))\n",
        "\n",
        "c_X_0 = c_X[bool_mask_0]\n",
        "c_X_1 = c_X[bool_mask_1]\n",
        "\n",
        "c_Y_0 = c_Y[bool_mask_0]\n",
        "c_Y_1 = c_Y[bool_mask_1]\n"
      ],
      "execution_count": null,
      "outputs": []
    },
    {
      "cell_type": "code",
      "metadata": {
        "id": "9PIlGa6p6nDo"
      },
      "source": [
        "min_class0 =  min(len(m_Y_0),  len(c_Y_0))\n",
        "min_class1 = min(len(m_Y_1),  len(c_Y_1))\n",
        "\n",
        "c_X_0 = shuffle(c_X_0)[:min_class0]\n",
        "c_X_1 = shuffle(c_X_1)[:min_class1]\n",
        "m_X_0 = shuffle(m_X_0)[:min_class0]\n",
        "m_X_1 = shuffle(m_X_1)[:min_class1]\n",
        "\n"
      ],
      "execution_count": null,
      "outputs": []
    },
    {
      "cell_type": "code",
      "metadata": {
        "id": "SxgPO8APE7kN"
      },
      "source": [
        "def get_m_c_data(randomization):\n",
        "  \n",
        "  #randomization = \"NR\" for NO Randomization , \"SR\" for S randomized, \"SCR\" for #S-Complement  randomized\n",
        "  \n",
        "  if randomization == \"NR\":\n",
        "    m_c_X_0 = np.ndarray(shape=(min_class0, 64, 32,3))\n",
        "    m_c_X_1 = np.ndarray(shape=(min_class1, 64, 32,3))\n",
        "    for i in range(min_class0):\n",
        "      temp = np.concatenate((m_X_0[i], c_X_0[i]), axis = 0)\n",
        "      m_c_X_0[i] = temp\n",
        "\n",
        "    for i in range(min_class1):\n",
        "      temp = np.concatenate((m_X_1[i], c_X_1[i]))\n",
        "      m_c_X_1[i] = temp\n",
        "\n",
        "    m_c_X = np.concatenate((m_c_X_0,m_c_X_1))\n",
        "    Y = np.concatenate(([0]*min_class0, [1]*min_class1))\n",
        "\n",
        "  \n",
        "  elif randomization == \"SR\":\n",
        "    c_X = np.concatenate((c_X_0,c_X_1))\n",
        "    Y = np.concatenate(([0]*min_class0, [1]*min_class1))\n",
        "    m_X = shuffle(np.concatenate((m_X_0,m_X_1)))\n",
        "    \n",
        "    m_c_X = np.ndarray(shape=(min_class0+min_class1, 64, 32,3))\n",
        "    for i in range(min_class0+min_class1):\n",
        "      temp = np.concatenate((m_X[i], c_X[i]), axis = 0)\n",
        "      m_c_X[i] = temp\n",
        "    \n",
        "    \n",
        "  elif randomization == \"SCR\":\n",
        "    m_X = np.concatenate((m_X_0,m_X_1))\n",
        "    Y = np.concatenate(([0]*min_class0, [1]*min_class1))\n",
        "    c_X = shuffle(np.concatenate((c_X_0,c_X_1)))\n",
        "    \n",
        "    m_c_X = np.ndarray(shape=(min_class0+min_class1, 64, 32,3))\n",
        "    for i in range(min_class0+min_class1):\n",
        "      temp = np.concatenate((m_X[i], c_X[i]), axis = 0)\n",
        "      m_c_X[i] = temp\n",
        "\n",
        "  m_c_X = m_c_X.astype(np.int32)\n",
        "  m_c_X, Y = shuffle(m_c_X, Y)\n",
        "  #m_c_X = m_c_X/255.0\n",
        "  return m_c_X, Y\n",
        "\n"
      ],
      "execution_count": null,
      "outputs": []
    },
    {
      "cell_type": "code",
      "metadata": {
        "colab": {
          "base_uri": "https://localhost:8080/",
          "height": 428
        },
        "id": "7PVprw0QKu_Y",
        "outputId": "4e9ebb81-3114-4b3d-fb1c-69f4005169a4"
      },
      "source": [
        "for i in range(9):\n",
        "\t# define subplot\n",
        "  pyplot.subplot(330 + 1 + i)\n",
        "\t# plot raw pixel data\n",
        "  x,y = get_m_c_data(\"SCR\")\n",
        "  pyplot.imshow(x[i])\n",
        "  print(y[i])\n",
        "# show the figure\n",
        "pyplot.show()"
      ],
      "execution_count": null,
      "outputs": [
        {
          "output_type": "stream",
          "text": [
            "0\n",
            "1\n",
            "0\n",
            "1\n",
            "1\n",
            "1\n",
            "1\n",
            "1\n",
            "0\n"
          ],
          "name": "stdout"
        },
        {
          "output_type": "display_data",
          "data": {
            "image/png": "[encoded data removed]",
            "text/plain": [
              "<Figure size 432x288 with 9 Axes>"
            ]
          },
          "metadata": {
            "tags": [],
            "needs_background": "light"
          }
        }
      ]
    },
    {
      "cell_type": "code",
      "metadata": {
        "id": "5V_6xb-bVkFa"
      },
      "source": [
        "m_c_X, Y = get_m_c_data(\"NR\")\n",
        "x_train, x_val, y_train, y_val = train_test_split(m_c_X, Y, train_size=0.9)"
      ],
      "execution_count": null,
      "outputs": []
    },
    {
      "cell_type": "code",
      "metadata": {
        "id": "OmerQKitSq7o",
        "colab": {
          "base_uri": "https://localhost:8080/"
        },
        "outputId": "dc829bf4-2eeb-4fda-d9a2-631af0192521"
      },
      "source": [
        "base_model = keras.applications.ResNet50(\n",
        "    weights='imagenet',  # Load weights pre-trained on ImageNet.\n",
        "    input_shape=(64, 32, 3),\n",
        "    include_top=False)"
      ],
      "execution_count": null,
      "outputs": [
        {
          "output_type": "stream",
          "text": [
            "Downloading data from https://storage.googleapis.com/tensorflow/keras-applications/resnet/resnet50_weights_tf_dim_ordering_tf_kernels_notop.h5\n",
            "94773248/94765736 [==============================] - 3s 0us/step\n"
          ],
          "name": "stdout"
        }
      ]
    },
    {
      "cell_type": "code",
      "metadata": {
        "id": "sDk9PJgrS91T"
      },
      "source": [
        "base_model.trainable = False\n",
        "inputs = keras.Input(shape=(64, 32, 3))\n",
        "x = keras.layers.experimental.preprocessing.Rescaling(scale=1.0 / 255)(inputs)\n",
        "x = base_model(x, training=False)\n",
        "x = keras.layers.GlobalAveragePooling2D()(x)\n",
        "outputs = keras.layers.Dense(1, kernel_regularizer = keras.regularizers.l2(5*1e-7))(x)\n",
        "model = keras.Model(inputs, outputs)"
      ],
      "execution_count": null,
      "outputs": []
    },
    {
      "cell_type": "code",
      "metadata": {
        "colab": {
          "base_uri": "https://localhost:8080/"
        },
        "id": "x0Z_qMSwTQjh",
        "outputId": "a012e53d-0c8d-43a5-dcfd-b9db195300a1"
      },
      "source": [
        "model.compile(optimizer=keras.optimizers.SGD(learning_rate=.1, momentum=.9),loss=keras.losses.BinaryCrossentropy(from_logits=True),metrics=[keras.metrics.BinaryAccuracy()])\n",
        "model.fit(x_train,y_train,batch_size = 256, epochs=20)"
      ],
      "execution_count": null,
      "outputs": [
        {
          "output_type": "stream",
          "text": [
            "Epoch 1/20\n",
            "43/43 [==============================] - 17s 36ms/step - loss: 3.1676 - binary_accuracy: 0.8147\n",
            "Epoch 2/20\n",
            "43/43 [==============================] - 1s 33ms/step - loss: 0.3007 - binary_accuracy: 0.9593\n",
            "Epoch 3/20\n",
            "43/43 [==============================] - 1s 33ms/step - loss: 0.2333 - binary_accuracy: 0.9664\n",
            "Epoch 4/20\n",
            "43/43 [==============================] - 1s 33ms/step - loss: 0.1989 - binary_accuracy: 0.9638\n",
            "Epoch 5/20\n",
            "43/43 [==============================] - 1s 33ms/step - loss: 0.1698 - binary_accuracy: 0.9681\n",
            "Epoch 6/20\n",
            "43/43 [==============================] - 1s 33ms/step - loss: 0.2709 - binary_accuracy: 0.9480\n",
            "Epoch 7/20\n",
            "43/43 [==============================] - 1s 33ms/step - loss: 0.1128 - binary_accuracy: 0.9778\n",
            "Epoch 8/20\n",
            "43/43 [==============================] - 1s 33ms/step - loss: 0.1193 - binary_accuracy: 0.9744\n",
            "Epoch 9/20\n",
            "43/43 [==============================] - 1s 33ms/step - loss: 0.0822 - binary_accuracy: 0.9800\n",
            "Epoch 10/20\n",
            "43/43 [==============================] - 1s 33ms/step - loss: 0.1045 - binary_accuracy: 0.9725\n",
            "Epoch 11/20\n",
            "43/43 [==============================] - 1s 33ms/step - loss: 0.0825 - binary_accuracy: 0.9777\n",
            "Epoch 12/20\n",
            "43/43 [==============================] - 1s 33ms/step - loss: 0.0672 - binary_accuracy: 0.9816\n",
            "Epoch 13/20\n",
            "43/43 [==============================] - 1s 33ms/step - loss: 0.0486 - binary_accuracy: 0.9853\n",
            "Epoch 14/20\n",
            "43/43 [==============================] - 1s 33ms/step - loss: 0.0586 - binary_accuracy: 0.9812\n",
            "Epoch 15/20\n",
            "43/43 [==============================] - 1s 33ms/step - loss: 0.0429 - binary_accuracy: 0.9857\n",
            "Epoch 16/20\n",
            "43/43 [==============================] - 1s 33ms/step - loss: 0.0360 - binary_accuracy: 0.9874\n",
            "Epoch 17/20\n",
            "43/43 [==============================] - 1s 33ms/step - loss: 1.0926 - binary_accuracy: 0.8704\n",
            "Epoch 18/20\n",
            "43/43 [==============================] - 1s 33ms/step - loss: 0.3213 - binary_accuracy: 0.9572\n",
            "Epoch 19/20\n",
            "43/43 [==============================] - 1s 33ms/step - loss: 0.2344 - binary_accuracy: 0.9663\n",
            "Epoch 20/20\n",
            "43/43 [==============================] - 1s 33ms/step - loss: 0.1277 - binary_accuracy: 0.9781\n"
          ],
          "name": "stdout"
        },
        {
          "output_type": "execute_result",
          "data": {
            "text/plain": [
              "<tensorflow.python.keras.callbacks.History at 0x7f68528008d0>"
            ]
          },
          "metadata": {
            "tags": []
          },
          "execution_count": 48
        }
      ]
    },
    {
      "cell_type": "code",
      "metadata": {
        "colab": {
          "base_uri": "https://localhost:8080/"
        },
        "id": "cvG9_GPqW8ck",
        "outputId": "20d6fcbd-3d9d-4a2a-91e7-0b0193ed5b56"
      },
      "source": [
        "original_logit_dist = get_logit_distribution(model,m_c_X,Y)"
      ],
      "execution_count": null,
      "outputs": [
        {
          "output_type": "stream",
          "text": [
            "AUC :  0.9974373611111111\n"
          ],
          "name": "stdout"
        }
      ]
    },
    {
      "cell_type": "markdown",
      "metadata": {
        "id": "W1mUJb_QXcmh"
      },
      "source": [
        "S(MNIST) Randomized"
      ]
    },
    {
      "cell_type": "code",
      "metadata": {
        "colab": {
          "base_uri": "https://localhost:8080/",
          "height": 286
        },
        "id": "wCmVfSGFi-Sd",
        "outputId": "cccf73e1-e9d7-444a-b5e1-c75c0c2f9ecd"
      },
      "source": [
        "m_c_X, Y = get_m_c_data(\"SR\")\n",
        "LR_logit_dist = get_logit_distribution(model,m_c_X,Y)\n",
        "plot_hist(original_logit_dist,LR_logit_dist, \"MNIST Randomized\")"
      ],
      "execution_count": null,
      "outputs": [
        {
          "output_type": "stream",
          "text": [
            "AUC :  0.5210886805555556\n"
          ],
          "name": "stdout"
        },
        {
          "output_type": "display_data",
          "data": {
            "image/png": "[encoded data removed]",
            "text/plain": [
              "<Figure size 432x288 with 1 Axes>"
            ]
          },
          "metadata": {
            "tags": [],
            "needs_background": "light"
          }
        }
      ]
    },
    {
      "cell_type": "markdown",
      "metadata": {
        "id": "5GkJbcAzkrLz"
      },
      "source": [
        "SC(CIFAR) Randomized"
      ]
    },
    {
      "cell_type": "code",
      "metadata": {
        "colab": {
          "base_uri": "https://localhost:8080/",
          "height": 286
        },
        "id": "5G5uBoSKkmBW",
        "outputId": "5951c9c6-998f-4ecb-b83f-7a145ed65934"
      },
      "source": [
        "m_c_X, Y = get_m_c_data(\"SCR\")\n",
        "LR_logit_dist = get_logit_distribution(model,m_c_X,Y)\n",
        "plot_hist(original_logit_dist,LR_logit_dist, \"CIFAR Randomized\")"
      ],
      "execution_count": null,
      "outputs": [
        {
          "output_type": "stream",
          "text": [
            "AUC :  0.996929\n"
          ],
          "name": "stdout"
        },
        {
          "output_type": "display_data",
          "data": {
            "image/png": "[encoded data removed]",
            "text/plain": [
              "<Figure size 432x288 with 1 Axes>"
            ]
          },
          "metadata": {
            "tags": [],
            "needs_background": "light"
          }
        }
      ]
    }
  ]
}